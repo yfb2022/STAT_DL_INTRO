{
  "nbformat": 4,
  "nbformat_minor": 0,
  "metadata": {
    "kernelspec": {
      "name": "python3",
      "display_name": "Python 3"
    },
    "language_info": {
      "codemirror_mode": {
        "name": "ipython",
        "version": 3
      },
      "file_extension": ".py",
      "mimetype": "text/x-python",
      "name": "python",
      "nbconvert_exporter": "python",
      "pygments_lexer": "ipython3",
      "version": "3.5.2"
    },
    "colab": {
      "provenance": [],
      "include_colab_link": true
    }
  },
  "cells": [
    {
      "cell_type": "markdown",
      "metadata": {
        "id": "view-in-github",
        "colab_type": "text"
      },
      "source": [
        "<a href=\"https://colab.research.google.com/github/yfb2022/STAT_DL_INTRO/blob/main/4_4_overfitting_and_underfitting.ipynb\" target=\"_parent\"><img src=\"https://colab.research.google.com/assets/colab-badge.svg\" alt=\"Open In Colab\"/></a>"
      ]
    },
    {
      "cell_type": "code",
      "metadata": {
        "id": "sNtWPPpaTGD1",
        "colab": {
          "base_uri": "https://localhost:8080/",
          "height": 35
        },
        "outputId": "03fca999-d53c-479b-e75b-57805040bd94"
      },
      "source": [
        "import keras\n",
        "keras.__version__"
      ],
      "execution_count": 1,
      "outputs": [
        {
          "output_type": "execute_result",
          "data": {
            "text/plain": [
              "'2.15.0'"
            ],
            "application/vnd.google.colaboratory.intrinsic+json": {
              "type": "string"
            }
          },
          "metadata": {},
          "execution_count": 1
        }
      ]
    },
    {
      "cell_type": "markdown",
      "metadata": {
        "id": "HGGiBPITTGD9"
      },
      "source": [
        "# Overfitting and underfitting\n",
        "\n",
        "과적합은 모든 기계 학습 문제에서 발생. 과적합을 처리하는 방법을 배우는 것은 기계 학습을 마스터하는 데 필수적임.\n",
        "\n",
        "머신러닝의 근본적인 문제는 최적화와 일반화 사이의 Trade-off\n",
        "\n",
        "\"최적화\"는 훈련 데이터에서 가능한 최고의 성능을 얻기 위해 모델을 조정하는 프로세스\n",
        "\n",
        "\"일반화\"는 훈련된 모델이 보유한 데이터에서 얼마나 잘 수행되는지를 의미.\n",
        "\n",
        "목표 : 훈련 데이터 기반으로 모델을 조정하여 좋은 일반화를 얻는 것\n",
        "\n",
        "학습 초기에는 학습 데이터의 손실이 낮을수록 테스트 데이터의 손실도 낮아지지만 특정 Epoch 이후 성능이 저하되고 과적합되기 시작함. 즉, 학습 데이터에 특정한 패턴을 배우지만 새로운 데이터에 적합하지 않음.\n",
        "\n",
        "최선의 해결책은 더 많은 훈련 데이터를 얻는 것. 더 많은 데이터에 대해 훈련된 모델은 자연스럽게 더 잘 일반화됩니다. 더 이상 가능하지 않은 경우 차선책은 모델이 저장할 수 있는 정보(파라미터)의 양을 조절하거나 저장할 수 있는 정보(파라미터)에 대한 제약 조건을 추가하는 것.\n",
        "\n",
        "이러한 방식으로 과적합을 방지하는 처리를 정규화 라고 합니다."
      ]
    },
    {
      "cell_type": "markdown",
      "source": [
        "### 일반화와 최적화 사이의 관계를 고려해야하며 오버피팅을 막을 수 있는 방법 중 학습 데이터 증가 / 정규화가 있다."
      ],
      "metadata": {
        "id": "Osxhc65zI3AG"
      }
    },
    {
      "cell_type": "code",
      "metadata": {
        "id": "PYkceF87TGEB",
        "colab": {
          "base_uri": "https://localhost:8080/"
        },
        "outputId": "51f546cf-c0fd-4383-e285-c889697b87d8"
      },
      "source": [
        "## 데이터 변환\n",
        "from keras.datasets import imdb\n",
        "import numpy as np\n",
        "\n",
        "# 리스트 배열\n",
        "(train_data, train_labels), (test_data, test_labels) = imdb.load_data(num_words=10000)\n",
        "\n",
        "# 벡터화\n",
        "def vectorize_sequences(sequences, dimension=10000):\n",
        "    # Create an all-zero matrix of shape (len(sequences), dimension)\n",
        "    results = np.zeros((len(sequences), dimension))\n",
        "    for i, sequence in enumerate(sequences):\n",
        "        results[i, sequence] = 1.  # set specific indices of results[i] to 1s\n",
        "    return results\n",
        "\n",
        "# Our vectorized training data\n",
        "x_train = vectorize_sequences(train_data)\n",
        "# Our vectorized test data\n",
        "x_test = vectorize_sequences(test_data)\n",
        "# Our vectorized labels (target)\n",
        "y_train = np.asarray(train_labels).astype('float32') # as.numeric\n",
        "y_test = np.asarray(test_labels).astype('float32')"
      ],
      "execution_count": 2,
      "outputs": [
        {
          "output_type": "stream",
          "name": "stdout",
          "text": [
            "Downloading data from https://storage.googleapis.com/tensorflow/tf-keras-datasets/imdb.npz\n",
            "17464789/17464789 [==============================] - 0s 0us/step\n"
          ]
        }
      ]
    },
    {
      "cell_type": "markdown",
      "metadata": {
        "id": "CqQGejBqTGEG"
      },
      "source": [
        "# Fighting overfitting\n",
        "\n",
        "## Reducing the network's size\n",
        "\n",
        "과적합을 방지하는 가장 간단한 방법은 모델의 크기, 즉 모델에서 학습 가능한 매개변수의 수(레이어 수와 레이어당 단위 수에 의해 결정됨)를 줄이는 것.\n",
        "\n",
        "딥러닝에서는 모델의 학습 가능한 매개변수 수를 종종 모델의 \"용량\"이라고 합니다.\n",
        "\n",
        "직관적으로 더 많은 매개변수를 가진 모델은 더 많은 \"기억 용량\"을 갖게 되므로 일반화 능력이 없는 매핑인 훈련 샘플과 해당 목표 간의 매핑을 쉽게 학습할 수 있습니다.\n",
        "\n",
        "이처럼 딥 러닝 모델은 훈련 데이터에 잘 적응하는 경향이 있지만 실제 과제는 피팅이 아니라 일반화임.\n",
        "\n",
        "반면에 네트워크의 기억 자원이 제한되어 있으면 이 매핑을 쉽게 학습할 수 없으므로 손실을 최소화하기 위해 예측력이 있는 압축 표현을 학습해야 합니다.\n",
        "\n",
        "또한 동시에 과소적합되지 않을 만큼 충분한 매개변수가 있는 모델을 사용해야 함.\n",
        "\n",
        "적절한 레이어 수나 각 레이어의 적절한 크기를 결정하는 공식은 없음. 그렇기에 데이터에 적합한 모델 크기를 찾으려면 다양한 아키텍처 배열(물론 테스트 세트가 아닌 검증 세트에서)을 평가해야 함.\n",
        "\n",
        "적절한 모델 크기를 찾는 일반적인 작업 흐름은 상대적으로 적은 수의 레이어와 매개변수로 시작하여 검증 손실과 관련된 성능이 감소할 때까지 레이어 크기를 늘리거나 새 레이어를 추가하는 것."
      ]
    },
    {
      "cell_type": "code",
      "metadata": {
        "id": "1M-hAZsHTGEH"
      },
      "source": [
        "# Baseline Network\n",
        "from keras import models\n",
        "from keras import layers\n",
        "\n",
        "original_model = models.Sequential()\n",
        "original_model.add(layers.Dense(16, activation='relu', input_shape=(10000,)))\n",
        "original_model.add(layers.Dense(16, activation='relu'))\n",
        "original_model.add(layers.Dense(1, activation='sigmoid'))\n",
        "\n",
        "original_model.compile(optimizer='rmsprop',\n",
        "                       loss='binary_crossentropy',\n",
        "                       metrics=['acc'])"
      ],
      "execution_count": 3,
      "outputs": []
    },
    {
      "cell_type": "markdown",
      "metadata": {
        "id": "4UH6aqvYTGEM"
      },
      "source": [
        "작은 네트워크 모델부터 시작"
      ]
    },
    {
      "cell_type": "code",
      "metadata": {
        "id": "xH8pIYyrTGEO"
      },
      "source": [
        "smaller_model = models.Sequential()\n",
        "smaller_model.add(layers.Dense(4, activation='relu', input_shape=(10000,)))\n",
        "smaller_model.add(layers.Dense(4, activation='relu'))\n",
        "smaller_model.add(layers.Dense(1, activation='sigmoid'))\n",
        "\n",
        "smaller_model.compile(optimizer='rmsprop',\n",
        "                      loss='binary_crossentropy',\n",
        "                      metrics=['acc'])"
      ],
      "execution_count": 4,
      "outputs": []
    },
    {
      "cell_type": "markdown",
      "metadata": {
        "id": "w_ABcE7mTGES"
      },
      "source": [
        "\n",
        "Here's a comparison of the validation losses of the original network and the smaller network. The dots are the validation loss values of\n",
        "the smaller network, and the crosses are the initial network (remember: a lower validation loss signals a better model)."
      ]
    },
    {
      "cell_type": "code",
      "metadata": {
        "id": "u-CQBgDmTGEU",
        "colab": {
          "base_uri": "https://localhost:8080/"
        },
        "outputId": "e7a152a7-138a-4d1f-9c9f-6c763b018526"
      },
      "source": [
        "original_hist = original_model.fit(x_train, y_train,\n",
        "                                   epochs=20,\n",
        "                                   batch_size=512,\n",
        "                                   validation_data=(x_test, y_test))"
      ],
      "execution_count": 5,
      "outputs": [
        {
          "output_type": "stream",
          "name": "stdout",
          "text": [
            "Epoch 1/20\n",
            "49/49 [==============================] - 6s 85ms/step - loss: 0.4836 - acc: 0.8054 - val_loss: 0.3686 - val_acc: 0.8705\n",
            "Epoch 2/20\n",
            "49/49 [==============================] - 2s 38ms/step - loss: 0.2844 - acc: 0.9033 - val_loss: 0.2899 - val_acc: 0.8892\n",
            "Epoch 3/20\n",
            "49/49 [==============================] - 2s 37ms/step - loss: 0.2199 - acc: 0.9222 - val_loss: 0.2849 - val_acc: 0.8866\n",
            "Epoch 4/20\n",
            "49/49 [==============================] - 3s 58ms/step - loss: 0.1858 - acc: 0.9338 - val_loss: 0.2980 - val_acc: 0.8791\n",
            "Epoch 5/20\n",
            "49/49 [==============================] - 2s 46ms/step - loss: 0.1648 - acc: 0.9403 - val_loss: 0.2932 - val_acc: 0.8849\n",
            "Epoch 6/20\n",
            "49/49 [==============================] - 2s 35ms/step - loss: 0.1466 - acc: 0.9496 - val_loss: 0.3068 - val_acc: 0.8814\n",
            "Epoch 7/20\n",
            "49/49 [==============================] - 2s 35ms/step - loss: 0.1324 - acc: 0.9545 - val_loss: 0.3652 - val_acc: 0.8659\n",
            "Epoch 8/20\n",
            "49/49 [==============================] - 2s 36ms/step - loss: 0.1213 - acc: 0.9581 - val_loss: 0.3448 - val_acc: 0.8748\n",
            "Epoch 9/20\n",
            "49/49 [==============================] - 2s 36ms/step - loss: 0.1083 - acc: 0.9628 - val_loss: 0.3686 - val_acc: 0.8722\n",
            "Epoch 10/20\n",
            "49/49 [==============================] - 2s 36ms/step - loss: 0.1005 - acc: 0.9666 - val_loss: 0.3808 - val_acc: 0.8701\n",
            "Epoch 11/20\n",
            "49/49 [==============================] - 3s 54ms/step - loss: 0.0913 - acc: 0.9704 - val_loss: 0.4014 - val_acc: 0.8689\n",
            "Epoch 12/20\n",
            "49/49 [==============================] - 2s 48ms/step - loss: 0.0837 - acc: 0.9720 - val_loss: 0.4249 - val_acc: 0.8670\n",
            "Epoch 13/20\n",
            "49/49 [==============================] - 2s 34ms/step - loss: 0.0763 - acc: 0.9752 - val_loss: 0.4435 - val_acc: 0.8650\n",
            "Epoch 14/20\n",
            "49/49 [==============================] - 2s 36ms/step - loss: 0.0679 - acc: 0.9792 - val_loss: 0.5402 - val_acc: 0.8495\n",
            "Epoch 15/20\n",
            "49/49 [==============================] - 2s 35ms/step - loss: 0.0643 - acc: 0.9794 - val_loss: 0.4951 - val_acc: 0.8606\n",
            "Epoch 16/20\n",
            "49/49 [==============================] - 2s 36ms/step - loss: 0.0566 - acc: 0.9827 - val_loss: 0.5135 - val_acc: 0.8619\n",
            "Epoch 17/20\n",
            "49/49 [==============================] - 2s 36ms/step - loss: 0.0515 - acc: 0.9848 - val_loss: 0.5545 - val_acc: 0.8560\n",
            "Epoch 18/20\n",
            "49/49 [==============================] - 2s 51ms/step - loss: 0.0455 - acc: 0.9876 - val_loss: 0.5862 - val_acc: 0.8545\n",
            "Epoch 19/20\n",
            "49/49 [==============================] - 2s 49ms/step - loss: 0.0413 - acc: 0.9884 - val_loss: 0.6290 - val_acc: 0.8514\n",
            "Epoch 20/20\n",
            "49/49 [==============================] - 2s 36ms/step - loss: 0.0386 - acc: 0.9893 - val_loss: 0.6192 - val_acc: 0.8562\n"
          ]
        }
      ]
    },
    {
      "cell_type": "code",
      "metadata": {
        "id": "1a3AtpsMTGEY",
        "colab": {
          "base_uri": "https://localhost:8080/"
        },
        "outputId": "fc3ad14b-21c5-44a0-9238-a71bb89ea11b"
      },
      "source": [
        "smaller_model_hist = smaller_model.fit(x_train, y_train,\n",
        "                                       epochs=20,\n",
        "                                       batch_size=512,\n",
        "                                       validation_data=(x_test, y_test))"
      ],
      "execution_count": 6,
      "outputs": [
        {
          "output_type": "stream",
          "name": "stdout",
          "text": [
            "Epoch 1/20\n",
            "49/49 [==============================] - 6s 106ms/step - loss: 0.5814 - acc: 0.7376 - val_loss: 0.4993 - val_acc: 0.8316\n",
            "Epoch 2/20\n",
            "49/49 [==============================] - 2s 35ms/step - loss: 0.4177 - acc: 0.8766 - val_loss: 0.3874 - val_acc: 0.8694\n",
            "Epoch 3/20\n",
            "49/49 [==============================] - 2s 36ms/step - loss: 0.3093 - acc: 0.9073 - val_loss: 0.3191 - val_acc: 0.8857\n",
            "Epoch 4/20\n",
            "49/49 [==============================] - 2s 36ms/step - loss: 0.2453 - acc: 0.9206 - val_loss: 0.2901 - val_acc: 0.8905\n",
            "Epoch 5/20\n",
            "49/49 [==============================] - 2s 35ms/step - loss: 0.2090 - acc: 0.9311 - val_loss: 0.2807 - val_acc: 0.8894\n",
            "Epoch 6/20\n",
            "49/49 [==============================] - 2s 35ms/step - loss: 0.1859 - acc: 0.9382 - val_loss: 0.2812 - val_acc: 0.8869\n",
            "Epoch 7/20\n",
            "49/49 [==============================] - 2s 50ms/step - loss: 0.1685 - acc: 0.9438 - val_loss: 0.2830 - val_acc: 0.8871\n",
            "Epoch 8/20\n",
            "49/49 [==============================] - 3s 59ms/step - loss: 0.1539 - acc: 0.9495 - val_loss: 0.2893 - val_acc: 0.8852\n",
            "Epoch 9/20\n",
            "49/49 [==============================] - 2s 34ms/step - loss: 0.1418 - acc: 0.9550 - val_loss: 0.2979 - val_acc: 0.8827\n",
            "Epoch 10/20\n",
            "49/49 [==============================] - 2s 35ms/step - loss: 0.1319 - acc: 0.9577 - val_loss: 0.3125 - val_acc: 0.8784\n",
            "Epoch 11/20\n",
            "49/49 [==============================] - 3s 63ms/step - loss: 0.1232 - acc: 0.9614 - val_loss: 0.3167 - val_acc: 0.8792\n",
            "Epoch 12/20\n",
            "49/49 [==============================] - 2s 35ms/step - loss: 0.1146 - acc: 0.9642 - val_loss: 0.3346 - val_acc: 0.8748\n",
            "Epoch 13/20\n",
            "49/49 [==============================] - 2s 43ms/step - loss: 0.1071 - acc: 0.9673 - val_loss: 0.3393 - val_acc: 0.8762\n",
            "Epoch 14/20\n",
            "49/49 [==============================] - 3s 57ms/step - loss: 0.0999 - acc: 0.9698 - val_loss: 0.3560 - val_acc: 0.8726\n",
            "Epoch 15/20\n",
            "49/49 [==============================] - 2s 34ms/step - loss: 0.0943 - acc: 0.9716 - val_loss: 0.3793 - val_acc: 0.8677\n",
            "Epoch 16/20\n",
            "49/49 [==============================] - 2s 33ms/step - loss: 0.0881 - acc: 0.9742 - val_loss: 0.3818 - val_acc: 0.8688\n",
            "Epoch 17/20\n",
            "49/49 [==============================] - 2s 33ms/step - loss: 0.0825 - acc: 0.9757 - val_loss: 0.3930 - val_acc: 0.8692\n",
            "Epoch 18/20\n",
            "49/49 [==============================] - 2s 35ms/step - loss: 0.0768 - acc: 0.9782 - val_loss: 0.4086 - val_acc: 0.8681\n",
            "Epoch 19/20\n",
            "49/49 [==============================] - 2s 48ms/step - loss: 0.0726 - acc: 0.9793 - val_loss: 0.4243 - val_acc: 0.8651\n",
            "Epoch 20/20\n",
            "49/49 [==============================] - 4s 92ms/step - loss: 0.0685 - acc: 0.9814 - val_loss: 0.4377 - val_acc: 0.8648\n"
          ]
        }
      ]
    },
    {
      "cell_type": "code",
      "metadata": {
        "id": "ryiv7YOwTGEj",
        "colab": {
          "base_uri": "https://localhost:8080/",
          "height": 449
        },
        "outputId": "dc032e9e-15f8-43d8-96fd-ca9d4ece5b7a"
      },
      "source": [
        "import matplotlib.pyplot as plt\n",
        "\n",
        "epochs = range(1, 21)\n",
        "original_val_loss = original_hist.history['val_loss']\n",
        "smaller_model_val_loss = smaller_model_hist.history['val_loss']\n",
        "\n",
        "# b+ is for \"blue cross\"\n",
        "plt.plot(epochs, original_val_loss, linestyle = 'None', marker = 'o',\n",
        "         markerfacecolor = 'orange', markeredgecolor = 'orange',\n",
        "         label='Original model')\n",
        "\n",
        "# \"bo\" is for \"blue dot\"\n",
        "plt.plot(epochs, smaller_model_val_loss, linestyle = 'None', marker = 'o',\n",
        "         markerfacecolor = 'cyan', markeredgecolor = 'cyan',\n",
        "         label='Smaller model')\n",
        "\n",
        "plt.xlabel('Epochs')\n",
        "plt.ylabel('Validation loss')\n",
        "plt.legend()\n",
        "\n",
        "plt.show()"
      ],
      "execution_count": 14,
      "outputs": [
        {
          "output_type": "display_data",
          "data": {
            "text/plain": [
              "<Figure size 640x480 with 1 Axes>"
            ],
            "image/png": "[encoded data removed]"
          },
          "metadata": {}
        }
      ]
    },
    {
      "cell_type": "markdown",
      "metadata": {
        "id": "NhfjFK9gTGEm"
      },
      "source": [
        "보시다시피, 작은 네트워크는 참조 네트워크보다 늦게 과적합을 시작하고 과적합이 시작되면 성능이 훨씬 더 느리게 저하."
      ]
    },
    {
      "cell_type": "code",
      "metadata": {
        "id": "qil8WSh-TGEn"
      },
      "source": [
        "bigger_model = models.Sequential()\n",
        "bigger_model.add(layers.Dense(512, activation='relu', input_shape=(10000,)))\n",
        "bigger_model.add(layers.Dense(512, activation='relu'))\n",
        "bigger_model.add(layers.Dense(1, activation='sigmoid'))\n",
        "\n",
        "bigger_model.compile(optimizer='rmsprop',\n",
        "                     loss='binary_crossentropy',\n",
        "                     metrics=['acc'])"
      ],
      "execution_count": 15,
      "outputs": []
    },
    {
      "cell_type": "code",
      "metadata": {
        "id": "nACDJfLYTGEr",
        "colab": {
          "base_uri": "https://localhost:8080/"
        },
        "outputId": "c03f2392-3b7c-4613-bc49-c8fc67d217a1"
      },
      "source": [
        "bigger_model_hist = bigger_model.fit(x_train, y_train,\n",
        "                                     epochs=20,\n",
        "                                     batch_size=512,\n",
        "                                     validation_data=(x_test, y_test))"
      ],
      "execution_count": 16,
      "outputs": [
        {
          "output_type": "stream",
          "name": "stdout",
          "text": [
            "Epoch 1/20\n",
            "49/49 [==============================] - 24s 486ms/step - loss: 0.4877 - acc: 0.7862 - val_loss: 0.3544 - val_acc: 0.8426\n",
            "Epoch 2/20\n",
            "49/49 [==============================] - 21s 427ms/step - loss: 0.2703 - acc: 0.8898 - val_loss: 0.2729 - val_acc: 0.8873\n",
            "Epoch 3/20\n",
            "49/49 [==============================] - 23s 465ms/step - loss: 0.2110 - acc: 0.9154 - val_loss: 0.3672 - val_acc: 0.8480\n",
            "Epoch 4/20\n",
            "49/49 [==============================] - 24s 488ms/step - loss: 0.1638 - acc: 0.9376 - val_loss: 0.3038 - val_acc: 0.8805\n",
            "Epoch 5/20\n",
            "49/49 [==============================] - 23s 473ms/step - loss: 0.1237 - acc: 0.9532 - val_loss: 0.4038 - val_acc: 0.8488\n",
            "Epoch 6/20\n",
            "49/49 [==============================] - 18s 378ms/step - loss: 0.0961 - acc: 0.9656 - val_loss: 0.3052 - val_acc: 0.8812\n",
            "Epoch 7/20\n",
            "49/49 [==============================] - 18s 361ms/step - loss: 0.0511 - acc: 0.9843 - val_loss: 0.4767 - val_acc: 0.8652\n",
            "Epoch 8/20\n",
            "49/49 [==============================] - 20s 422ms/step - loss: 0.0566 - acc: 0.9857 - val_loss: 0.4403 - val_acc: 0.8824\n",
            "Epoch 9/20\n",
            "49/49 [==============================] - 20s 414ms/step - loss: 0.0495 - acc: 0.9879 - val_loss: 0.4102 - val_acc: 0.8791\n",
            "Epoch 10/20\n",
            "49/49 [==============================] - 18s 367ms/step - loss: 0.0043 - acc: 0.9996 - val_loss: 0.5634 - val_acc: 0.8780\n",
            "Epoch 11/20\n",
            "49/49 [==============================] - 22s 456ms/step - loss: 0.0661 - acc: 0.9884 - val_loss: 0.4771 - val_acc: 0.8782\n",
            "Epoch 12/20\n",
            "49/49 [==============================] - 24s 490ms/step - loss: 0.0019 - acc: 1.0000 - val_loss: 0.6003 - val_acc: 0.8794\n",
            "Epoch 13/20\n",
            "49/49 [==============================] - 26s 525ms/step - loss: 0.0557 - acc: 0.9890 - val_loss: 0.4640 - val_acc: 0.8768\n",
            "Epoch 14/20\n",
            "49/49 [==============================] - 20s 416ms/step - loss: 0.0020 - acc: 1.0000 - val_loss: 0.5875 - val_acc: 0.8804\n",
            "Epoch 15/20\n",
            "49/49 [==============================] - 25s 506ms/step - loss: 5.9465e-04 - acc: 1.0000 - val_loss: 0.6733 - val_acc: 0.8806\n",
            "Epoch 16/20\n",
            "49/49 [==============================] - 19s 399ms/step - loss: 3.3403e-04 - acc: 1.0000 - val_loss: 0.7150 - val_acc: 0.8798\n",
            "Epoch 17/20\n",
            "49/49 [==============================] - 24s 487ms/step - loss: 2.2551e-04 - acc: 1.0000 - val_loss: 0.7391 - val_acc: 0.8807\n",
            "Epoch 18/20\n",
            "49/49 [==============================] - 18s 365ms/step - loss: 1.7180e-04 - acc: 1.0000 - val_loss: 0.7637 - val_acc: 0.8809\n",
            "Epoch 19/20\n",
            "49/49 [==============================] - 23s 473ms/step - loss: 1.3837e-04 - acc: 1.0000 - val_loss: 0.7806 - val_acc: 0.8805\n",
            "Epoch 20/20\n",
            "49/49 [==============================] - 18s 367ms/step - loss: 1.1563e-04 - acc: 1.0000 - val_loss: 0.7967 - val_acc: 0.8801\n"
          ]
        }
      ]
    },
    {
      "cell_type": "code",
      "metadata": {
        "id": "j65x4qKwTGEv",
        "colab": {
          "base_uri": "https://localhost:8080/",
          "height": 449
        },
        "outputId": "2f1bf294-0e4a-48aa-f299-7d3dcef68465"
      },
      "source": [
        "bigger_model_val_loss = bigger_model_hist.history['val_loss']\n",
        "\n",
        "plt.plot(epochs, original_val_loss, 'b+', label='Original model')\n",
        "plt.plot(epochs, bigger_model_val_loss, 'bo', label='Bigger model')\n",
        "plt.xlabel('Epochs')\n",
        "plt.ylabel('Validation loss')\n",
        "plt.legend()\n",
        "\n",
        "plt.show()"
      ],
      "execution_count": 17,
      "outputs": [
        {
          "output_type": "display_data",
          "data": {
            "text/plain": [
              "<Figure size 640x480 with 1 Axes>"
            ],
            "image/png": "[encoded data removed]"
          },
          "metadata": {}
        }
      ]
    },
    {
      "cell_type": "markdown",
      "metadata": {
        "id": "WFLt26gZTGEy"
      },
      "source": [
        "더 큰 네트워크는 한 에포크 이후 거의 즉시 과적합을 시작하고 훨씬 더 심각하게 과적합됩니다. 검증 손실도 더 높습니다.\n",
        "\n",
        "한편, 두 네트워크의 훈련 손실은 다음과 같습니다."
      ]
    },
    {
      "cell_type": "code",
      "metadata": {
        "id": "5DMZlGcmTGEz",
        "colab": {
          "base_uri": "https://localhost:8080/",
          "height": 449
        },
        "outputId": "031dd35f-2e5d-469d-d341-bd309fd96d07"
      },
      "source": [
        "original_train_loss = original_hist.history['loss']\n",
        "bigger_model_train_loss = bigger_model_hist.history['loss']\n",
        "\n",
        "plt.plot(epochs, original_train_loss, 'b+', label='Original model')\n",
        "plt.plot(epochs, bigger_model_train_loss, 'bo', label='Bigger model')\n",
        "plt.xlabel('Epochs')\n",
        "plt.ylabel('Training loss')\n",
        "plt.legend()\n",
        "\n",
        "plt.show()"
      ],
      "execution_count": 18,
      "outputs": [
        {
          "output_type": "display_data",
          "data": {
            "text/plain": [
              "<Figure size 640x480 with 1 Axes>"
            ],
            "image/png": "[encoded data removed]"
          },
          "metadata": {}
        }
      ]
    },
    {
      "cell_type": "markdown",
      "metadata": {
        "id": "MUv2jD9ZTGE1"
      },
      "source": [
        "보시다시피, 더 큰 네트워크는 매우 빠르게 훈련 손실을 0에 가깝게 만듭니다. 네트워크의 용량이 많을수록 훈련 데이터를 더 빠르게 모델링할 수 있지만(훈련 손실이 낮음) 과적합에 더 취약합니다\n",
        "\n",
        "(훈련 손실과 검증 손실 사이에 큰 차이가 발생함)."
      ]
    },
    {
      "cell_type": "markdown",
      "metadata": {
        "id": "9bdb25BaTGE2"
      },
      "source": [
        "## Adding weight regularization\n",
        "\n",
        "어떤 것에 대해 두 가지 설명이 주어지면 가장 정확할 가능성이 가장 높은 설명은 \"가장 단순한\" 설명, 즉 최소한의 가정을 하는 설명입니다.\n",
        "\n",
        "이는 신경망에서 학습한 모델에도 적용됩니다.일부 훈련 데이터와 네트워크 아키텍처가 주어지면 데이터를 설명할 수 있는 가중치 값의 여러 세트(다중 모델)가 있고, 단순한 모델은 복잡한 모델보다 과적합될 가능성이 적습니다.\n",
        "\n",
        "이 맥락에서 \"단순 모델\"은 매개변수 값의 분포에 엔트로피가 적은 모델(또는 위 섹션에서 본 것처럼 매개변수가 모두 적은 모델)입니다.\n",
        "\n",
        "따라서 과적합을 완화하는 일반적인 방법은 가중치가 작은 값만 취하도록 강제하여 네트워크의 복잡성에 제약을 가하여 가중치 값의 분포를 보다 \"규칙적\"으로 만드는 것입니다.\n",
        "\n",
        "이를 \"가중치 정규화\"라고 하며, 큰 가중치를 갖는 것과 관련된 비용을 네트워크의 손실 함수에 추가하여 수행됩니다. 이 비용은 두 가지 형태로 나타납니다.\n",
        "\n",
        "* 추가되는 비용이 가중치 계수의 절대값 (즉, 가중치의 \"L1 표준\"이라고 불리는 값)에 비례하는 L1 정규화.\n",
        "\n",
        "* 추가되는 비용이 가중치 계수 값의 제곱 에 비례하는 L2 정규화 (즉, 가중치의 \"L2 표준\"이라고 함). L2 정규화는 신경망 맥락에서 가중치 감소 라고도 합니다.\n",
        "\n"
      ]
    },
    {
      "cell_type": "code",
      "metadata": {
        "id": "CTCcn-FUTGE3"
      },
      "source": [
        "from keras import regularizers\n",
        "\n",
        "l2_model = models.Sequential()\n",
        "l2_model.add(layers.Dense(16, kernel_regularizer=regularizers.l2(0.001),\n",
        "                          activation='relu', input_shape=(10000,)))\n",
        "l2_model.add(layers.Dense(16, kernel_regularizer=regularizers.l2(0.001),\n",
        "                          activation='relu'))\n",
        "l2_model.add(layers.Dense(1, activation='sigmoid'))"
      ],
      "execution_count": 19,
      "outputs": []
    },
    {
      "cell_type": "code",
      "metadata": {
        "id": "S0dKFjoBTGE6"
      },
      "source": [
        "l2_model.compile(optimizer='rmsprop',\n",
        "                 loss='binary_crossentropy',\n",
        "                 metrics=['acc'])"
      ],
      "execution_count": 20,
      "outputs": []
    },
    {
      "cell_type": "markdown",
      "metadata": {
        "id": "LeYS2r3hTGE9"
      },
      "source": [
        "regularizer_l2(0.001)이는 레이어의 가중치 행렬의 모든 계수가 0.001 * weight_coefficient_value로 네트워크의 총 손실에 추가된다는 것을 의미합니다.\n"
      ]
    },
    {
      "cell_type": "code",
      "metadata": {
        "id": "eM-jb5l6TGE-",
        "colab": {
          "base_uri": "https://localhost:8080/"
        },
        "outputId": "5082696d-8983-4189-af9d-3da6e4b6064f"
      },
      "source": [
        "l2_model_hist = l2_model.fit(x_train, y_train,\n",
        "                             epochs=20,\n",
        "                             batch_size=512,\n",
        "                             validation_data=(x_test, y_test))"
      ],
      "execution_count": 21,
      "outputs": [
        {
          "output_type": "stream",
          "name": "stdout",
          "text": [
            "Epoch 1/20\n",
            "49/49 [==============================] - 8s 145ms/step - loss: 0.5073 - acc: 0.8156 - val_loss: 0.3945 - val_acc: 0.8770\n",
            "Epoch 2/20\n",
            "49/49 [==============================] - 2s 37ms/step - loss: 0.3285 - acc: 0.9004 - val_loss: 0.3393 - val_acc: 0.8885\n",
            "Epoch 3/20\n",
            "49/49 [==============================] - 2s 36ms/step - loss: 0.2815 - acc: 0.9162 - val_loss: 0.3520 - val_acc: 0.8778\n",
            "Epoch 4/20\n",
            "49/49 [==============================] - 2s 51ms/step - loss: 0.2542 - acc: 0.9258 - val_loss: 0.3406 - val_acc: 0.8843\n",
            "Epoch 5/20\n",
            "49/49 [==============================] - 3s 52ms/step - loss: 0.2399 - acc: 0.9341 - val_loss: 0.3467 - val_acc: 0.8820\n",
            "Epoch 6/20\n",
            "49/49 [==============================] - 2s 49ms/step - loss: 0.2310 - acc: 0.9372 - val_loss: 0.3556 - val_acc: 0.8797\n",
            "Epoch 7/20\n",
            "49/49 [==============================] - 2s 36ms/step - loss: 0.2219 - acc: 0.9407 - val_loss: 0.3574 - val_acc: 0.8797\n",
            "Epoch 8/20\n",
            "49/49 [==============================] - 2s 36ms/step - loss: 0.2191 - acc: 0.9418 - val_loss: 0.3796 - val_acc: 0.8742\n",
            "Epoch 9/20\n",
            "49/49 [==============================] - 2s 38ms/step - loss: 0.2156 - acc: 0.9431 - val_loss: 0.3730 - val_acc: 0.8765\n",
            "Epoch 10/20\n",
            "49/49 [==============================] - 2s 38ms/step - loss: 0.2105 - acc: 0.9454 - val_loss: 0.4186 - val_acc: 0.8666\n",
            "Epoch 11/20\n",
            "49/49 [==============================] - 2s 37ms/step - loss: 0.2033 - acc: 0.9483 - val_loss: 0.4596 - val_acc: 0.8558\n",
            "Epoch 12/20\n",
            "49/49 [==============================] - 2s 50ms/step - loss: 0.2033 - acc: 0.9474 - val_loss: 0.4327 - val_acc: 0.8658\n",
            "Epoch 13/20\n",
            "49/49 [==============================] - 2s 47ms/step - loss: 0.2018 - acc: 0.9496 - val_loss: 0.4075 - val_acc: 0.8723\n",
            "Epoch 14/20\n",
            "49/49 [==============================] - 2s 37ms/step - loss: 0.1947 - acc: 0.9506 - val_loss: 0.4349 - val_acc: 0.8664\n",
            "Epoch 15/20\n",
            "49/49 [==============================] - 2s 36ms/step - loss: 0.1960 - acc: 0.9513 - val_loss: 0.4095 - val_acc: 0.8710\n",
            "Epoch 16/20\n",
            "49/49 [==============================] - 2s 36ms/step - loss: 0.1873 - acc: 0.9547 - val_loss: 0.4376 - val_acc: 0.8615\n",
            "Epoch 17/20\n",
            "49/49 [==============================] - 2s 37ms/step - loss: 0.1898 - acc: 0.9540 - val_loss: 0.4463 - val_acc: 0.8670\n",
            "Epoch 18/20\n",
            "49/49 [==============================] - 2s 37ms/step - loss: 0.1838 - acc: 0.9576 - val_loss: 0.5057 - val_acc: 0.8542\n",
            "Epoch 19/20\n",
            "49/49 [==============================] - 3s 57ms/step - loss: 0.1874 - acc: 0.9545 - val_loss: 0.4573 - val_acc: 0.8654\n",
            "Epoch 20/20\n",
            "49/49 [==============================] - 2s 40ms/step - loss: 0.1807 - acc: 0.9587 - val_loss: 0.4324 - val_acc: 0.8701\n"
          ]
        }
      ]
    },
    {
      "cell_type": "code",
      "metadata": {
        "id": "kCPgzhv0TGFB",
        "colab": {
          "base_uri": "https://localhost:8080/",
          "height": 449
        },
        "outputId": "175a4949-b96b-4dd7-fc47-681bafb94c52"
      },
      "source": [
        "l2_model_val_loss = l2_model_hist.history['val_loss']\n",
        "\n",
        "plt.plot(epochs, original_val_loss, 'b+', label='Original model')\n",
        "plt.plot(epochs, l2_model_val_loss, 'bo', label='L2-regularized model')\n",
        "plt.xlabel('Epochs')\n",
        "plt.ylabel('Validation loss')\n",
        "plt.legend()\n",
        "\n",
        "plt.show()"
      ],
      "execution_count": 22,
      "outputs": [
        {
          "output_type": "display_data",
          "data": {
            "text/plain": [
              "<Figure size 640x480 with 1 Axes>"
            ],
            "image/png": "[encoded data removed]"
          },
          "metadata": {}
        }
      ]
    },
    {
      "cell_type": "markdown",
      "metadata": {
        "id": "IyHlXMoZTGFE"
      },
      "source": [
        "보시다시피, L2 정규화가 적용된 모델은 두 모델 모두 동일한 수의 매개변수를 갖고 있음에도 불구하고 참조 모델보다 과적합에 대한 저항력이 훨씬 더 강해졌습니다."
      ]
    },
    {
      "cell_type": "code",
      "metadata": {
        "id": "x-bijzM1TGFF",
        "colab": {
          "base_uri": "https://localhost:8080/"
        },
        "outputId": "08b33b9c-41d6-4b33-c9e6-02fc28a49fe8"
      },
      "source": [
        "from keras import regularizers\n",
        "\n",
        "# L1 regularization\n",
        "regularizers.l1(0.001)\n",
        "\n",
        "# L1 and L2 regularization at the same time\n",
        "regularizers.l1_l2(l1=0.001, l2=0.001)"
      ],
      "execution_count": 23,
      "outputs": [
        {
          "output_type": "execute_result",
          "data": {
            "text/plain": [
              "<keras.src.regularizers.L1L2 at 0x7cadb15d2680>"
            ]
          },
          "metadata": {},
          "execution_count": 23
        }
      ]
    },
    {
      "cell_type": "markdown",
      "metadata": {
        "id": "cjil6LwiTGFN"
      },
      "source": [
        "## Adding dropout\n",
        "\n",
        "드롭아웃(Dropout)은 Hinton과 그의 동료가 개발한 신경망에 대한 가장 효과적이고 가장 일반적으로 사용되는 정규화 기술 중 하나입니다.\n",
        "\n",
        "레이어에 적용되는 드롭아웃은 여러 개의 레이어를 무작위로 \"드롭아웃\"(즉, 0으로 설정)하는 것으로 구성됩니다.\n",
        "\n",
        "\"드롭아웃 비율\"은 0으로 처리되는 피처의 비율입니다. 일반적으로 0.2에서 0.5 사이로 설정됩니다. 테스트에선 어떤 유닛도 드롭아웃되지 않고 대신 레이어의 출력 값이 드롭아웃 비율과 동일한 요소로 축소됩니다.\n",
        "\n"
      ]
    },
    {
      "cell_type": "code",
      "metadata": {
        "id": "sC1moTMzTGFO"
      },
      "source": [
        "# At training time: we drop out 50% of the units in the output\n",
        "# layer_output *= np.random.randint(0, high=2, size=layer_output.shape)"
      ],
      "execution_count": null,
      "outputs": []
    },
    {
      "cell_type": "markdown",
      "metadata": {
        "id": "XdeRlFmaTGFS"
      },
      "source": [
        "테스트 시 드롭아웃 비율에 따라 출력을 축소합니다. 여기서는 0.5만큼 크기를 조정합니다(이전에는 단위의 절반을 삭제했기 때문입니다)."
      ]
    },
    {
      "cell_type": "code",
      "metadata": {
        "id": "upZk0NHMTGFT"
      },
      "source": [
        "# At test time:\n",
        "# layer_output *= 0.5"
      ],
      "execution_count": null,
      "outputs": []
    },
    {
      "cell_type": "markdown",
      "metadata": {
        "id": "9t7_bXujTGFV"
      },
      "source": [
        "이 프로세스는 훈련 시 두 가지 작업을 모두 수행하고 테스트 시 출력을 변경하지 않고 그대로 두는 방식으로 구현될 수 있습니다. 이는 실제로 구현되는 방식인 경우가 많습니다."
      ]
    },
    {
      "cell_type": "code",
      "metadata": {
        "id": "sg4NzNhITGFW"
      },
      "source": [
        "# At training time:\n",
        "# layer_output *= np.random.randint(0, high=2, size=layer_output.shape)\n",
        "# Note that we are scaling *up* rather scaling *down* in this case\n",
        "# layer_output /= 0.5"
      ],
      "execution_count": null,
      "outputs": []
    },
    {
      "cell_type": "markdown",
      "metadata": {
        "id": "22nJENY3TGFY"
      },
      "source": [
        "핵심 아이디어는 레이어의 출력 값에 노이즈를 도입하면 중요하지 않은 우연 패턴을 부술 수 있음."
      ]
    },
    {
      "cell_type": "code",
      "metadata": {
        "id": "wd933e4eTGFZ"
      },
      "source": [
        "# model.add(layers.Dropout(0.5))"
      ],
      "execution_count": null,
      "outputs": []
    },
    {
      "cell_type": "markdown",
      "metadata": {
        "id": "fhjF-tyGTGFg"
      },
      "source": [
        "Let's add two `Dropout` layers in our IMDB network to see how well they do at reducing overfitting:"
      ]
    },
    {
      "cell_type": "code",
      "metadata": {
        "id": "PBtr0KZxTGFh"
      },
      "source": [
        "dpt_model = models.Sequential()\n",
        "dpt_model.add(layers.Dense(16, activation='relu', input_shape=(10000,)))\n",
        "dpt_model.add(layers.Dropout(rate=0.5))\n",
        "dpt_model.add(layers.Dense(16, activation='relu'))\n",
        "dpt_model.add(layers.Dropout(rate=0.5))\n",
        "dpt_model.add(layers.Dense(1, activation='sigmoid'))\n",
        "\n",
        "dpt_model.compile(optimizer='rmsprop',\n",
        "                  loss='binary_crossentropy',\n",
        "                  metrics=['acc'])"
      ],
      "execution_count": 24,
      "outputs": []
    },
    {
      "cell_type": "code",
      "metadata": {
        "id": "lYT-hH1eTGFk"
      },
      "source": [
        "dpt_model_hist = dpt_model.fit(x_train, y_train,\n",
        "                               epochs=20,\n",
        "                               batch_size=512,\n",
        "                               validation_data=(x_test, y_test))"
      ],
      "execution_count": null,
      "outputs": []
    },
    {
      "cell_type": "markdown",
      "metadata": {
        "id": "pw_8R0pETGFm"
      },
      "source": [
        "Let's plot the results:"
      ]
    },
    {
      "cell_type": "code",
      "metadata": {
        "id": "pjIXzEPDTGFn",
        "colab": {
          "base_uri": "https://localhost:8080/",
          "height": 283
        },
        "outputId": "6d6d3a61-2737-47c3-9e73-f5ffb07a1b9e"
      },
      "source": [
        "dpt_model_val_loss = dpt_model_hist.history['val_loss']\n",
        "\n",
        "plt.plot(epochs, original_val_loss, 'b+', label='Original model')\n",
        "plt.plot(epochs, dpt_model_val_loss, 'bo', label='Dropout-regularized model')\n",
        "plt.xlabel('Epochs')\n",
        "plt.ylabel('Validation loss')\n",
        "plt.legend()\n",
        "\n",
        "plt.show()"
      ],
      "execution_count": null,
      "outputs": [
        {
          "output_type": "display_data",
          "data": {
            "image/png": "[encoded data removed]",
            "text/plain": [
              "<Figure size 432x288 with 1 Axes>"
            ]
          },
          "metadata": {
            "tags": []
          }
        }
      ]
    },
    {
      "cell_type": "markdown",
      "metadata": {
        "id": "ITa_J-YUTGFq"
      },
      "source": [
        "과적합 방지 프로세스\n",
        "\n",
        "* Getting more training data.(데이터 증강)\n",
        "* Reducing the capacity of the network.\n",
        "(작은 모델부터 시작)\n",
        "* Adding weight regularization.\n",
        "(가중치 정규화)\n",
        "* Adding dropout.\n",
        "(드랍아웃)"
      ]
    }
  ]
}