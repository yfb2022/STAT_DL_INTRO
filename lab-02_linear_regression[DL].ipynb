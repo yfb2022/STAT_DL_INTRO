{
  "cells": [
    {
      "cell_type": "markdown",
      "metadata": {
        "id": "oucHClFS3ZqE"
      },
      "source": [
        "# Lab 2: Linear Regression"
      ]
    },
    {
      "cell_type": "markdown",
      "metadata": {
        "id": "FMXgKCG03ZqG"
      },
      "source": [
        "Author: Seungjae Lee (이승재)"
      ]
    },
    {
      "cell_type": "markdown",
      "metadata": {
        "id": "h5L_et8X3ZqH"
      },
      "source": [
        "<div class=\"alert alert-warning\">\n",
        "    We use elemental PyTorch to implement linear regression here. However, in most actual applications, abstractions such as <code>nn.Module</code> or <code>nn.Linear</code> are used.\n",
        "</div>"
      ]
    },
    {
      "cell_type": "markdown",
      "metadata": {
        "id": "GL1YgR5X3ZqI"
      },
      "source": [
        "## Theoretical Overview"
      ]
    },
    {
      "cell_type": "markdown",
      "metadata": {
        "id": "3OhCKede3ZqI"
      },
      "source": [
        "$$ H(x) = Wx + b $$"
      ]
    },
    {
      "cell_type": "markdown",
      "metadata": {
        "id": "5hOh0Ftp3ZqI"
      },
      "source": [
        "$$ cost(W, b) = \\frac{1}{m} \\sum^m_{i=1} \\left( H(x^{(i)}) - y^{(i)} \\right)^2 $$"
      ]
    },
    {
      "cell_type": "markdown",
      "metadata": {
        "id": "4qvNBCVV3ZqJ"
      },
      "source": [
        " - $H(x)$: 주어진 $x$ 값에 대해 예측을 어떻게 할 것인가\n",
        " - $cost(W, b)$: $H(x)$ 가 $y$ 를 얼마나 잘 예측했는가"
      ]
    },
    {
      "cell_type": "markdown",
      "metadata": {
        "id": "jb_Qsxdb3ZqJ"
      },
      "source": [
        "## Imports"
      ]
    },
    {
      "cell_type": "code",
      "execution_count": 1,
      "metadata": {
        "id": "cQTCWKgK3ZqJ"
      },
      "outputs": [],
      "source": [
        "import torch\n",
        "import torch.nn as nn\n",
        "import torch.nn.functional as F\n",
        "import torch.optim as optim"
      ]
    },
    {
      "cell_type": "code",
      "execution_count": 2,
      "metadata": {
        "id": "wnXmw6Ye3ZqK",
        "outputId": "54efb93a-1020-4274-af3a-52e169361078",
        "colab": {
          "base_uri": "https://localhost:8080/"
        }
      },
      "outputs": [
        {
          "output_type": "execute_result",
          "data": {
            "text/plain": [
              "<torch._C.Generator at 0x7d3ed6fa1810>"
            ]
          },
          "metadata": {},
          "execution_count": 2
        }
      ],
      "source": [
        "# For reproducibility / random seed\n",
        "torch.manual_seed(1)"
      ]
    },
    {
      "cell_type": "markdown",
      "metadata": {
        "id": "LHIvso9b3ZqL"
      },
      "source": [
        "## Data"
      ]
    },
    {
      "cell_type": "markdown",
      "metadata": {
        "id": "DiBUyri23ZqL"
      },
      "source": [
        "We will use fake data for this example."
      ]
    },
    {
      "cell_type": "code",
      "execution_count": 3,
      "metadata": {
        "id": "0rAeJH093ZqM"
      },
      "outputs": [],
      "source": [
        "x_train = torch.FloatTensor([[1], [2], [3]])\n",
        "y_train = torch.FloatTensor([[1], [2], [3]])"
      ]
    },
    {
      "cell_type": "code",
      "execution_count": 4,
      "metadata": {
        "id": "17w9YUbR3ZqM",
        "outputId": "f1b371ea-b663-47c0-9d4a-ff4e609229ec",
        "colab": {
          "base_uri": "https://localhost:8080/"
        }
      },
      "outputs": [
        {
          "output_type": "stream",
          "name": "stdout",
          "text": [
            "tensor([[1.],\n",
            "        [2.],\n",
            "        [3.]])\n",
            "torch.Size([3, 1])\n"
          ]
        }
      ],
      "source": [
        "print(x_train)\n",
        "print(x_train.shape)"
      ]
    },
    {
      "cell_type": "code",
      "execution_count": 5,
      "metadata": {
        "id": "vxmO02jd3ZqM",
        "outputId": "ff691f03-cbb5-4e48-f0d8-ec02a7734a88",
        "colab": {
          "base_uri": "https://localhost:8080/"
        }
      },
      "outputs": [
        {
          "output_type": "stream",
          "name": "stdout",
          "text": [
            "tensor([[1.],\n",
            "        [2.],\n",
            "        [3.]])\n",
            "torch.Size([3, 1])\n"
          ]
        }
      ],
      "source": [
        "print(y_train)\n",
        "print(y_train.shape)"
      ]
    },
    {
      "cell_type": "markdown",
      "metadata": {
        "id": "O02eaitS3ZqN"
      },
      "source": [
        "기본적으로 PyTorch는 NCHW 형태이다."
      ]
    },
    {
      "cell_type": "markdown",
      "metadata": {
        "id": "W08EeCwl3ZqO"
      },
      "source": [
        "## Hypothesis"
      ]
    },
    {
      "cell_type": "markdown",
      "metadata": {
        "id": "x7qICAtU3ZqO"
      },
      "source": [
        "$$ H(x) = Wx + b $$"
      ]
    },
    {
      "cell_type": "code",
      "execution_count": 6,
      "metadata": {
        "outputId": "f08a47b2-e1c4-4b34-aed3-d74e42a64f01",
        "id": "GwLeox8m7Pcy",
        "colab": {
          "base_uri": "https://localhost:8080/"
        }
      },
      "outputs": [
        {
          "output_type": "stream",
          "name": "stdout",
          "text": [
            "tensor([0.], requires_grad=True)\n"
          ]
        }
      ],
      "source": [
        "# Weight Initialization (Weight, Bias) + 학습명시\n",
        "W = torch.zeros(1, requires_grad=True)\n",
        "print(W)"
      ]
    },
    {
      "cell_type": "code",
      "execution_count": 7,
      "metadata": {
        "outputId": "ff7d7881-7fb4-4ade-fc1c-134957713213",
        "id": "lrEpyAVx7RHo",
        "colab": {
          "base_uri": "https://localhost:8080/"
        }
      },
      "outputs": [
        {
          "output_type": "stream",
          "name": "stdout",
          "text": [
            "tensor([0.], requires_grad=True)\n"
          ]
        }
      ],
      "source": [
        "b = torch.zeros(1, requires_grad=True)\n",
        "print(b)"
      ]
    },
    {
      "cell_type": "code",
      "execution_count": 8,
      "metadata": {
        "id": "A1pVwjhW3ZqP",
        "outputId": "9b79da18-8252-4e22-c85b-524fca35434b",
        "colab": {
          "base_uri": "https://localhost:8080/"
        }
      },
      "outputs": [
        {
          "output_type": "stream",
          "name": "stdout",
          "text": [
            "tensor([[0.],\n",
            "        [0.],\n",
            "        [0.]], grad_fn=<AddBackward0>)\n"
          ]
        }
      ],
      "source": [
        "hypothesis = x_train * W + b\n",
        "print(hypothesis)"
      ]
    },
    {
      "cell_type": "markdown",
      "metadata": {
        "id": "-q9lupgo3ZqP"
      },
      "source": [
        "## Cost"
      ]
    },
    {
      "cell_type": "markdown",
      "metadata": {
        "id": "nvMifWYc3ZqP"
      },
      "source": [
        "$$ cost(W, b) = \\frac{1}{m} \\sum^m_{i=1} \\left( H(x^{(i)}) - y^{(i)} \\right)^2 $$"
      ]
    },
    {
      "cell_type": "code",
      "execution_count": 9,
      "metadata": {
        "id": "umKB-lQS3ZqP",
        "outputId": "10deb509-afc5-4fbb-d9dc-86b372f6e402",
        "colab": {
          "base_uri": "https://localhost:8080/"
        }
      },
      "outputs": [
        {
          "output_type": "stream",
          "name": "stdout",
          "text": [
            "tensor([[0.],\n",
            "        [0.],\n",
            "        [0.]], grad_fn=<AddBackward0>)\n"
          ]
        }
      ],
      "source": [
        "print(hypothesis)"
      ]
    },
    {
      "cell_type": "code",
      "execution_count": 10,
      "metadata": {
        "id": "JxYzrJBL3ZqQ",
        "outputId": "86b6b9f7-1d8b-40df-ffff-3c903875273d",
        "colab": {
          "base_uri": "https://localhost:8080/"
        }
      },
      "outputs": [
        {
          "output_type": "stream",
          "name": "stdout",
          "text": [
            "tensor([[1.],\n",
            "        [2.],\n",
            "        [3.]])\n"
          ]
        }
      ],
      "source": [
        "print(y_train)"
      ]
    },
    {
      "cell_type": "code",
      "execution_count": 11,
      "metadata": {
        "id": "T3LNNDjm3ZqQ",
        "outputId": "7308651e-e97c-40bd-a6b5-caa34b13c0a4",
        "colab": {
          "base_uri": "https://localhost:8080/"
        }
      },
      "outputs": [
        {
          "output_type": "stream",
          "name": "stdout",
          "text": [
            "tensor([[-1.],\n",
            "        [-2.],\n",
            "        [-3.]], grad_fn=<SubBackward0>)\n"
          ]
        }
      ],
      "source": [
        "print(hypothesis - y_train)"
      ]
    },
    {
      "cell_type": "code",
      "execution_count": 12,
      "metadata": {
        "id": "lQwOWyzf3ZqQ",
        "outputId": "655b9c71-e786-4bf6-f386-5aaa2e7b223a",
        "colab": {
          "base_uri": "https://localhost:8080/"
        }
      },
      "outputs": [
        {
          "output_type": "stream",
          "name": "stdout",
          "text": [
            "tensor([[1.],\n",
            "        [4.],\n",
            "        [9.]], grad_fn=<PowBackward0>)\n"
          ]
        }
      ],
      "source": [
        "print((hypothesis - y_train) ** 2)"
      ]
    },
    {
      "cell_type": "code",
      "execution_count": 13,
      "metadata": {
        "id": "73QGjfZ23ZqR",
        "outputId": "73fa3b90-e658-4200-8441-22a5a247beac",
        "colab": {
          "base_uri": "https://localhost:8080/"
        }
      },
      "outputs": [
        {
          "output_type": "stream",
          "name": "stdout",
          "text": [
            "tensor(4.6667, grad_fn=<MeanBackward0>)\n"
          ]
        }
      ],
      "source": [
        "cost = torch.mean((hypothesis - y_train) ** 2)\n",
        "print(cost)"
      ]
    },
    {
      "cell_type": "markdown",
      "metadata": {
        "id": "NbNsFBJ43ZqR"
      },
      "source": [
        "## Gradient Descent"
      ]
    },
    {
      "cell_type": "code",
      "execution_count": 14,
      "metadata": {
        "id": "xQ1ALZsp3ZqR"
      },
      "outputs": [],
      "source": [
        "optimizer = optim.SGD([W, b], lr=0.01)"
      ]
    },
    {
      "cell_type": "code",
      "execution_count": 15,
      "metadata": {
        "id": "PKEutYig3ZqR"
      },
      "outputs": [],
      "source": [
        "# gradient 초기화\n",
        "optimizer.zero_grad()\n",
        "# gradient 계산\n",
        "cost.backward()\n",
        "# 개선\n",
        "optimizer.step()"
      ]
    },
    {
      "cell_type": "code",
      "execution_count": 16,
      "metadata": {
        "id": "pIkx9SYq3ZqS",
        "outputId": "8d6f3055-e227-4e23-c274-67b9148968a1",
        "colab": {
          "base_uri": "https://localhost:8080/"
        }
      },
      "outputs": [
        {
          "output_type": "stream",
          "name": "stdout",
          "text": [
            "tensor([0.0933], requires_grad=True)\n",
            "tensor([0.0400], requires_grad=True)\n"
          ]
        }
      ],
      "source": [
        "print(W)\n",
        "print(b)"
      ]
    },
    {
      "cell_type": "markdown",
      "metadata": {
        "id": "BnB41-NQ3ZqS"
      },
      "source": [
        "Let's check if the hypothesis is now better."
      ]
    },
    {
      "cell_type": "code",
      "execution_count": 17,
      "metadata": {
        "id": "ylavRR1E3ZqS",
        "outputId": "e5b8d308-6718-4007-cf11-6d2ed10dc093",
        "colab": {
          "base_uri": "https://localhost:8080/"
        }
      },
      "outputs": [
        {
          "output_type": "stream",
          "name": "stdout",
          "text": [
            "tensor([[0.1333],\n",
            "        [0.2267],\n",
            "        [0.3200]], grad_fn=<AddBackward0>)\n"
          ]
        }
      ],
      "source": [
        "hypothesis = x_train * W + b\n",
        "print(hypothesis)"
      ]
    },
    {
      "cell_type": "code",
      "execution_count": 18,
      "metadata": {
        "id": "qjfWDWXm3ZqS",
        "outputId": "adafd4a2-ece7-448a-9f0e-dc9afd818d95",
        "colab": {
          "base_uri": "https://localhost:8080/"
        }
      },
      "outputs": [
        {
          "output_type": "stream",
          "name": "stdout",
          "text": [
            "tensor(3.6927, grad_fn=<MeanBackward0>)\n"
          ]
        }
      ],
      "source": [
        "cost = torch.mean((hypothesis - y_train) ** 2)\n",
        "print(cost)"
      ]
    },
    {
      "cell_type": "markdown",
      "metadata": {
        "id": "n4WkoTKX3ZqT"
      },
      "source": [
        "## Training with Full Code"
      ]
    },
    {
      "cell_type": "markdown",
      "metadata": {
        "id": "vwuU5cjO3ZqT"
      },
      "source": [
        "In reality, we will be training on the dataset for multiple epochs. This can be done simply with loops."
      ]
    },
    {
      "cell_type": "code",
      "execution_count": 19,
      "metadata": {
        "id": "9yJ4w8RC3ZqT",
        "outputId": "7c0f8734-bef8-4cb6-c81a-c0b68a4c98a7",
        "colab": {
          "base_uri": "https://localhost:8080/"
        }
      },
      "outputs": [
        {
          "output_type": "stream",
          "name": "stdout",
          "text": [
            "Epoch    0/1000 W: 0.093, b: 0.040 Cost: 4.666667\n",
            "Epoch  100/1000 W: 0.873, b: 0.289 Cost: 0.012043\n",
            "Epoch  200/1000 W: 0.900, b: 0.227 Cost: 0.007442\n",
            "Epoch  300/1000 W: 0.921, b: 0.179 Cost: 0.004598\n",
            "Epoch  400/1000 W: 0.938, b: 0.140 Cost: 0.002842\n",
            "Epoch  500/1000 W: 0.951, b: 0.110 Cost: 0.001756\n",
            "Epoch  600/1000 W: 0.962, b: 0.087 Cost: 0.001085\n",
            "Epoch  700/1000 W: 0.970, b: 0.068 Cost: 0.000670\n",
            "Epoch  800/1000 W: 0.976, b: 0.054 Cost: 0.000414\n",
            "Epoch  900/1000 W: 0.981, b: 0.042 Cost: 0.000256\n",
            "Epoch 1000/1000 W: 0.985, b: 0.033 Cost: 0.000158\n"
          ]
        }
      ],
      "source": [
        "# 데이터\n",
        "x_train = torch.FloatTensor([[1], [2], [3]])\n",
        "y_train = torch.FloatTensor([[1], [2], [3]])\n",
        "# 모델 초기화\n",
        "W = torch.zeros(1, requires_grad=True)\n",
        "b = torch.zeros(1, requires_grad=True)\n",
        "# optimizer 설정\n",
        "optimizer = optim.SGD([W, b], lr=0.01)\n",
        "\n",
        "nb_epochs = 1000\n",
        "for epoch in range(nb_epochs + 1):\n",
        "    # H(x) 계산\n",
        "    hypothesis = x_train * W + b\n",
        "\n",
        "    # cost 계산\n",
        "    cost = torch.mean((hypothesis - y_train) ** 2)\n",
        "\n",
        "    # cost로 H(x) 개선\n",
        "    optimizer.zero_grad()\n",
        "    cost.backward()\n",
        "    optimizer.step()\n",
        "\n",
        "    # 100번마다 로그 출력\n",
        "    if epoch % 100 == 0:\n",
        "        print('Epoch {:4d}/{} W: {:.3f}, b: {:.3f} Cost: {:.6f}'.format(\n",
        "            epoch, nb_epochs, W.item(), b.item(), cost.item()\n",
        "        ))"
      ]
    },
    {
      "cell_type": "markdown",
      "metadata": {
        "id": "1Zqepd7z3ZqU"
      },
      "source": [
        "## High-level Implementation with `nn.Module`"
      ]
    },
    {
      "cell_type": "markdown",
      "metadata": {
        "id": "Sg_RA-oq3ZqU"
      },
      "source": [
        "Remember that we had this fake data."
      ]
    },
    {
      "cell_type": "code",
      "execution_count": 20,
      "metadata": {
        "id": "GZT4bDvq3ZqU"
      },
      "outputs": [],
      "source": [
        "x_train = torch.FloatTensor([[1], [2], [3]])\n",
        "y_train = torch.FloatTensor([[1], [2], [3]])"
      ]
    },
    {
      "cell_type": "markdown",
      "metadata": {
        "id": "QHkZpPCo3ZqV"
      },
      "source": [
        "이제 linear regression 모델을 만들면 되는데, 기본적으로 PyTorch의 모든 모델은 제공되는 `nn.Module`을 inherit 해서 만들게 됩니다."
      ]
    },
    {
      "cell_type": "code",
      "execution_count": 21,
      "metadata": {
        "id": "ImwKIvuQ3ZqV"
      },
      "outputs": [],
      "source": [
        "class LinearRegressionModel(nn.Module):\n",
        "    def __init__(self):\n",
        "        super().__init__()\n",
        "        self.linear = nn.Linear(1, 1)\n",
        "\n",
        "    def forward(self, x):\n",
        "        return self.linear(x)"
      ]
    },
    {
      "cell_type": "markdown",
      "metadata": {
        "id": "9BPdk69G3ZqW"
      },
      "source": [
        "모델의 `__init__`에서는 사용할 레이어들을 정의하게 됩니다. 여기서 우리는 linear regression 모델을 만들기 때문에, `nn.Linear` 를 이용할 것입니다. 그리고 `forward`에서는 이 모델이 어떻게 입력값에서 출력값을 계산하는지 알려줍니다."
      ]
    },
    {
      "cell_type": "code",
      "execution_count": 22,
      "metadata": {
        "id": "Hs1uZ-kx3ZqW"
      },
      "outputs": [],
      "source": [
        "model = LinearRegressionModel()"
      ]
    },
    {
      "cell_type": "markdown",
      "metadata": {
        "id": "Q9InFo3C3ZqW"
      },
      "source": [
        "## Hypothesis"
      ]
    },
    {
      "cell_type": "markdown",
      "metadata": {
        "id": "_Ua659WK3ZqX"
      },
      "source": [
        "이제 모델을 생성해서 예측값 $H(x)$를 구해보자"
      ]
    },
    {
      "cell_type": "code",
      "execution_count": 23,
      "metadata": {
        "id": "SForNBLP3ZqX"
      },
      "outputs": [],
      "source": [
        "hypothesis = model(x_train)"
      ]
    },
    {
      "cell_type": "code",
      "execution_count": 24,
      "metadata": {
        "id": "ropnfIC63ZqY",
        "outputId": "c0740284-5a13-44b4-8218-c2b673b75a42",
        "colab": {
          "base_uri": "https://localhost:8080/"
        }
      },
      "outputs": [
        {
          "output_type": "stream",
          "name": "stdout",
          "text": [
            "tensor([[0.0739],\n",
            "        [0.5891],\n",
            "        [1.1044]], grad_fn=<AddmmBackward0>)\n"
          ]
        }
      ],
      "source": [
        "print(hypothesis)"
      ]
    },
    {
      "cell_type": "markdown",
      "metadata": {
        "id": "iejbEgbC3ZqZ"
      },
      "source": [
        "## Cost"
      ]
    },
    {
      "cell_type": "markdown",
      "metadata": {
        "id": "w2SI3azk3ZqZ"
      },
      "source": [
        "이제 mean squared error (MSE) 로 cost를 구해보자. MSE 역시 PyTorch에서 기본적으로 제공한다."
      ]
    },
    {
      "cell_type": "code",
      "execution_count": 25,
      "metadata": {
        "id": "pkwaEYQx3Zqa",
        "outputId": "49e18117-db96-4698-f769-174ebecd1753",
        "colab": {
          "base_uri": "https://localhost:8080/"
        }
      },
      "outputs": [
        {
          "output_type": "stream",
          "name": "stdout",
          "text": [
            "tensor([[0.0739],\n",
            "        [0.5891],\n",
            "        [1.1044]], grad_fn=<AddmmBackward0>)\n",
            "tensor([[1.],\n",
            "        [2.],\n",
            "        [3.]])\n"
          ]
        }
      ],
      "source": [
        "print(hypothesis)\n",
        "print(y_train)"
      ]
    },
    {
      "cell_type": "code",
      "execution_count": 26,
      "metadata": {
        "id": "sCr8nkvq3Zqc"
      },
      "outputs": [],
      "source": [
        "cost = F.mse_loss(hypothesis, y_train)"
      ]
    },
    {
      "cell_type": "code",
      "execution_count": 27,
      "metadata": {
        "id": "yesty5G-3Zqd",
        "outputId": "f7e419b0-170c-4c28-8d67-5eb4aa247e15",
        "colab": {
          "base_uri": "https://localhost:8080/"
        }
      },
      "outputs": [
        {
          "output_type": "stream",
          "name": "stdout",
          "text": [
            "tensor(2.1471, grad_fn=<MseLossBackward0>)\n"
          ]
        }
      ],
      "source": [
        "print(cost)"
      ]
    },
    {
      "cell_type": "markdown",
      "metadata": {
        "id": "Cn-Uva7l3Zqd"
      },
      "source": [
        "## Gradient Descent"
      ]
    },
    {
      "cell_type": "markdown",
      "metadata": {
        "id": "taWziD3k3Zqe"
      },
      "source": [
        "마지막 주어진 cost를 이용해 $H(x)$ 의 $W, b$ 를 바꾸어서 cost를 줄여봅니다. 이때 PyTorch의 `torch.optim` 에 있는 `optimizer` 들 중 하나를 사용할 수 있습니다."
      ]
    },
    {
      "cell_type": "code",
      "execution_count": 28,
      "metadata": {
        "id": "-u9vUGKa3Zqe"
      },
      "outputs": [],
      "source": [
        "optimizer = optim.SGD(model.parameters(), lr=0.01)"
      ]
    },
    {
      "cell_type": "code",
      "execution_count": 29,
      "metadata": {
        "id": "XpUbBy4f3Zqe"
      },
      "outputs": [],
      "source": [
        "optimizer.zero_grad()\n",
        "cost.backward()\n",
        "optimizer.step()"
      ]
    },
    {
      "cell_type": "markdown",
      "metadata": {
        "id": "-mXUCPXM3Zqf"
      },
      "source": [
        "## Training with Full Code"
      ]
    },
    {
      "cell_type": "markdown",
      "metadata": {
        "id": "HQeHnVGU3Zqf"
      },
      "source": [
        "이제 Linear Regression 코드를 이해했으니, 실제로 코드를 돌려 피팅시켜보겠습니다."
      ]
    },
    {
      "cell_type": "code",
      "execution_count": null,
      "metadata": {
        "id": "llBBdIbG3Zqf",
        "outputId": "8a2382f8-1255-421f-aefe-3a162b9a0d3e"
      },
      "outputs": [
        {
          "name": "stdout",
          "output_type": "stream",
          "text": [
            "Epoch    0/1000 W: -0.101, b: 0.508 Cost: 4.630286\n",
            "Epoch  100/1000 W: 0.713, b: 0.653 Cost: 0.061555\n",
            "Epoch  200/1000 W: 0.774, b: 0.514 Cost: 0.038037\n",
            "Epoch  300/1000 W: 0.822, b: 0.404 Cost: 0.023505\n",
            "Epoch  400/1000 W: 0.860, b: 0.317 Cost: 0.014525\n",
            "Epoch  500/1000 W: 0.890, b: 0.250 Cost: 0.008975\n",
            "Epoch  600/1000 W: 0.914, b: 0.196 Cost: 0.005546\n",
            "Epoch  700/1000 W: 0.932, b: 0.154 Cost: 0.003427\n",
            "Epoch  800/1000 W: 0.947, b: 0.121 Cost: 0.002118\n",
            "Epoch  900/1000 W: 0.958, b: 0.095 Cost: 0.001309\n",
            "Epoch 1000/1000 W: 0.967, b: 0.075 Cost: 0.000809\n"
          ]
        }
      ],
      "source": [
        "# 데이터\n",
        "x_train = torch.FloatTensor([[1], [2], [3]])\n",
        "y_train = torch.FloatTensor([[1], [2], [3]])\n",
        "# 모델 초기화\n",
        "model = LinearRegressionModel()\n",
        "# optimizer 설정\n",
        "optimizer = optim.SGD(model.parameters(), lr=0.01)\n",
        "\n",
        "nb_epochs = 1000\n",
        "for epoch in range(nb_epochs + 1):\n",
        "\n",
        "    # H(x) 계산\n",
        "    prediction = model(x_train)\n",
        "\n",
        "    # cost 계산\n",
        "    cost = F.mse_loss(prediction, y_train)\n",
        "\n",
        "    # cost로 H(x) 개선\n",
        "    optimizer.zero_grad()\n",
        "    cost.backward()\n",
        "    optimizer.step()\n",
        "\n",
        "    # 100번마다 로그 출력\n",
        "    if epoch % 100 == 0:\n",
        "        params = list(model.parameters())\n",
        "        W = params[0].item()\n",
        "        b = params[1].item()\n",
        "        print('Epoch {:4d}/{} W: {:.3f}, b: {:.3f} Cost: {:.6f}'.format(\n",
        "            epoch, nb_epochs, W, b, cost.item()\n",
        "        ))"
      ]
    },
    {
      "cell_type": "markdown",
      "metadata": {
        "id": "7pstVzQ33Zqg"
      },
      "source": [
        "점점 $H(x)$ 의 $W$ 와 $b$ 를 조정해서 cost가 줄어드는 것을 볼 수 있습니다."
      ]
    }
  ],
  "metadata": {
    "kernelspec": {
      "display_name": "Python 3",
      "language": "python",
      "name": "python3"
    },
    "language_info": {
      "codemirror_mode": {
        "name": "ipython",
        "version": 3
      },
      "file_extension": ".py",
      "mimetype": "text/x-python",
      "name": "python",
      "nbconvert_exporter": "python",
      "pygments_lexer": "ipython3",
      "version": "3.7.0"
    },
    "colab": {
      "provenance": []
    }
  },
  "nbformat": 4,
  "nbformat_minor": 0
}