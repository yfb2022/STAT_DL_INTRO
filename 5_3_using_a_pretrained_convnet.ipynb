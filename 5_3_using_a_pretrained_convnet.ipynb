{
  "nbformat": 4,
  "nbformat_minor": 0,
  "metadata": {
    "kernelspec": {
      "name": "python3",
      "display_name": "Python 3"
    },
    "language_info": {
      "codemirror_mode": {
        "name": "ipython",
        "version": 3
      },
      "file_extension": ".py",
      "mimetype": "text/x-python",
      "name": "python",
      "nbconvert_exporter": "python",
      "pygments_lexer": "ipython3",
      "version": "3.5.2"
    },
    "colab": {
      "provenance": [],
      "include_colab_link": true
    },
    "accelerator": "GPU"
  },
  "cells": [
    {
      "cell_type": "markdown",
      "metadata": {
        "id": "view-in-github",
        "colab_type": "text"
      },
      "source": [
        "<a href=\"https://colab.research.google.com/github/yfb2022/STAT_DL_INTRO/blob/main/5_3_using_a_pretrained_convnet.ipynb\" target=\"_parent\"><img src=\"https://colab.research.google.com/assets/colab-badge.svg\" alt=\"Open In Colab\"/></a>"
      ]
    },
    {
      "cell_type": "code",
      "metadata": {
        "id": "pq6l-H-mp7wF"
      },
      "source": [
        "import tensorflow as tf"
      ],
      "execution_count": null,
      "outputs": []
    },
    {
      "cell_type": "markdown",
      "metadata": {
        "id": "iRcUK9mDp7wM"
      },
      "source": [
        "# Using a pre-trained convnet\n",
        "\n",
        "소규모 이미지 데이터 세트에 대한 딥 러닝에 대한 일반적이고 매우 효과적인 접근 방식은 사전 훈련된 네트워크를 활용하는 것입니다.\n",
        "\n",
        "사전 훈련된 네트워크: 대규모 이미지 분류 작업에 대해 대규모 데이터 세트에 대해 이전에 훈련된 저장된 네트워크입니다.\n",
        "\n",
        "_사전 훈련된 네트워크를 활용하는 방법 : 특징 추출_ 과 _미세 조정이라는_ 두 가지 방법이 있습니다"
      ]
    },
    {
      "cell_type": "markdown",
      "metadata": {
        "id": "xyMsPkgrp7wO"
      },
      "source": [
        "## Feature extraction\n",
        "\n",
        "![swapping FC classifiers](https://s3.amazonaws.com/book.keras.io/img/ch5/swapping_fc_classifier.png)\n",
        "\n",
        "특징 추출: 이전 네트워크에서 학습한 컨볼루션 표현을 사용하여 새 샘플에서 흥미로운 피처를 추출\n",
        "그 후 훈련된 새로운 분류기를 통해 실행됩니다.\n",
        "\n",
        "CONVNET:\n",
        "\n",
        "1) 일련의 풀링 및 컨볼루션 레이어\n",
        "\n",
        "2) FC Classifier.\n",
        "\n"
      ]
    },
    {
      "cell_type": "markdown",
      "metadata": {
        "id": "srvhuMd7p7wQ"
      },
      "source": [
        "사전훈련 모델:\n",
        "* Xception\n",
        "* InceptionV3\n",
        "* ResNet50\n",
        "* VGG16\n",
        "* VGG19\n",
        "* MobileNet\n",
        "\n"
      ]
    },
    {
      "cell_type": "code",
      "metadata": {
        "id": "ImyxPSq2p7wR"
      },
      "source": [
        "from tensorflow.keras.applications import VGG16\n",
        "\n",
        "conv_base = VGG16(weights='imagenet',\n",
        "                  include_top=False,\n",
        "                  input_shape=(150, 150, 3))"
      ],
      "execution_count": null,
      "outputs": []
    },
    {
      "cell_type": "markdown",
      "metadata": {
        "id": "Xkcxbdf_p7wV"
      },
      "source": [
        "We passed three arguments to the constructor:\n",
        "\n",
        "* `weights`, 모델을 초기화할 가중치 체크포인트 지정\n",
        "* `include_top`, FC Classifier를 네트워크 위에 포함할지의 여부. 기본적으로 FC-Classifier는 ImageNet의 1000개 클래스에 해당.\n",
        "\n",
        "* `input_shape`,네트워크에 공급할 이미지 텐서의 모양 이 인수를 전달하지 않으면 네트워크는 모든 크기의 입력을 처리."
      ]
    },
    {
      "cell_type": "code",
      "metadata": {
        "id": "JVmF7nsGp7wW",
        "outputId": "e371f357-a5ec-48fc-9415-faf944a6d0bf",
        "colab": {
          "base_uri": "https://localhost:8080/"
        }
      },
      "source": [
        "conv_base.summary()"
      ],
      "execution_count": null,
      "outputs": [
        {
          "output_type": "stream",
          "name": "stdout",
          "text": [
            "Model: \"vgg16\"\n",
            "_________________________________________________________________\n",
            " Layer (type)                Output Shape              Param #   \n",
            "=================================================================\n",
            " input_2 (InputLayer)        [(None, 150, 150, 3)]     0         \n",
            "                                                                 \n",
            " block1_conv1 (Conv2D)       (None, 150, 150, 64)      1792      \n",
            "                                                                 \n",
            " block1_conv2 (Conv2D)       (None, 150, 150, 64)      36928     \n",
            "                                                                 \n",
            " block1_pool (MaxPooling2D)  (None, 75, 75, 64)        0         \n",
            "                                                                 \n",
            " block2_conv1 (Conv2D)       (None, 75, 75, 128)       73856     \n",
            "                                                                 \n",
            " block2_conv2 (Conv2D)       (None, 75, 75, 128)       147584    \n",
            "                                                                 \n",
            " block2_pool (MaxPooling2D)  (None, 37, 37, 128)       0         \n",
            "                                                                 \n",
            " block3_conv1 (Conv2D)       (None, 37, 37, 256)       295168    \n",
            "                                                                 \n",
            " block3_conv2 (Conv2D)       (None, 37, 37, 256)       590080    \n",
            "                                                                 \n",
            " block3_conv3 (Conv2D)       (None, 37, 37, 256)       590080    \n",
            "                                                                 \n",
            " block3_pool (MaxPooling2D)  (None, 18, 18, 256)       0         \n",
            "                                                                 \n",
            " block4_conv1 (Conv2D)       (None, 18, 18, 512)       1180160   \n",
            "                                                                 \n",
            " block4_conv2 (Conv2D)       (None, 18, 18, 512)       2359808   \n",
            "                                                                 \n",
            " block4_conv3 (Conv2D)       (None, 18, 18, 512)       2359808   \n",
            "                                                                 \n",
            " block4_pool (MaxPooling2D)  (None, 9, 9, 512)         0         \n",
            "                                                                 \n",
            " block5_conv1 (Conv2D)       (None, 9, 9, 512)         2359808   \n",
            "                                                                 \n",
            " block5_conv2 (Conv2D)       (None, 9, 9, 512)         2359808   \n",
            "                                                                 \n",
            " block5_conv3 (Conv2D)       (None, 9, 9, 512)         2359808   \n",
            "                                                                 \n",
            " block5_pool (MaxPooling2D)  (None, 4, 4, 512)         0         \n",
            "                                                                 \n",
            "=================================================================\n",
            "Total params: 14714688 (56.13 MB)\n",
            "Trainable params: 14714688 (56.13 MB)\n",
            "Non-trainable params: 0 (0.00 Byte)\n",
            "_________________________________________________________________\n"
          ]
        }
      ]
    },
    {
      "cell_type": "markdown",
      "metadata": {
        "id": "2YWpo2kzp7wa"
      },
      "source": [
        "최종 피처맵의 모양은 (4, 4, 512).\n",
        "\n",
        "1) 데이터 세트에 대해 컨볼루셔널 기반을 실행하고 그 출력을 디스크의 배열에 기록한 다음 이 데이터를 FC-Classifier에 대한 입력으로 사용.\n",
        "\n",
        "이 솔루션은 모든 입력 이미지에 대해 컨벌루션 기반을 한 번만 실행하면 되고 컨벌루션 기반은 파이프라인에서 단연 가장 비용이 많이 드는 부분이기 때문에 실행이 빠르고 저렴. 그러나 같은 이유로 이 기술에서는 데이터 증대를 사용 불가.\n",
        "\n",
        "2) conv_base 상단에 Dense 레이어를 추가\n",
        "\n",
        "이렇게 하면 모든 입력 이미지가 컨볼루션 기반을 통과하므로 데이터 증대를 사용할 수 있으나 소요 시간이 많음."
      ]
    },
    {
      "cell_type": "code",
      "metadata": {
        "id": "YOkQVIm_q2Eh",
        "outputId": "50d47fac-d9ec-4941-f7e0-f87d16b46eda",
        "colab": {
          "base_uri": "https://localhost:8080/"
        }
      },
      "source": [
        "%cd /content/drive/My Drive/DeepLearning/Programs/deep-learning-with-r-notebooks-master/notebooks"
      ],
      "execution_count": null,
      "outputs": [
        {
          "output_type": "stream",
          "name": "stdout",
          "text": [
            "[Errno 2] No such file or directory: '/content/drive/My Drive/DeepLearning/Programs/deep-learning-with-r-notebooks-master/notebooks'\n",
            "/content\n"
          ]
        }
      ]
    },
    {
      "cell_type": "code",
      "metadata": {
        "id": "0SzeoFBo3nxv",
        "colab": {
          "base_uri": "https://localhost:8080/"
        },
        "outputId": "1da0026e-0f4f-46f2-dc5b-7924549da90c"
      },
      "source": [
        "!ls"
      ],
      "execution_count": null,
      "outputs": [
        {
          "output_type": "stream",
          "name": "stdout",
          "text": [
            "sample_data\n"
          ]
        }
      ]
    },
    {
      "cell_type": "code",
      "metadata": {
        "id": "p0jhhpEWp7wc",
        "outputId": "5aadbf65-a7cc-4dc9-ee25-b562b058e525",
        "colab": {
          "base_uri": "https://localhost:8080/",
          "height": 423
        }
      },
      "source": [
        "import os\n",
        "import numpy as np\n",
        "from keras.preprocessing.image import ImageDataGenerator\n",
        "\n",
        "base_dir = 'cats_and_dogs_small'\n",
        "# 경로 설정\n",
        "train_dir = os.path.join(base_dir, 'train')\n",
        "validation_dir = os.path.join(base_dir, 'validation')\n",
        "test_dir = os.path.join(base_dir, 'test')\n",
        "# 스케일링\n",
        "datagen = ImageDataGenerator(rescale=1./255) #\n",
        "batch_size = 20\n",
        "\n",
        "def extract_features(directory, sample_count):\n",
        "    features = np.zeros(shape=(sample_count, 4, 4, 512))\n",
        "    labels = np.zeros(shape=(sample_count))\n",
        "    generator = datagen.flow_from_directory(\n",
        "        directory,\n",
        "        target_size=(150, 150),\n",
        "        batch_size=batch_size,\n",
        "        class_mode='binary')\n",
        "    for i, (inputs_batch, labels_batch) in enumerate(generator):\n",
        "        features_batch = conv_base.predict(inputs_batch)\n",
        "        features[i * batch_size : (i + 1) * batch_size] = features_batch\n",
        "        labels[i * batch_size : (i + 1) * batch_size] = labels_batch\n",
        "        i += 1\n",
        "        if i * batch_size >= sample_count:\n",
        "            # Note that since generators yield data indefinitely in a loop,\n",
        "            # we must `break` after every image has been seen once.\n",
        "            break\n",
        "    return features, labels\n",
        "\n",
        "train_features, train_labels = extract_features(train_dir, 2000)\n",
        "validation_features, validation_labels = extract_features(validation_dir, 1000)\n",
        "test_features, test_labels = extract_features(test_dir, 1000)"
      ],
      "execution_count": null,
      "outputs": [
        {
          "output_type": "error",
          "ename": "FileNotFoundError",
          "evalue": "[Errno 2] No such file or directory: 'cats_and_dogs_small/train'",
          "traceback": [
            "\u001b[0;31m---------------------------------------------------------------------------\u001b[0m",
            "\u001b[0;31mFileNotFoundError\u001b[0m                         Traceback (most recent call last)",
            "\u001b[0;32m<ipython-input-12-b8d72b1b1cf7>\u001b[0m in \u001b[0;36m<cell line: 34>\u001b[0;34m()\u001b[0m\n\u001b[1;32m     32\u001b[0m     \u001b[0;32mreturn\u001b[0m \u001b[0mfeatures\u001b[0m\u001b[0;34m,\u001b[0m \u001b[0mlabels\u001b[0m\u001b[0;34m\u001b[0m\u001b[0;34m\u001b[0m\u001b[0m\n\u001b[1;32m     33\u001b[0m \u001b[0;34m\u001b[0m\u001b[0m\n\u001b[0;32m---> 34\u001b[0;31m \u001b[0mtrain_features\u001b[0m\u001b[0;34m,\u001b[0m \u001b[0mtrain_labels\u001b[0m \u001b[0;34m=\u001b[0m \u001b[0mextract_features\u001b[0m\u001b[0;34m(\u001b[0m\u001b[0mtrain_dir\u001b[0m\u001b[0;34m,\u001b[0m \u001b[0;36m2000\u001b[0m\u001b[0;34m)\u001b[0m\u001b[0;34m\u001b[0m\u001b[0;34m\u001b[0m\u001b[0m\n\u001b[0m\u001b[1;32m     35\u001b[0m \u001b[0mvalidation_features\u001b[0m\u001b[0;34m,\u001b[0m \u001b[0mvalidation_labels\u001b[0m \u001b[0;34m=\u001b[0m \u001b[0mextract_features\u001b[0m\u001b[0;34m(\u001b[0m\u001b[0mvalidation_dir\u001b[0m\u001b[0;34m,\u001b[0m \u001b[0;36m1000\u001b[0m\u001b[0;34m)\u001b[0m\u001b[0;34m\u001b[0m\u001b[0;34m\u001b[0m\u001b[0m\n\u001b[1;32m     36\u001b[0m \u001b[0mtest_features\u001b[0m\u001b[0;34m,\u001b[0m \u001b[0mtest_labels\u001b[0m \u001b[0;34m=\u001b[0m \u001b[0mextract_features\u001b[0m\u001b[0;34m(\u001b[0m\u001b[0mtest_dir\u001b[0m\u001b[0;34m,\u001b[0m \u001b[0;36m1000\u001b[0m\u001b[0;34m)\u001b[0m\u001b[0;34m\u001b[0m\u001b[0;34m\u001b[0m\u001b[0m\n",
            "\u001b[0;32m<ipython-input-12-b8d72b1b1cf7>\u001b[0m in \u001b[0;36mextract_features\u001b[0;34m(directory, sample_count)\u001b[0m\n\u001b[1;32m     15\u001b[0m     \u001b[0mfeatures\u001b[0m \u001b[0;34m=\u001b[0m \u001b[0mnp\u001b[0m\u001b[0;34m.\u001b[0m\u001b[0mzeros\u001b[0m\u001b[0;34m(\u001b[0m\u001b[0mshape\u001b[0m\u001b[0;34m=\u001b[0m\u001b[0;34m(\u001b[0m\u001b[0msample_count\u001b[0m\u001b[0;34m,\u001b[0m \u001b[0;36m4\u001b[0m\u001b[0;34m,\u001b[0m \u001b[0;36m4\u001b[0m\u001b[0;34m,\u001b[0m \u001b[0;36m512\u001b[0m\u001b[0;34m)\u001b[0m\u001b[0;34m)\u001b[0m\u001b[0;34m\u001b[0m\u001b[0;34m\u001b[0m\u001b[0m\n\u001b[1;32m     16\u001b[0m     \u001b[0mlabels\u001b[0m \u001b[0;34m=\u001b[0m \u001b[0mnp\u001b[0m\u001b[0;34m.\u001b[0m\u001b[0mzeros\u001b[0m\u001b[0;34m(\u001b[0m\u001b[0mshape\u001b[0m\u001b[0;34m=\u001b[0m\u001b[0;34m(\u001b[0m\u001b[0msample_count\u001b[0m\u001b[0;34m)\u001b[0m\u001b[0;34m)\u001b[0m\u001b[0;34m\u001b[0m\u001b[0;34m\u001b[0m\u001b[0m\n\u001b[0;32m---> 17\u001b[0;31m     generator = datagen.flow_from_directory(\n\u001b[0m\u001b[1;32m     18\u001b[0m         \u001b[0mdirectory\u001b[0m\u001b[0;34m,\u001b[0m\u001b[0;34m\u001b[0m\u001b[0;34m\u001b[0m\u001b[0m\n\u001b[1;32m     19\u001b[0m         \u001b[0mtarget_size\u001b[0m\u001b[0;34m=\u001b[0m\u001b[0;34m(\u001b[0m\u001b[0;36m150\u001b[0m\u001b[0;34m,\u001b[0m \u001b[0;36m150\u001b[0m\u001b[0;34m)\u001b[0m\u001b[0;34m,\u001b[0m\u001b[0;34m\u001b[0m\u001b[0;34m\u001b[0m\u001b[0m\n",
            "\u001b[0;32m/usr/local/lib/python3.10/dist-packages/keras/src/preprocessing/image.py\u001b[0m in \u001b[0;36mflow_from_directory\u001b[0;34m(self, directory, target_size, color_mode, classes, class_mode, batch_size, shuffle, seed, save_to_dir, save_prefix, save_format, follow_links, subset, interpolation, keep_aspect_ratio)\u001b[0m\n\u001b[1;32m   1647\u001b[0m             \u001b[0;32mand\u001b[0m\u001b[0;31m \u001b[0m\u001b[0;31m`\u001b[0m\u001b[0my\u001b[0m\u001b[0;31m`\u001b[0m \u001b[0;32mis\u001b[0m \u001b[0ma\u001b[0m \u001b[0mnumpy\u001b[0m \u001b[0marray\u001b[0m \u001b[0mof\u001b[0m \u001b[0mcorresponding\u001b[0m \u001b[0mlabels\u001b[0m\u001b[0;34m.\u001b[0m\u001b[0;34m\u001b[0m\u001b[0;34m\u001b[0m\u001b[0m\n\u001b[1;32m   1648\u001b[0m         \"\"\"\n\u001b[0;32m-> 1649\u001b[0;31m         return DirectoryIterator(\n\u001b[0m\u001b[1;32m   1650\u001b[0m             \u001b[0mdirectory\u001b[0m\u001b[0;34m,\u001b[0m\u001b[0;34m\u001b[0m\u001b[0;34m\u001b[0m\u001b[0m\n\u001b[1;32m   1651\u001b[0m             \u001b[0mself\u001b[0m\u001b[0;34m,\u001b[0m\u001b[0;34m\u001b[0m\u001b[0;34m\u001b[0m\u001b[0m\n",
            "\u001b[0;32m/usr/local/lib/python3.10/dist-packages/keras/src/preprocessing/image.py\u001b[0m in \u001b[0;36m__init__\u001b[0;34m(self, directory, image_data_generator, target_size, color_mode, classes, class_mode, batch_size, shuffle, seed, data_format, save_to_dir, save_prefix, save_format, follow_links, subset, interpolation, keep_aspect_ratio, dtype)\u001b[0m\n\u001b[1;32m    561\u001b[0m         \u001b[0;32mif\u001b[0m \u001b[0;32mnot\u001b[0m \u001b[0mclasses\u001b[0m\u001b[0;34m:\u001b[0m\u001b[0;34m\u001b[0m\u001b[0;34m\u001b[0m\u001b[0m\n\u001b[1;32m    562\u001b[0m             \u001b[0mclasses\u001b[0m \u001b[0;34m=\u001b[0m \u001b[0;34m[\u001b[0m\u001b[0;34m]\u001b[0m\u001b[0;34m\u001b[0m\u001b[0;34m\u001b[0m\u001b[0m\n\u001b[0;32m--> 563\u001b[0;31m             \u001b[0;32mfor\u001b[0m \u001b[0msubdir\u001b[0m \u001b[0;32min\u001b[0m \u001b[0msorted\u001b[0m\u001b[0;34m(\u001b[0m\u001b[0mos\u001b[0m\u001b[0;34m.\u001b[0m\u001b[0mlistdir\u001b[0m\u001b[0;34m(\u001b[0m\u001b[0mdirectory\u001b[0m\u001b[0;34m)\u001b[0m\u001b[0;34m)\u001b[0m\u001b[0;34m:\u001b[0m\u001b[0;34m\u001b[0m\u001b[0;34m\u001b[0m\u001b[0m\n\u001b[0m\u001b[1;32m    564\u001b[0m                 \u001b[0;32mif\u001b[0m \u001b[0mos\u001b[0m\u001b[0;34m.\u001b[0m\u001b[0mpath\u001b[0m\u001b[0;34m.\u001b[0m\u001b[0misdir\u001b[0m\u001b[0;34m(\u001b[0m\u001b[0mos\u001b[0m\u001b[0;34m.\u001b[0m\u001b[0mpath\u001b[0m\u001b[0;34m.\u001b[0m\u001b[0mjoin\u001b[0m\u001b[0;34m(\u001b[0m\u001b[0mdirectory\u001b[0m\u001b[0;34m,\u001b[0m \u001b[0msubdir\u001b[0m\u001b[0;34m)\u001b[0m\u001b[0;34m)\u001b[0m\u001b[0;34m:\u001b[0m\u001b[0;34m\u001b[0m\u001b[0;34m\u001b[0m\u001b[0m\n\u001b[1;32m    565\u001b[0m                     \u001b[0mclasses\u001b[0m\u001b[0;34m.\u001b[0m\u001b[0mappend\u001b[0m\u001b[0;34m(\u001b[0m\u001b[0msubdir\u001b[0m\u001b[0;34m)\u001b[0m\u001b[0;34m\u001b[0m\u001b[0;34m\u001b[0m\u001b[0m\n",
            "\u001b[0;31mFileNotFoundError\u001b[0m: [Errno 2] No such file or directory: 'cats_and_dogs_small/train'"
          ]
        }
      ]
    },
    {
      "cell_type": "markdown",
      "metadata": {
        "id": "yea7Plp5p7wf"
      },
      "source": [
        "추출피처 모양: (samples, 4, 4, 512).\n",
        "\n",
        "이를 Densely-Connected Layer에 입력하기위해 Flatten.`(samples, 8192)`:"
      ]
    },
    {
      "cell_type": "code",
      "metadata": {
        "id": "56GMCUuFp7wg"
      },
      "source": [
        "train_features = np.reshape(train_features, (2000, 4 * 4 * 512))\n",
        "validation_features = np.reshape(validation_features, (1000, 4 * 4 * 512))\n",
        "test_features = np.reshape(test_features, (1000, 4 * 4 * 512))"
      ],
      "execution_count": null,
      "outputs": []
    },
    {
      "cell_type": "code",
      "metadata": {
        "id": "lmpltrdEp7wk",
        "outputId": "b715c22c-39ef-4ab1-8563-56276e5263bd",
        "colab": {
          "base_uri": "https://localhost:8080/",
          "height": 1000
        }
      },
      "source": [
        "from keras import models\n",
        "from keras import layers\n",
        "from keras import optimizers\n",
        "\n",
        "model = models.Sequential()\n",
        "model.add(layers.Dense(256, activation='relu', input_dim=4 * 4 * 512))\n",
        "model.add(layers.Dropout(0.5))\n",
        "model.add(layers.Dense(1, activation='sigmoid'))\n",
        "\n",
        "model.compile(optimizer=optimizers.RMSprop(lr=2e-5),\n",
        "              loss='binary_crossentropy',\n",
        "              metrics=['acc'])\n",
        "\n",
        "history = model.fit(train_features, train_labels,\n",
        "                    epochs=30,\n",
        "                    batch_size=20,\n",
        "                    validation_data=(validation_features, validation_labels))"
      ],
      "execution_count": null,
      "outputs": [
        {
          "output_type": "stream",
          "text": [
            "WARNING:tensorflow:From /usr/local/lib/python3.6/dist-packages/keras/backend/tensorflow_backend.py:148: The name tf.placeholder_with_default is deprecated. Please use tf.compat.v1.placeholder_with_default instead.\n",
            "\n",
            "WARNING:tensorflow:From /usr/local/lib/python3.6/dist-packages/keras/backend/tensorflow_backend.py:3733: calling dropout (from tensorflow.python.ops.nn_ops) with keep_prob is deprecated and will be removed in a future version.\n",
            "Instructions for updating:\n",
            "Please use `rate` instead of `keep_prob`. Rate should be set to `rate = 1 - keep_prob`.\n",
            "WARNING:tensorflow:From /usr/local/lib/python3.6/dist-packages/keras/optimizers.py:793: The name tf.train.Optimizer is deprecated. Please use tf.compat.v1.train.Optimizer instead.\n",
            "\n",
            "WARNING:tensorflow:From /usr/local/lib/python3.6/dist-packages/keras/backend/tensorflow_backend.py:3657: The name tf.log is deprecated. Please use tf.math.log instead.\n",
            "\n",
            "WARNING:tensorflow:From /usr/local/lib/python3.6/dist-packages/tensorflow_core/python/ops/nn_impl.py:183: where (from tensorflow.python.ops.array_ops) is deprecated and will be removed in a future version.\n",
            "Instructions for updating:\n",
            "Use tf.where in 2.0, which has the same broadcast rule as np.where\n",
            "WARNING:tensorflow:From /usr/local/lib/python3.6/dist-packages/keras/backend/tensorflow_backend.py:1033: The name tf.assign_add is deprecated. Please use tf.compat.v1.assign_add instead.\n",
            "\n",
            "WARNING:tensorflow:From /usr/local/lib/python3.6/dist-packages/keras/backend/tensorflow_backend.py:1020: The name tf.assign is deprecated. Please use tf.compat.v1.assign instead.\n",
            "\n",
            "Train on 2000 samples, validate on 1000 samples\n",
            "Epoch 1/30\n",
            "2000/2000 [==============================] - 1s 570us/step - loss: 0.6370 - acc: 0.6225 - val_loss: 0.4622 - val_acc: 0.8210\n",
            "Epoch 2/30\n",
            "2000/2000 [==============================] - 1s 385us/step - loss: 0.4380 - acc: 0.8065 - val_loss: 0.3772 - val_acc: 0.8510\n",
            "Epoch 3/30\n",
            "2000/2000 [==============================] - 1s 403us/step - loss: 0.3626 - acc: 0.8465 - val_loss: 0.3333 - val_acc: 0.8770\n",
            "Epoch 4/30\n",
            "2000/2000 [==============================] - 1s 396us/step - loss: 0.3191 - acc: 0.8705 - val_loss: 0.3121 - val_acc: 0.8730\n",
            "Epoch 5/30\n",
            "2000/2000 [==============================] - 1s 406us/step - loss: 0.2935 - acc: 0.8855 - val_loss: 0.2902 - val_acc: 0.8920\n",
            "Epoch 6/30\n",
            "2000/2000 [==============================] - 1s 395us/step - loss: 0.2705 - acc: 0.8910 - val_loss: 0.2833 - val_acc: 0.8860\n",
            "Epoch 7/30\n",
            "2000/2000 [==============================] - 1s 387us/step - loss: 0.2488 - acc: 0.9055 - val_loss: 0.2690 - val_acc: 0.8970\n",
            "Epoch 8/30\n",
            "2000/2000 [==============================] - 1s 400us/step - loss: 0.2411 - acc: 0.9055 - val_loss: 0.2612 - val_acc: 0.9020\n",
            "Epoch 9/30\n",
            "2000/2000 [==============================] - 1s 401us/step - loss: 0.2227 - acc: 0.9140 - val_loss: 0.2561 - val_acc: 0.9060\n",
            "Epoch 10/30\n",
            "2000/2000 [==============================] - 1s 401us/step - loss: 0.2114 - acc: 0.9220 - val_loss: 0.2512 - val_acc: 0.9090\n",
            "Epoch 11/30\n",
            "2000/2000 [==============================] - 1s 411us/step - loss: 0.1989 - acc: 0.9235 - val_loss: 0.2484 - val_acc: 0.9080\n",
            "Epoch 12/30\n",
            "2000/2000 [==============================] - 1s 406us/step - loss: 0.1888 - acc: 0.9340 - val_loss: 0.2458 - val_acc: 0.9070\n",
            "Epoch 13/30\n",
            "2000/2000 [==============================] - 1s 430us/step - loss: 0.1822 - acc: 0.9320 - val_loss: 0.2433 - val_acc: 0.9080\n",
            "Epoch 14/30\n",
            "2000/2000 [==============================] - 1s 397us/step - loss: 0.1749 - acc: 0.9380 - val_loss: 0.2450 - val_acc: 0.9010\n",
            "Epoch 15/30\n",
            "2000/2000 [==============================] - 1s 432us/step - loss: 0.1626 - acc: 0.9425 - val_loss: 0.2397 - val_acc: 0.9090\n",
            "Epoch 16/30\n",
            "2000/2000 [==============================] - 1s 388us/step - loss: 0.1607 - acc: 0.9430 - val_loss: 0.2396 - val_acc: 0.9090\n",
            "Epoch 17/30\n",
            "2000/2000 [==============================] - 1s 396us/step - loss: 0.1523 - acc: 0.9470 - val_loss: 0.2409 - val_acc: 0.9020\n",
            "Epoch 18/30\n",
            "2000/2000 [==============================] - 1s 402us/step - loss: 0.1511 - acc: 0.9445 - val_loss: 0.2371 - val_acc: 0.9050\n",
            "Epoch 19/30\n",
            "2000/2000 [==============================] - 1s 396us/step - loss: 0.1435 - acc: 0.9480 - val_loss: 0.2382 - val_acc: 0.9060\n",
            "Epoch 20/30\n",
            "2000/2000 [==============================] - 1s 413us/step - loss: 0.1374 - acc: 0.9485 - val_loss: 0.2376 - val_acc: 0.9050\n",
            "Epoch 21/30\n",
            "2000/2000 [==============================] - 1s 430us/step - loss: 0.1308 - acc: 0.9500 - val_loss: 0.2389 - val_acc: 0.9030\n",
            "Epoch 22/30\n",
            "2000/2000 [==============================] - 1s 433us/step - loss: 0.1241 - acc: 0.9615 - val_loss: 0.2376 - val_acc: 0.9010\n",
            "Epoch 23/30\n",
            "2000/2000 [==============================] - 1s 406us/step - loss: 0.1235 - acc: 0.9575 - val_loss: 0.2358 - val_acc: 0.9020\n",
            "Epoch 24/30\n",
            "2000/2000 [==============================] - 1s 418us/step - loss: 0.1181 - acc: 0.9600 - val_loss: 0.2413 - val_acc: 0.8990\n",
            "Epoch 25/30\n",
            "2000/2000 [==============================] - 1s 413us/step - loss: 0.1161 - acc: 0.9595 - val_loss: 0.2479 - val_acc: 0.8980\n",
            "Epoch 26/30\n",
            "2000/2000 [==============================] - 1s 406us/step - loss: 0.1056 - acc: 0.9680 - val_loss: 0.2426 - val_acc: 0.9010\n",
            "Epoch 27/30\n",
            "2000/2000 [==============================] - 1s 405us/step - loss: 0.1055 - acc: 0.9680 - val_loss: 0.2423 - val_acc: 0.9020\n",
            "Epoch 28/30\n",
            "2000/2000 [==============================] - 1s 400us/step - loss: 0.0995 - acc: 0.9685 - val_loss: 0.2384 - val_acc: 0.8970\n",
            "Epoch 29/30\n",
            "2000/2000 [==============================] - 1s 406us/step - loss: 0.0976 - acc: 0.9710 - val_loss: 0.2375 - val_acc: 0.9050\n",
            "Epoch 30/30\n",
            "2000/2000 [==============================] - 1s 390us/step - loss: 0.0906 - acc: 0.9745 - val_loss: 0.2443 - val_acc: 0.8980\n"
          ],
          "name": "stdout"
        }
      ]
    },
    {
      "cell_type": "markdown",
      "metadata": {
        "id": "YSkwXzcup7wp"
      },
      "source": [
        "두 Dense Layer만 처리하면 되기에 훈련이 빠름"
      ]
    },
    {
      "cell_type": "code",
      "metadata": {
        "id": "KEDFsjmQp7wq",
        "outputId": "43dcd4de-5946-4315-ad6d-b376aac47d4b",
        "colab": {
          "base_uri": "https://localhost:8080/",
          "height": 545
        }
      },
      "source": [
        "import matplotlib.pyplot as plt\n",
        "\n",
        "acc = history.history['acc']\n",
        "val_acc = history.history['val_acc']\n",
        "loss = history.history['loss']\n",
        "val_loss = history.history['val_loss']\n",
        "\n",
        "epochs = range(len(acc))\n",
        "\n",
        "plt.plot(epochs, acc, 'bo', label='Training acc')\n",
        "plt.plot(epochs, val_acc, 'b', label='Validation acc')\n",
        "plt.title('Training and validation accuracy')\n",
        "plt.legend()\n",
        "\n",
        "plt.figure()\n",
        "\n",
        "plt.plot(epochs, loss, 'bo', label='Training loss')\n",
        "plt.plot(epochs, val_loss, 'b', label='Validation loss')\n",
        "plt.title('Training and validation loss')\n",
        "plt.legend()\n",
        "\n",
        "plt.show()"
      ],
      "execution_count": null,
      "outputs": [
        {
          "output_type": "display_data",
          "data": {
            "image/png": "[encoded data removed]",
            "text/plain": [
              "<Figure size 432x288 with 1 Axes>"
            ]
          },
          "metadata": {
            "tags": []
          }
        },
        {
          "output_type": "display_data",
          "data": {
            "image/png": "[encoded data removed]",
            "text/plain": [
              "<Figure size 432x288 with 1 Axes>"
            ]
          },
          "metadata": {
            "tags": []
          }
        }
      ]
    },
    {
      "cell_type": "markdown",
      "metadata": {
        "id": "Po9v7_9Ep7wt"
      },
      "source": [
        "정확도는 90%, 그러나 드롭아웃을 사용했음에도 불구하고 거의 처음부터 과적합. 이는 필수적인 데이터 증대를 활용하지 않기 때문임.\n",
        "\n",
        "데이터 증대는 conv_base 모델을 확장하고 입력에 대해 엔드투엔드를 실행하는 것.\n",
        "\n",
        "conv_base모델은 레이어처럼 동작하므로 레이어를 추가하는 것처럼 Sequential 모델에 모델을 추가할 수 있음."
      ]
    },
    {
      "cell_type": "code",
      "metadata": {
        "id": "nIkYkB0_p7wv"
      },
      "source": [
        "from keras import models\n",
        "from keras import layers\n",
        "\n",
        "model = models.Sequential()\n",
        "model.add(conv_base)\n",
        "model.add(layers.Flatten())\n",
        "model.add(layers.Dense(256, activation='relu'))\n",
        "model.add(layers.Dense(1, activation='sigmoid'))"
      ],
      "execution_count": null,
      "outputs": []
    },
    {
      "cell_type": "code",
      "metadata": {
        "id": "zFvumo95p7wz",
        "outputId": "a220dd4d-015c-4e50-a8e0-d5d1f319680a",
        "colab": {
          "base_uri": "https://localhost:8080/",
          "height": 305
        }
      },
      "source": [
        "model.summary()"
      ],
      "execution_count": null,
      "outputs": [
        {
          "output_type": "stream",
          "text": [
            "Model: \"sequential_2\"\n",
            "_________________________________________________________________\n",
            "Layer (type)                 Output Shape              Param #   \n",
            "=================================================================\n",
            "vgg16 (Model)                (None, 4, 4, 512)         14714688  \n",
            "_________________________________________________________________\n",
            "flatten_1 (Flatten)          (None, 8192)              0         \n",
            "_________________________________________________________________\n",
            "dense_3 (Dense)              (None, 256)               2097408   \n",
            "_________________________________________________________________\n",
            "dense_4 (Dense)              (None, 1)                 257       \n",
            "=================================================================\n",
            "Total params: 16,812,353\n",
            "Trainable params: 16,812,353\n",
            "Non-trainable params: 0\n",
            "_________________________________________________________________\n"
          ],
          "name": "stdout"
        }
      ]
    },
    {
      "cell_type": "markdown",
      "metadata": {
        "id": "WG91hY5rp7w3"
      },
      "source": [
        "모델을 컴파일하고 훈련하기 전에 컨볼루셔널 기반을 얼리는 것이 매우 중요함. 레이어 또는 레이어 세트를 고정한다는 것은 훈련 중에 해당 가중치가 업데이트되지 않는다는 것을 의미. 이렇게 하지 않으면 이전에 컨볼루셔널 기반에서 학습한 표현이 훈련 중에 수정됨. 상단의 Dense 레이어는 무작위로 초기화되기 때문에 매우 큰 가중치 업데이트가 네트워크를 통해 전파되어 이전에 학습된 표현을 파괴함.\n",
        "\n"
      ]
    },
    {
      "cell_type": "code",
      "metadata": {
        "id": "wOP62V82p7w4",
        "outputId": "fab177f9-acf9-415a-d44e-213b83db192f",
        "colab": {
          "base_uri": "https://localhost:8080/",
          "height": 35
        }
      },
      "source": [
        "print('This is the number of trainable weights '\n",
        "      'before freezing the conv base:', len(model.trainable_weights))"
      ],
      "execution_count": null,
      "outputs": [
        {
          "output_type": "stream",
          "text": [
            "This is the number of trainable weights before freezing the conv base: 30\n"
          ],
          "name": "stdout"
        }
      ]
    },
    {
      "cell_type": "code",
      "metadata": {
        "id": "9s9wRsi7p7w7"
      },
      "source": [
        "conv_base.trainable = False"
      ],
      "execution_count": null,
      "outputs": []
    },
    {
      "cell_type": "code",
      "metadata": {
        "id": "DiEdhCekp7w-",
        "outputId": "bc5becaf-b2b2-43f2-9c04-5c17cbf4ab34",
        "colab": {
          "base_uri": "https://localhost:8080/",
          "height": 35
        }
      },
      "source": [
        "print('This is the number of trainable weights '\n",
        "      'after freezing the conv base:', len(model.trainable_weights))"
      ],
      "execution_count": null,
      "outputs": [
        {
          "output_type": "stream",
          "text": [
            "This is the number of trainable weights after freezing the conv base: 4\n"
          ],
          "name": "stdout"
        }
      ]
    },
    {
      "cell_type": "markdown",
      "metadata": {
        "id": "9oJJABofp7xC"
      },
      "source": [
        "이 설정을 사용하면 추가한 두 Dense 레이어의 가중치만 훈련됨. 이는 총 4개의 가중치 텐서. 레이어당 2개(주 가중치 행렬과 bias 벡터)입니다. 이러한 변경 사항을 적용하려면 먼저 모델을 컴파일해야 합니다. 컴파일 후 weight 훈련 가능성을 수정하는 경우 모델을 다시 컴파일. 그렇지 않으면 이러한 변경 사항이 무시됨.\n",
        "\n"
      ]
    },
    {
      "cell_type": "code",
      "metadata": {
        "id": "5-P5Sg-gp7xE",
        "outputId": "e5cffe1a-257b-4f8b-a59b-507af785664e",
        "colab": {
          "base_uri": "https://localhost:8080/",
          "height": 1000
        }
      },
      "source": [
        "from keras.preprocessing.image import ImageDataGenerator\n",
        "\n",
        "train_datagen = ImageDataGenerator(\n",
        "      rescale=1./255,\n",
        "      rotation_range=40,\n",
        "      width_shift_range=0.2,\n",
        "      height_shift_range=0.2,\n",
        "      shear_range=0.2,\n",
        "      zoom_range=0.2,\n",
        "      horizontal_flip=True,\n",
        "      fill_mode='nearest')\n",
        "\n",
        "# Note that the validation data should not be augmented!\n",
        "test_datagen = ImageDataGenerator(rescale=1./255)\n",
        "\n",
        "train_generator = train_datagen.flow_from_directory(\n",
        "        # This is the target directory\n",
        "        train_dir,\n",
        "        # All images will be resized to 150x150\n",
        "        target_size=(150, 150),\n",
        "        batch_size=20,\n",
        "        # Since we use binary_crossentropy loss, we need binary labels\n",
        "        class_mode='binary')\n",
        "\n",
        "validation_generator = test_datagen.flow_from_directory(\n",
        "        validation_dir,\n",
        "        target_size=(150, 150),\n",
        "        batch_size=20,\n",
        "        class_mode='binary')\n",
        "\n",
        "model.compile(loss='binary_crossentropy',\n",
        "              optimizer=optimizers.RMSprop(lr=2e-5),\n",
        "              metrics=['acc'])\n",
        "\n",
        "history = model.fit_generator(\n",
        "      train_generator,\n",
        "      steps_per_epoch=100,\n",
        "      epochs=30,\n",
        "      validation_data=validation_generator,\n",
        "      validation_steps=50,\n",
        "      verbose=2)"
      ],
      "execution_count": null,
      "outputs": [
        {
          "output_type": "stream",
          "text": [
            "Found 2000 images belonging to 2 classes.\n",
            "Found 1000 images belonging to 2 classes.\n",
            "Epoch 1/30\n",
            " - 29s - loss: 0.5888 - acc: 0.6895 - val_loss: 0.4439 - val_acc: 0.8260\n",
            "Epoch 2/30\n",
            " - 27s - loss: 0.4853 - acc: 0.7880 - val_loss: 0.3635 - val_acc: 0.8690\n",
            "Epoch 3/30\n",
            " - 27s - loss: 0.4307 - acc: 0.8160 - val_loss: 0.3252 - val_acc: 0.8720\n",
            "Epoch 4/30\n",
            " - 26s - loss: 0.4080 - acc: 0.8180 - val_loss: 0.3050 - val_acc: 0.8770\n",
            "Epoch 5/30\n",
            " - 27s - loss: 0.3821 - acc: 0.8320 - val_loss: 0.2887 - val_acc: 0.8840\n",
            "Epoch 6/30\n",
            " - 27s - loss: 0.3623 - acc: 0.8390 - val_loss: 0.2803 - val_acc: 0.8890\n",
            "Epoch 7/30\n",
            " - 26s - loss: 0.3604 - acc: 0.8355 - val_loss: 0.2677 - val_acc: 0.8890\n",
            "Epoch 8/30\n",
            " - 27s - loss: 0.3514 - acc: 0.8490 - val_loss: 0.2675 - val_acc: 0.8920\n",
            "Epoch 9/30\n",
            " - 27s - loss: 0.3528 - acc: 0.8455 - val_loss: 0.2558 - val_acc: 0.8940\n",
            "Epoch 10/30\n",
            " - 27s - loss: 0.3301 - acc: 0.8590 - val_loss: 0.2583 - val_acc: 0.8930\n",
            "Epoch 11/30\n",
            " - 26s - loss: 0.3366 - acc: 0.8555 - val_loss: 0.2487 - val_acc: 0.8960\n",
            "Epoch 12/30\n",
            " - 26s - loss: 0.3190 - acc: 0.8665 - val_loss: 0.2748 - val_acc: 0.8880\n",
            "Epoch 13/30\n",
            " - 27s - loss: 0.3208 - acc: 0.8605 - val_loss: 0.2422 - val_acc: 0.8950\n",
            "Epoch 14/30\n",
            " - 27s - loss: 0.3137 - acc: 0.8585 - val_loss: 0.2420 - val_acc: 0.8950\n",
            "Epoch 15/30\n",
            " - 27s - loss: 0.3155 - acc: 0.8575 - val_loss: 0.2420 - val_acc: 0.8960\n",
            "Epoch 16/30\n",
            " - 27s - loss: 0.3126 - acc: 0.8555 - val_loss: 0.2391 - val_acc: 0.8940\n",
            "Epoch 17/30\n",
            " - 27s - loss: 0.3054 - acc: 0.8585 - val_loss: 0.2364 - val_acc: 0.9020\n",
            "Epoch 18/30\n",
            " - 27s - loss: 0.2990 - acc: 0.8710 - val_loss: 0.2329 - val_acc: 0.9020\n",
            "Epoch 19/30\n",
            " - 27s - loss: 0.2915 - acc: 0.8695 - val_loss: 0.2388 - val_acc: 0.9040\n",
            "Epoch 20/30\n",
            " - 27s - loss: 0.2976 - acc: 0.8745 - val_loss: 0.2336 - val_acc: 0.9030\n",
            "Epoch 21/30\n",
            " - 27s - loss: 0.2963 - acc: 0.8740 - val_loss: 0.2383 - val_acc: 0.9050\n",
            "Epoch 22/30\n",
            " - 27s - loss: 0.2820 - acc: 0.8795 - val_loss: 0.2316 - val_acc: 0.9090\n",
            "Epoch 23/30\n",
            " - 27s - loss: 0.2992 - acc: 0.8705 - val_loss: 0.2320 - val_acc: 0.9050\n",
            "Epoch 24/30\n",
            " - 27s - loss: 0.2929 - acc: 0.8705 - val_loss: 0.2298 - val_acc: 0.9030\n",
            "Epoch 25/30\n",
            " - 27s - loss: 0.2903 - acc: 0.8735 - val_loss: 0.2319 - val_acc: 0.9100\n",
            "Epoch 26/30\n",
            " - 27s - loss: 0.2920 - acc: 0.8745 - val_loss: 0.2310 - val_acc: 0.9050\n",
            "Epoch 27/30\n",
            " - 26s - loss: 0.2840 - acc: 0.8730 - val_loss: 0.2385 - val_acc: 0.8970\n",
            "Epoch 28/30\n",
            " - 27s - loss: 0.2874 - acc: 0.8805 - val_loss: 0.2305 - val_acc: 0.9070\n",
            "Epoch 29/30\n",
            " - 27s - loss: 0.2918 - acc: 0.8695 - val_loss: 0.2324 - val_acc: 0.9040\n",
            "Epoch 30/30\n",
            " - 26s - loss: 0.2862 - acc: 0.8775 - val_loss: 0.2299 - val_acc: 0.9070\n"
          ],
          "name": "stdout"
        }
      ]
    },
    {
      "cell_type": "code",
      "metadata": {
        "id": "AuvZ7azIp7xH"
      },
      "source": [
        "model.save('cats_and_dogs_small_3.h5')"
      ],
      "execution_count": null,
      "outputs": []
    },
    {
      "cell_type": "markdown",
      "metadata": {
        "id": "wrsSa815p7xL"
      },
      "source": [
        "Let's plot our results again:"
      ]
    },
    {
      "cell_type": "code",
      "metadata": {
        "id": "HLrWQfYYp7xM",
        "outputId": "e70ea941-6dad-48ac-88db-5f15b545cb98",
        "colab": {
          "base_uri": "https://localhost:8080/",
          "height": 545
        }
      },
      "source": [
        "acc = history.history['acc']\n",
        "val_acc = history.history['val_acc']\n",
        "loss = history.history['loss']\n",
        "val_loss = history.history['val_loss']\n",
        "\n",
        "epochs = range(len(acc))\n",
        "\n",
        "plt.plot(epochs, acc, 'bo', label='Training acc')\n",
        "plt.plot(epochs, val_acc, 'b', label='Validation acc')\n",
        "plt.title('Training and validation accuracy')\n",
        "plt.legend()\n",
        "\n",
        "plt.figure()\n",
        "\n",
        "plt.plot(epochs, loss, 'bo', label='Training loss')\n",
        "plt.plot(epochs, val_loss, 'b', label='Validation loss')\n",
        "plt.title('Training and validation loss')\n",
        "plt.legend()\n",
        "\n",
        "plt.show()"
      ],
      "execution_count": null,
      "outputs": [
        {
          "output_type": "display_data",
          "data": {
            "image/png": "[encoded data removed]",
            "text/plain": [
              "<Figure size 432x288 with 1 Axes>"
            ]
          },
          "metadata": {
            "tags": []
          }
        },
        {
          "output_type": "display_data",
          "data": {
            "image/png": "[encoded data removed]",
            "text/plain": [
              "<Figure size 432x288 with 1 Axes>"
            ]
          },
          "metadata": {
            "tags": []
          }
        }
      ]
    },
    {
      "cell_type": "markdown",
      "metadata": {
        "id": "Eg1eriBbp7xQ"
      },
      "source": [
        "보시다시피 우리는 약 96%의 검증 정확도에 도달함. 이것은 처음부터 훈련된 작은 컨브넷보다 훨씬 좋음."
      ]
    },
    {
      "cell_type": "markdown",
      "metadata": {
        "id": "IJHcgLhlp7xS"
      },
      "source": [
        "## Fine-tuning\n",
        "\n",
        "특징 추출을 보완하는 모델 재사용을 위해 널리 사용되는 기술은 미세 조정. 미세 조정은 특징 추출에 사용되는 고정된 모델 기반의 상위 레이어 몇 개를 고정 해제하고 모델의 새로 추가된 부분(이 경우 완전 연결 분류기)과 이러한 상위 레이어를 공동으로 훈련."
      ]
    },
    {
      "cell_type": "markdown",
      "metadata": {
        "id": "YiVak1vlp7xT"
      },
      "source": [
        "상단에 있는 분류기가 이미 훈련된 후에만 컨볼루션 기반의 상단 레이어를 미세 조정하는 것이 가능. 분류된 항목이 아직 훈련되지 않은 경우 훈련 중에 네트워크를 통해 전파되는 오류 신호가 너무 커지고 미세 조정 중인 레이어에서 이전에 학습한 표현이 파괴.\n",
        "\n",
        "Stage\n",
        "\n",
        "1) 이미 학습된 기본 네트워크 위에 사용자 지정 네트워크를 추가합니다.\n",
        "\n",
        "2) 기본 네트워크를 동결합니다.\n",
        "\n",
        "3) 추가한 부분을 훈련시킵니다.\n",
        "\n",
        "4) 기본 네트워크의 일부 레이어를 동결 해제합니다.\n",
        "\n",
        "5) 이 레이어와 추가한 부분을 공동으로 훈련합니다.\n",
        "\n",
        "특징추출 : ~3단계\n",
        "\n",
        "4단계 부터 시작"
      ]
    },
    {
      "cell_type": "code",
      "metadata": {
        "id": "8jn6kGhSp7xU",
        "outputId": "e8207019-db6b-4370-b449-d82ca81535e2",
        "colab": {
          "base_uri": "https://localhost:8080/",
          "height": 845
        }
      },
      "source": [
        "conv_base.summary()"
      ],
      "execution_count": null,
      "outputs": [
        {
          "output_type": "stream",
          "text": [
            "Model: \"vgg16\"\n",
            "_________________________________________________________________\n",
            "Layer (type)                 Output Shape              Param #   \n",
            "=================================================================\n",
            "input_1 (InputLayer)         (None, 150, 150, 3)       0         \n",
            "_________________________________________________________________\n",
            "block1_conv1 (Conv2D)        (None, 150, 150, 64)      1792      \n",
            "_________________________________________________________________\n",
            "block1_conv2 (Conv2D)        (None, 150, 150, 64)      36928     \n",
            "_________________________________________________________________\n",
            "block1_pool (MaxPooling2D)   (None, 75, 75, 64)        0         \n",
            "_________________________________________________________________\n",
            "block2_conv1 (Conv2D)        (None, 75, 75, 128)       73856     \n",
            "_________________________________________________________________\n",
            "block2_conv2 (Conv2D)        (None, 75, 75, 128)       147584    \n",
            "_________________________________________________________________\n",
            "block2_pool (MaxPooling2D)   (None, 37, 37, 128)       0         \n",
            "_________________________________________________________________\n",
            "block3_conv1 (Conv2D)        (None, 37, 37, 256)       295168    \n",
            "_________________________________________________________________\n",
            "block3_conv2 (Conv2D)        (None, 37, 37, 256)       590080    \n",
            "_________________________________________________________________\n",
            "block3_conv3 (Conv2D)        (None, 37, 37, 256)       590080    \n",
            "_________________________________________________________________\n",
            "block3_pool (MaxPooling2D)   (None, 18, 18, 256)       0         \n",
            "_________________________________________________________________\n",
            "block4_conv1 (Conv2D)        (None, 18, 18, 512)       1180160   \n",
            "_________________________________________________________________\n",
            "block4_conv2 (Conv2D)        (None, 18, 18, 512)       2359808   \n",
            "_________________________________________________________________\n",
            "block4_conv3 (Conv2D)        (None, 18, 18, 512)       2359808   \n",
            "_________________________________________________________________\n",
            "block4_pool (MaxPooling2D)   (None, 9, 9, 512)         0         \n",
            "_________________________________________________________________\n",
            "block5_conv1 (Conv2D)        (None, 9, 9, 512)         2359808   \n",
            "_________________________________________________________________\n",
            "block5_conv2 (Conv2D)        (None, 9, 9, 512)         2359808   \n",
            "_________________________________________________________________\n",
            "block5_conv3 (Conv2D)        (None, 9, 9, 512)         2359808   \n",
            "_________________________________________________________________\n",
            "block5_pool (MaxPooling2D)   (None, 4, 4, 512)         0         \n",
            "=================================================================\n",
            "Total params: 14,714,688\n",
            "Trainable params: 0\n",
            "Non-trainable params: 14,714,688\n",
            "_________________________________________________________________\n"
          ],
          "name": "stdout"
        }
      ]
    },
    {
      "cell_type": "markdown",
      "metadata": {
        "id": "o8wYSx33p7xZ"
      },
      "source": [
        "마지막 3개의 컨볼루셔널 레이어를 미세 조정.\n",
        "\n",
        "즉, block4_pool까지의 모든 레이어는 동결되어야 하고 레이어 block5_conv1, block5_conv2및 block5_conv3는 훈련 가능해야 함.\n",
        "\n",
        "더 많은 레이어 또는 전체 컨볼루션 기반을 파인튜닝?\n",
        "\n",
        "컨벌루션 기반의 이전 레이어는 보다 일반적이고 재사용 가능한 기능을 인코딩하고, 상위 레이어는 보다 전문적인 기능을 인코딩함. 보다 전문화된 기능을 미세 조정하는 것이 더 유용. 이러한 기능은 새로운 문제에 대해 용도를 변경해야하기 때문임.\n",
        "\n",
        "더 많은 매개변수를 훈련할수록 과적합 위험이 커짐.\n",
        "따라서 convolutional base의 상위 2~3개 레이어만 미세 조정하는 것이 좋은 전략입니다."
      ]
    },
    {
      "cell_type": "code",
      "metadata": {
        "id": "5bB5gnmKp7xa"
      },
      "source": [
        "conv_base.trainable = True\n",
        "\n",
        "set_trainable = False\n",
        "for layer in conv_base.layers:\n",
        "    if layer.name == 'block5_conv1':\n",
        "        set_trainable = True\n",
        "    if set_trainable:\n",
        "        layer.trainable = True\n",
        "    else:\n",
        "        layer.trainable = False"
      ],
      "execution_count": null,
      "outputs": []
    },
    {
      "cell_type": "markdown",
      "metadata": {
        "id": "xDxBfdmcp7xg"
      },
      "source": [
        "이제 네트워크 미세 조정을 시작할 수 있음. 우리는 매우 낮은 학습률을 사용하는 RMSprop 최적화 프로그램을 사용하여 이를 수행. 낮은 학습률을 사용하는 이유는 미세 조정 중인 3개 레이어의 표현에 대한 수정 크기를 제한하고 싶기 때문. 업데이트가 너무 크면 이러한 표현이 손상될 수 있음.\n"
      ]
    },
    {
      "cell_type": "code",
      "metadata": {
        "id": "phQRFzLHp7xh",
        "outputId": "2e0b9e12-9c93-41ac-9798-488f3b2c2f2e",
        "colab": {
          "base_uri": "https://localhost:8080/",
          "height": 1000
        }
      },
      "source": [
        "model.compile(loss='binary_crossentropy',\n",
        "              optimizer=optimizers.RMSprop(lr=1e-5),\n",
        "              metrics=['acc'])\n",
        "\n",
        "history = model.fit_generator(\n",
        "      train_generator,\n",
        "      steps_per_epoch=100,\n",
        "      epochs=100,\n",
        "      validation_data=validation_generator,\n",
        "      validation_steps=50)"
      ],
      "execution_count": null,
      "outputs": [
        {
          "output_type": "stream",
          "text": [
            "Epoch 1/100\n",
            "100/100 [==============================] - 31s 306ms/step - loss: 0.2747 - acc: 0.8740 - val_loss: 0.2175 - val_acc: 0.9130\n",
            "Epoch 2/100\n",
            "100/100 [==============================] - 28s 281ms/step - loss: 0.2411 - acc: 0.8985 - val_loss: 0.2107 - val_acc: 0.9210\n",
            "Epoch 3/100\n",
            "100/100 [==============================] - 28s 280ms/step - loss: 0.2444 - acc: 0.8880 - val_loss: 0.1980 - val_acc: 0.9170\n",
            "Epoch 4/100\n",
            "100/100 [==============================] - 28s 278ms/step - loss: 0.2146 - acc: 0.9165 - val_loss: 0.2184 - val_acc: 0.9160\n",
            "Epoch 5/100\n",
            "100/100 [==============================] - 28s 280ms/step - loss: 0.2080 - acc: 0.9170 - val_loss: 0.1907 - val_acc: 0.9300\n",
            "Epoch 6/100\n",
            "100/100 [==============================] - 28s 278ms/step - loss: 0.2017 - acc: 0.9170 - val_loss: 0.1933 - val_acc: 0.9250\n",
            "Epoch 7/100\n",
            "100/100 [==============================] - 28s 278ms/step - loss: 0.1800 - acc: 0.9190 - val_loss: 0.2094 - val_acc: 0.9240\n",
            "Epoch 8/100\n",
            "100/100 [==============================] - 28s 276ms/step - loss: 0.1863 - acc: 0.9235 - val_loss: 0.1815 - val_acc: 0.9280\n",
            "Epoch 9/100\n",
            "100/100 [==============================] - 28s 279ms/step - loss: 0.1765 - acc: 0.9285 - val_loss: 0.1926 - val_acc: 0.9280\n",
            "Epoch 10/100\n",
            "100/100 [==============================] - 28s 279ms/step - loss: 0.1559 - acc: 0.9410 - val_loss: 0.1869 - val_acc: 0.9310\n",
            "Epoch 11/100\n",
            "100/100 [==============================] - 28s 279ms/step - loss: 0.1419 - acc: 0.9370 - val_loss: 0.2047 - val_acc: 0.9220\n",
            "Epoch 12/100\n",
            "100/100 [==============================] - 28s 282ms/step - loss: 0.1416 - acc: 0.9380 - val_loss: 0.2681 - val_acc: 0.9150\n",
            "Epoch 13/100\n",
            "100/100 [==============================] - 28s 279ms/step - loss: 0.1261 - acc: 0.9470 - val_loss: 0.2398 - val_acc: 0.9160\n",
            "Epoch 14/100\n",
            "100/100 [==============================] - 28s 280ms/step - loss: 0.1294 - acc: 0.9485 - val_loss: 0.2311 - val_acc: 0.9220\n",
            "Epoch 15/100\n",
            "100/100 [==============================] - 28s 279ms/step - loss: 0.1217 - acc: 0.9515 - val_loss: 0.1876 - val_acc: 0.9330\n",
            "Epoch 16/100\n",
            "100/100 [==============================] - 28s 279ms/step - loss: 0.1209 - acc: 0.9505 - val_loss: 0.2386 - val_acc: 0.9200\n",
            "Epoch 17/100\n",
            "100/100 [==============================] - 28s 280ms/step - loss: 0.1129 - acc: 0.9605 - val_loss: 0.1940 - val_acc: 0.9260\n",
            "Epoch 18/100\n",
            "100/100 [==============================] - 28s 281ms/step - loss: 0.1071 - acc: 0.9600 - val_loss: 0.1851 - val_acc: 0.9280\n",
            "Epoch 19/100\n",
            "100/100 [==============================] - 28s 276ms/step - loss: 0.0962 - acc: 0.9615 - val_loss: 0.2523 - val_acc: 0.9210\n",
            "Epoch 20/100\n",
            "100/100 [==============================] - 28s 279ms/step - loss: 0.1161 - acc: 0.9495 - val_loss: 0.2019 - val_acc: 0.9310\n",
            "Epoch 21/100\n",
            "100/100 [==============================] - 28s 278ms/step - loss: 0.0969 - acc: 0.9645 - val_loss: 0.2256 - val_acc: 0.9250\n",
            "Epoch 22/100\n",
            "100/100 [==============================] - 28s 277ms/step - loss: 0.0948 - acc: 0.9675 - val_loss: 0.2124 - val_acc: 0.9270\n",
            "Epoch 23/100\n",
            "100/100 [==============================] - 28s 280ms/step - loss: 0.0918 - acc: 0.9675 - val_loss: 0.1951 - val_acc: 0.9280\n",
            "Epoch 24/100\n",
            "100/100 [==============================] - 28s 279ms/step - loss: 0.0813 - acc: 0.9670 - val_loss: 0.2052 - val_acc: 0.9350\n",
            "Epoch 25/100\n",
            "100/100 [==============================] - 28s 278ms/step - loss: 0.0819 - acc: 0.9685 - val_loss: 0.2121 - val_acc: 0.9270\n",
            "Epoch 26/100\n",
            "100/100 [==============================] - 28s 279ms/step - loss: 0.0814 - acc: 0.9695 - val_loss: 0.2010 - val_acc: 0.9360\n",
            "Epoch 27/100\n",
            "100/100 [==============================] - 28s 281ms/step - loss: 0.0728 - acc: 0.9720 - val_loss: 0.2218 - val_acc: 0.9270\n",
            "Epoch 28/100\n",
            "100/100 [==============================] - 28s 278ms/step - loss: 0.0838 - acc: 0.9655 - val_loss: 0.2029 - val_acc: 0.9300\n",
            "Epoch 29/100\n",
            "100/100 [==============================] - 28s 281ms/step - loss: 0.0739 - acc: 0.9665 - val_loss: 0.2048 - val_acc: 0.9330\n",
            "Epoch 30/100\n",
            "100/100 [==============================] - 28s 278ms/step - loss: 0.0678 - acc: 0.9720 - val_loss: 0.2150 - val_acc: 0.9270\n",
            "Epoch 31/100\n",
            "100/100 [==============================] - 28s 281ms/step - loss: 0.0892 - acc: 0.9690 - val_loss: 0.1874 - val_acc: 0.9330\n",
            "Epoch 32/100\n",
            "100/100 [==============================] - 28s 279ms/step - loss: 0.0636 - acc: 0.9770 - val_loss: 0.2067 - val_acc: 0.9320\n",
            "Epoch 33/100\n",
            "100/100 [==============================] - 28s 280ms/step - loss: 0.0668 - acc: 0.9780 - val_loss: 0.2234 - val_acc: 0.9290\n",
            "Epoch 34/100\n",
            "100/100 [==============================] - 28s 279ms/step - loss: 0.0547 - acc: 0.9815 - val_loss: 0.2134 - val_acc: 0.9310\n",
            "Epoch 35/100\n",
            "100/100 [==============================] - 28s 280ms/step - loss: 0.0575 - acc: 0.9800 - val_loss: 0.2233 - val_acc: 0.9350\n",
            "Epoch 36/100\n",
            "100/100 [==============================] - 28s 280ms/step - loss: 0.0535 - acc: 0.9805 - val_loss: 0.2392 - val_acc: 0.9260\n",
            "Epoch 37/100\n",
            "100/100 [==============================] - 28s 280ms/step - loss: 0.0588 - acc: 0.9795 - val_loss: 0.2941 - val_acc: 0.9210\n",
            "Epoch 38/100\n",
            "100/100 [==============================] - 28s 282ms/step - loss: 0.0539 - acc: 0.9815 - val_loss: 0.2423 - val_acc: 0.9330\n",
            "Epoch 39/100\n",
            "100/100 [==============================] - 28s 279ms/step - loss: 0.0593 - acc: 0.9800 - val_loss: 0.2199 - val_acc: 0.9330\n",
            "Epoch 40/100\n",
            "100/100 [==============================] - 28s 280ms/step - loss: 0.0516 - acc: 0.9770 - val_loss: 0.2517 - val_acc: 0.9300\n",
            "Epoch 41/100\n",
            "100/100 [==============================] - 28s 279ms/step - loss: 0.0435 - acc: 0.9820 - val_loss: 0.2402 - val_acc: 0.9350\n",
            "Epoch 42/100\n",
            "100/100 [==============================] - 28s 280ms/step - loss: 0.0490 - acc: 0.9835 - val_loss: 0.2865 - val_acc: 0.9230\n",
            "Epoch 43/100\n",
            "100/100 [==============================] - 28s 278ms/step - loss: 0.0438 - acc: 0.9865 - val_loss: 0.3502 - val_acc: 0.9130\n",
            "Epoch 44/100\n",
            "100/100 [==============================] - 28s 283ms/step - loss: 0.0411 - acc: 0.9835 - val_loss: 0.2526 - val_acc: 0.9350\n",
            "Epoch 45/100\n",
            "100/100 [==============================] - 28s 283ms/step - loss: 0.0461 - acc: 0.9830 - val_loss: 0.2480 - val_acc: 0.9290\n",
            "Epoch 46/100\n",
            "100/100 [==============================] - 28s 282ms/step - loss: 0.0441 - acc: 0.9860 - val_loss: 0.2770 - val_acc: 0.9280\n",
            "Epoch 47/100\n",
            "100/100 [==============================] - 28s 281ms/step - loss: 0.0446 - acc: 0.9840 - val_loss: 0.2472 - val_acc: 0.9360\n",
            "Epoch 48/100\n",
            "100/100 [==============================] - 28s 281ms/step - loss: 0.0516 - acc: 0.9800 - val_loss: 0.2409 - val_acc: 0.9310\n",
            "Epoch 49/100\n",
            "100/100 [==============================] - 28s 282ms/step - loss: 0.0395 - acc: 0.9870 - val_loss: 0.2503 - val_acc: 0.9360\n",
            "Epoch 50/100\n",
            "100/100 [==============================] - 28s 282ms/step - loss: 0.0361 - acc: 0.9845 - val_loss: 0.2229 - val_acc: 0.9380\n",
            "Epoch 51/100\n",
            "100/100 [==============================] - 28s 283ms/step - loss: 0.0405 - acc: 0.9840 - val_loss: 0.2994 - val_acc: 0.9270\n",
            "Epoch 52/100\n",
            "100/100 [==============================] - 28s 278ms/step - loss: 0.0355 - acc: 0.9870 - val_loss: 0.2753 - val_acc: 0.9280\n",
            "Epoch 53/100\n",
            "100/100 [==============================] - 28s 279ms/step - loss: 0.0408 - acc: 0.9875 - val_loss: 0.3355 - val_acc: 0.9210\n",
            "Epoch 54/100\n",
            "100/100 [==============================] - 28s 278ms/step - loss: 0.0390 - acc: 0.9870 - val_loss: 0.2365 - val_acc: 0.9400\n",
            "Epoch 55/100\n",
            "100/100 [==============================] - 28s 281ms/step - loss: 0.0320 - acc: 0.9890 - val_loss: 0.2666 - val_acc: 0.9320\n",
            "Epoch 56/100\n",
            "100/100 [==============================] - 28s 283ms/step - loss: 0.0295 - acc: 0.9900 - val_loss: 0.2529 - val_acc: 0.9400\n",
            "Epoch 57/100\n",
            "100/100 [==============================] - 28s 280ms/step - loss: 0.0447 - acc: 0.9850 - val_loss: 0.2167 - val_acc: 0.9400\n",
            "Epoch 58/100\n",
            "100/100 [==============================] - 28s 279ms/step - loss: 0.0333 - acc: 0.9875 - val_loss: 0.3103 - val_acc: 0.9290\n",
            "Epoch 59/100\n",
            "100/100 [==============================] - 28s 281ms/step - loss: 0.0365 - acc: 0.9880 - val_loss: 0.2317 - val_acc: 0.9410\n",
            "Epoch 60/100\n",
            "100/100 [==============================] - 28s 280ms/step - loss: 0.0247 - acc: 0.9935 - val_loss: 0.3336 - val_acc: 0.9280\n",
            "Epoch 61/100\n",
            "100/100 [==============================] - 28s 280ms/step - loss: 0.0424 - acc: 0.9835 - val_loss: 0.2777 - val_acc: 0.9350\n",
            "Epoch 62/100\n",
            "100/100 [==============================] - 28s 280ms/step - loss: 0.0350 - acc: 0.9880 - val_loss: 0.2570 - val_acc: 0.9350\n",
            "Epoch 63/100\n",
            "100/100 [==============================] - 28s 281ms/step - loss: 0.0358 - acc: 0.9865 - val_loss: 0.2370 - val_acc: 0.9270\n",
            "Epoch 64/100\n",
            "100/100 [==============================] - 28s 280ms/step - loss: 0.0253 - acc: 0.9920 - val_loss: 0.2621 - val_acc: 0.9310\n",
            "Epoch 65/100\n",
            "100/100 [==============================] - 28s 279ms/step - loss: 0.0311 - acc: 0.9880 - val_loss: 0.2654 - val_acc: 0.9300\n",
            "Epoch 66/100\n",
            "100/100 [==============================] - 28s 283ms/step - loss: 0.0276 - acc: 0.9900 - val_loss: 0.4122 - val_acc: 0.9140\n",
            "Epoch 67/100\n",
            "100/100 [==============================] - 28s 282ms/step - loss: 0.0255 - acc: 0.9910 - val_loss: 0.3259 - val_acc: 0.9250\n",
            "Epoch 68/100\n",
            "100/100 [==============================] - 28s 281ms/step - loss: 0.0254 - acc: 0.9910 - val_loss: 0.5329 - val_acc: 0.9010\n",
            "Epoch 69/100\n",
            "100/100 [==============================] - 28s 281ms/step - loss: 0.0330 - acc: 0.9880 - val_loss: 0.2410 - val_acc: 0.9340\n",
            "Epoch 70/100\n",
            "100/100 [==============================] - 28s 282ms/step - loss: 0.0326 - acc: 0.9880 - val_loss: 0.2299 - val_acc: 0.9340\n",
            "Epoch 71/100\n",
            "100/100 [==============================] - 28s 280ms/step - loss: 0.0227 - acc: 0.9935 - val_loss: 0.3669 - val_acc: 0.9230\n",
            "Epoch 72/100\n",
            "100/100 [==============================] - 28s 280ms/step - loss: 0.0246 - acc: 0.9910 - val_loss: 0.2580 - val_acc: 0.9310\n",
            "Epoch 73/100\n",
            "100/100 [==============================] - 28s 280ms/step - loss: 0.0285 - acc: 0.9890 - val_loss: 0.2451 - val_acc: 0.9370\n",
            "Epoch 74/100\n",
            "100/100 [==============================] - 28s 280ms/step - loss: 0.0234 - acc: 0.9920 - val_loss: 0.2387 - val_acc: 0.9380\n",
            "Epoch 75/100\n",
            "100/100 [==============================] - 28s 278ms/step - loss: 0.0258 - acc: 0.9895 - val_loss: 0.2713 - val_acc: 0.9350\n",
            "Epoch 76/100\n",
            "100/100 [==============================] - 28s 279ms/step - loss: 0.0196 - acc: 0.9920 - val_loss: 0.2721 - val_acc: 0.9350\n",
            "Epoch 77/100\n",
            "100/100 [==============================] - 28s 281ms/step - loss: 0.0246 - acc: 0.9890 - val_loss: 0.4008 - val_acc: 0.9160\n",
            "Epoch 78/100\n",
            "100/100 [==============================] - 28s 281ms/step - loss: 0.0283 - acc: 0.9900 - val_loss: 0.2749 - val_acc: 0.9350\n",
            "Epoch 79/100\n",
            "100/100 [==============================] - 28s 283ms/step - loss: 0.0163 - acc: 0.9925 - val_loss: 0.3012 - val_acc: 0.9320\n",
            "Epoch 80/100\n",
            "100/100 [==============================] - 28s 279ms/step - loss: 0.0213 - acc: 0.9940 - val_loss: 0.2502 - val_acc: 0.9370\n",
            "Epoch 81/100\n",
            "100/100 [==============================] - 28s 278ms/step - loss: 0.0260 - acc: 0.9910 - val_loss: 0.3053 - val_acc: 0.9290\n",
            "Epoch 82/100\n",
            "100/100 [==============================] - 28s 278ms/step - loss: 0.0221 - acc: 0.9900 - val_loss: 0.2434 - val_acc: 0.9390\n",
            "Epoch 83/100\n",
            "100/100 [==============================] - 28s 278ms/step - loss: 0.0258 - acc: 0.9925 - val_loss: 0.6164 - val_acc: 0.8960\n",
            "Epoch 84/100\n",
            "100/100 [==============================] - 28s 278ms/step - loss: 0.0274 - acc: 0.9925 - val_loss: 0.2581 - val_acc: 0.9410\n",
            "Epoch 85/100\n",
            "100/100 [==============================] - 28s 279ms/step - loss: 0.0174 - acc: 0.9930 - val_loss: 0.2457 - val_acc: 0.9420\n",
            "Epoch 86/100\n",
            "100/100 [==============================] - 28s 278ms/step - loss: 0.0124 - acc: 0.9940 - val_loss: 0.3366 - val_acc: 0.9260\n",
            "Epoch 87/100\n",
            "100/100 [==============================] - 28s 282ms/step - loss: 0.0242 - acc: 0.9905 - val_loss: 0.2498 - val_acc: 0.9370\n",
            "Epoch 88/100\n",
            "100/100 [==============================] - 28s 279ms/step - loss: 0.0155 - acc: 0.9930 - val_loss: 0.2922 - val_acc: 0.9370\n",
            "Epoch 89/100\n",
            "100/100 [==============================] - 28s 284ms/step - loss: 0.0235 - acc: 0.9905 - val_loss: 0.2417 - val_acc: 0.9440\n",
            "Epoch 90/100\n",
            "100/100 [==============================] - 28s 277ms/step - loss: 0.0255 - acc: 0.9900 - val_loss: 0.2336 - val_acc: 0.9420\n",
            "Epoch 91/100\n",
            "100/100 [==============================] - 28s 279ms/step - loss: 0.0224 - acc: 0.9910 - val_loss: 0.3016 - val_acc: 0.9410\n",
            "Epoch 92/100\n",
            "100/100 [==============================] - 28s 281ms/step - loss: 0.0232 - acc: 0.9905 - val_loss: 0.2805 - val_acc: 0.9360\n",
            "Epoch 93/100\n",
            "100/100 [==============================] - 28s 278ms/step - loss: 0.0230 - acc: 0.9895 - val_loss: 0.4074 - val_acc: 0.9260\n",
            "Epoch 94/100\n",
            "100/100 [==============================] - 28s 280ms/step - loss: 0.0247 - acc: 0.9915 - val_loss: 0.2496 - val_acc: 0.9460\n",
            "Epoch 95/100\n",
            "100/100 [==============================] - 28s 278ms/step - loss: 0.0185 - acc: 0.9920 - val_loss: 0.4024 - val_acc: 0.9220\n",
            "Epoch 96/100\n",
            "100/100 [==============================] - 28s 281ms/step - loss: 0.0203 - acc: 0.9925 - val_loss: 0.3855 - val_acc: 0.9220\n",
            "Epoch 97/100\n",
            "100/100 [==============================] - 28s 277ms/step - loss: 0.0215 - acc: 0.9925 - val_loss: 0.2628 - val_acc: 0.9370\n",
            "Epoch 98/100\n",
            "100/100 [==============================] - 28s 280ms/step - loss: 0.0197 - acc: 0.9945 - val_loss: 0.3555 - val_acc: 0.9310\n",
            "Epoch 99/100\n",
            "100/100 [==============================] - 28s 276ms/step - loss: 0.0206 - acc: 0.9930 - val_loss: 0.3418 - val_acc: 0.9300\n",
            "Epoch 100/100\n",
            "100/100 [==============================] - 28s 283ms/step - loss: 0.0270 - acc: 0.9905 - val_loss: 0.2706 - val_acc: 0.9370\n"
          ],
          "name": "stdout"
        }
      ]
    },
    {
      "cell_type": "code",
      "metadata": {
        "id": "JUvdKKysp7xk"
      },
      "source": [
        "model.save('cats_and_dogs_small_4.h5')"
      ],
      "execution_count": null,
      "outputs": []
    },
    {
      "cell_type": "markdown",
      "metadata": {
        "id": "kiKeH5NGp7xn"
      },
      "source": [
        "Let's plot our results using the same plotting code as before:"
      ]
    },
    {
      "cell_type": "code",
      "metadata": {
        "id": "iC4DPHjUp7xo",
        "outputId": "7a829d83-3074-48dd-8c2e-f27a1be10a32",
        "colab": {
          "base_uri": "https://localhost:8080/",
          "height": 545
        }
      },
      "source": [
        "acc = history.history['acc']\n",
        "val_acc = history.history['val_acc']\n",
        "loss = history.history['loss']\n",
        "val_loss = history.history['val_loss']\n",
        "\n",
        "epochs = range(len(acc))\n",
        "\n",
        "plt.plot(epochs, acc, 'bo', label='Training acc')\n",
        "plt.plot(epochs, val_acc, 'b', label='Validation acc')\n",
        "plt.title('Training and validation accuracy')\n",
        "plt.legend()\n",
        "\n",
        "plt.figure()\n",
        "\n",
        "plt.plot(epochs, loss, 'bo', label='Training loss')\n",
        "plt.plot(epochs, val_loss, 'b', label='Validation loss')\n",
        "plt.title('Training and validation loss')\n",
        "plt.legend()\n",
        "\n",
        "plt.show()"
      ],
      "execution_count": null,
      "outputs": [
        {
          "output_type": "display_data",
          "data": {
            "image/png": "[encoded data removed]",
            "text/plain": [
              "<Figure size 432x288 with 1 Axes>"
            ]
          },
          "metadata": {
            "tags": []
          }
        },
        {
          "output_type": "display_data",
          "data": {
            "image/png": "[encoded data removed]",
            "text/plain": [
              "<Figure size 432x288 with 1 Axes>"
            ]
          },
          "metadata": {
            "tags": []
          }
        }
      ]
    },
    {
      "cell_type": "markdown",
      "metadata": {
        "id": "JXnqAwCxp7xs"
      },
      "source": [
        "더 읽기 쉽게 만들기 위해 모든 손실과 정확도를 이러한 수량의 지수 이동 평균으로 대체하여 평활화"
      ]
    },
    {
      "cell_type": "code",
      "metadata": {
        "id": "Ll69HQC1p7xt",
        "outputId": "1de57692-7c26-4bb4-e8ff-81a4ef056ba3",
        "colab": {
          "base_uri": "https://localhost:8080/",
          "height": 545
        }
      },
      "source": [
        "def smooth_curve(points, factor=0.8):\n",
        "  smoothed_points = []\n",
        "  for point in points:\n",
        "    if smoothed_points:\n",
        "      previous = smoothed_points[-1]\n",
        "      smoothed_points.append(previous * factor + point * (1 - factor))\n",
        "    else:\n",
        "      smoothed_points.append(point)\n",
        "  return smoothed_points\n",
        "\n",
        "plt.plot(epochs,\n",
        "         smooth_curve(acc), 'bo', label='Smoothed training acc')\n",
        "plt.plot(epochs,\n",
        "         smooth_curve(val_acc), 'b', label='Smoothed validation acc')\n",
        "plt.title('Training and validation accuracy')\n",
        "plt.legend()\n",
        "\n",
        "plt.figure()\n",
        "\n",
        "plt.plot(epochs,\n",
        "         smooth_curve(loss), 'bo', label='Smoothed training loss')\n",
        "plt.plot(epochs,\n",
        "         smooth_curve(val_loss), 'b', label='Smoothed validation loss')\n",
        "plt.title('Training and validation loss')\n",
        "plt.legend()\n",
        "\n",
        "plt.show()"
      ],
      "execution_count": null,
      "outputs": [
        {
          "output_type": "display_data",
          "data": {
            "image/png": "[encoded data removed]",
            "text/plain": [
              "<Figure size 432x288 with 1 Axes>"
            ]
          },
          "metadata": {
            "tags": []
          }
        },
        {
          "output_type": "display_data",
          "data": {
            "image/png": "[encoded data removed]",
            "text/plain": [
              "<Figure size 432x288 with 1 Axes>"
            ]
          },
          "metadata": {
            "tags": []
          }
        }
      ]
    },
    {
      "cell_type": "markdown",
      "metadata": {
        "id": "fSg9ER-Qp7xx"
      },
      "source": [
        "손실 곡선은 실질적인 개선을 나타내지 않습니다(사실 악화되고 있음). 손실이 감소하지 않으면 어떻게 정확도가 향상될 수 있는지 궁금할것입니다.  우리가 표시하는 것은 점 별 손실 값의 평균이지만 실제로 정확도에 중요한 것은 평균이 아니라 손실 값의 분포. 왜냐하면 정확도는 모델에 의해 예측된 클래스 확률의 이진 임계값 결과. 이것이 평균 손실에 반영되지 않더라도 모델은 여전히 ​​개선되고 있을 수 있음.\n",
        "\n",
        "이제 테스트 데이터에서 이 모델을 최종적으로 평가할 수 있습니다."
      ]
    },
    {
      "cell_type": "code",
      "metadata": {
        "id": "m6WIbyv9p7xy",
        "outputId": "22053ed4-98e9-4739-e06f-4d3b25f97d1b",
        "colab": {
          "base_uri": "https://localhost:8080/",
          "height": 53
        }
      },
      "source": [
        "test_generator = test_datagen.flow_from_directory(\n",
        "        test_dir,\n",
        "        target_size=(150, 150),\n",
        "        batch_size=20,\n",
        "        class_mode='binary')\n",
        "\n",
        "test_loss, test_acc = model.evaluate_generator(test_generator, steps=50)\n",
        "print('test acc:', test_acc)"
      ],
      "execution_count": null,
      "outputs": [
        {
          "output_type": "stream",
          "text": [
            "Found 1000 images belonging to 2 classes.\n",
            "test acc: 0.9439999914169311\n"
          ],
          "name": "stdout"
        }
      ]
    },
    {
      "cell_type": "markdown",
      "metadata": {
        "id": "XWS2xe3Zp7x0"
      },
      "source": [
        "97%의 테스트 정확도  2000개의 샘플 사용"
      ]
    },
    {
      "cell_type": "markdown",
      "metadata": {
        "id": "yN7bpJoKp7x2"
      },
      "source": [
        "## Take-aways: using convnets with small datasets\n",
        "\n",
        "* Convnet은 컴퓨터 비전 작업을 위한 최고의 기계 학습 모델 유형. 매우 작은 데이터 세트에서도 처음부터 훈련하여 괜찮은 결과를 얻을 수 있음.\n",
        "\n",
        "* 작은 데이터 세트에서는 과적합이 주요 문제. 데이터 증대는 이미지 데이터 작업 시 과적합을 방지하는 강력한 방법.\n",
        "\n",
        "* 특징 추출을 통해 새 데이터세트에서 기존 ConvNet을 쉽게 재사용할 수 있음. 이는 작은 이미지 데이터 세트로 작업하는 데 매우 유용한 기술.\n",
        "\n",
        "* 특징 추출을 보완하기 위해 기존 모델에서 이전에 학습한 일부 표현을 새로운 문제에 맞게 조정하는 파인튜닝을 사용할 수 있음. 이로 인해 성능이 조금 더 향상됨.\n"
      ]
    }
  ]
}