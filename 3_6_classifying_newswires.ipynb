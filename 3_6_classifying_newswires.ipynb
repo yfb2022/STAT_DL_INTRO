{
  "nbformat": 4,
  "nbformat_minor": 0,
  "metadata": {
    "kernelspec": {
      "display_name": "Python 3",
      "language": "python",
      "name": "python3"
    },
    "language_info": {
      "codemirror_mode": {
        "name": "ipython",
        "version": 3
      },
      "file_extension": ".py",
      "mimetype": "text/x-python",
      "name": "python",
      "nbconvert_exporter": "python",
      "pygments_lexer": "ipython3",
      "version": "3.5.2"
    },
    "colab": {
      "provenance": [],
      "include_colab_link": true
    }
  },
  "cells": [
    {
      "cell_type": "markdown",
      "metadata": {
        "id": "view-in-github",
        "colab_type": "text"
      },
      "source": [
        "<a href=\"https://colab.research.google.com/github/yfb2022/STAT_DL_INTRO/blob/main/3_6_classifying_newswires.ipynb\" target=\"_parent\"><img src=\"https://colab.research.google.com/assets/colab-badge.svg\" alt=\"Open In Colab\"/></a>"
      ]
    },
    {
      "cell_type": "code",
      "metadata": {
        "id": "OUq8bVIZNMZF",
        "colab": {
          "base_uri": "https://localhost:8080/",
          "height": 36
        },
        "outputId": "98fa3312-2d13-4ecb-e62e-785394e15096"
      },
      "source": [
        "import keras\n",
        "keras.__version__"
      ],
      "execution_count": 1,
      "outputs": [
        {
          "output_type": "execute_result",
          "data": {
            "text/plain": [
              "'2.15.0'"
            ],
            "application/vnd.google.colaboratory.intrinsic+json": {
              "type": "string"
            }
          },
          "metadata": {},
          "execution_count": 1
        }
      ]
    },
    {
      "cell_type": "markdown",
      "metadata": {
        "id": "k01qzxyGNMZN"
      },
      "source": [
        "# Classifying newswires: a multi-class classification example\n",
        "\n",
        "This notebook contains the code samples found in Chapter 3, Section 5 of [Deep Learning with Python](https://www.manning.com/books/deep-learning-with-python?a_aid=keras&a_bid=76564dff). Note that the original text features far more content, in particular further explanations and figures: in this notebook, you will only find source code and related comments.\n",
        "\n",
        "----\n",
        "\n",
        "In the previous section we saw how to classify vector inputs into two mutually exclusive classes using a densely-connected neural network.\n",
        "But what happens when you have more than two classes?\n",
        "\n",
        "In this section, we will build a network to classify Reuters newswires into 46 different mutually-exclusive topics. Since we have many\n",
        "classes, this problem is an instance of \"multi-class classification\", and since each data point should be classified into only one\n",
        "category, the problem is more specifically an instance of \"single-label, multi-class classification\". If each data point could have\n",
        "belonged to multiple categories (in our case, topics) then we would be facing a \"multi-label, multi-class classification\" problem."
      ]
    },
    {
      "cell_type": "markdown",
      "source": [
        "이전 섹션에서는 신경망을 사용하여 벡터 입력을 상호 배타적인 두 클래스로 분류하는 방법을 살펴보았습니다. 하지만 클래스가 두 개 이상 있으면 어떻게 되나요?\n",
        "\n",
        "이 섹션에서는 Reuters 뉴스를 46개의 상호 배타적인 주제로 분류하는 네트워크를 구축할 것입니다. 클래스가 많기 때문에 이 문제는 \"다중 클래스 분류\"의 예이고, 각 데이터 포인트가 하나의 범주로만 분류되어야 하므로 이 문제는 보다 구체적으로 \"단일 레이블, 다중 클래스 분류\"의 예입니다. 각 데이터 포인트가 여러 범주(이 경우 주제)에 속할 수 있다면 \"다중 레이블, 다중 클래스 분류\" 문제에 직면하게 됩니다."
      ],
      "metadata": {
        "id": "Yt69gRWlE3Ma"
      }
    },
    {
      "cell_type": "markdown",
      "metadata": {
        "id": "lnsx4NJYNMZQ"
      },
      "source": [
        "## The Reuters dataset\n",
        "\n",
        "\n",
        "We will be working with the _Reuters dataset_, a set of short newswires and their topics, published by Reuters in 1986. It's a very simple,\n",
        "widely used toy dataset for text classification. There are 46 different topics; some topics are more represented than others, but each\n",
        "topic has at least 10 examples in the training set.\n",
        "\n",
        "Like IMDB and MNIST, the Reuters dataset comes packaged as part of Keras. Let's take a look right away:"
      ]
    },
    {
      "cell_type": "code",
      "metadata": {
        "id": "gDufPraWNMZU",
        "colab": {
          "base_uri": "https://localhost:8080/"
        },
        "outputId": "5cb54fb8-fc56-4494-980e-cae70b173fd8"
      },
      "source": [
        "from keras.datasets import reuters\n",
        "\n",
        "(train_data, train_labels), (test_data, test_labels) = reuters.load_data(num_words=10000)"
      ],
      "execution_count": 2,
      "outputs": [
        {
          "output_type": "stream",
          "name": "stdout",
          "text": [
            "Downloading data from https://storage.googleapis.com/tensorflow/tf-keras-datasets/reuters.npz\n",
            "2110848/2110848 [==============================] - 0s 0us/step\n"
          ]
        }
      ]
    },
    {
      "cell_type": "markdown",
      "metadata": {
        "id": "eLVl_GXJNMZY"
      },
      "source": [
        "\n",
        "Like with the IMDB dataset, the argument `num_words=10000` restricts the data to the 10,000 most frequently occurring words found in the\n",
        "data.\n",
        "\n",
        "We have 8,982 training examples and 2,246 test examples:"
      ]
    },
    {
      "cell_type": "code",
      "metadata": {
        "id": "T2vO99QjNMZb",
        "colab": {
          "base_uri": "https://localhost:8080/"
        },
        "outputId": "b6cbd1f4-c047-455c-9f49-065e12141c17"
      },
      "source": [
        "len(train_data)"
      ],
      "execution_count": 3,
      "outputs": [
        {
          "output_type": "execute_result",
          "data": {
            "text/plain": [
              "8982"
            ]
          },
          "metadata": {},
          "execution_count": 3
        }
      ]
    },
    {
      "cell_type": "code",
      "metadata": {
        "id": "q-pIPctpNMZi",
        "colab": {
          "base_uri": "https://localhost:8080/"
        },
        "outputId": "c605a521-58ee-4be1-a851-82a33f189908"
      },
      "source": [
        "len(test_data)"
      ],
      "execution_count": 4,
      "outputs": [
        {
          "output_type": "execute_result",
          "data": {
            "text/plain": [
              "2246"
            ]
          },
          "metadata": {},
          "execution_count": 4
        }
      ]
    },
    {
      "cell_type": "markdown",
      "metadata": {
        "id": "RgjtPLMvNMZl"
      },
      "source": [
        "As with the IMDB reviews, each example is a list of integers (word indices):"
      ]
    },
    {
      "cell_type": "code",
      "metadata": {
        "id": "9bt3FPRrNMZn",
        "colab": {
          "base_uri": "https://localhost:8080/"
        },
        "outputId": "af5a9f08-9151-4723-9eee-e080ec8e02ec"
      },
      "source": [
        "train_data[10]"
      ],
      "execution_count": 6,
      "outputs": [
        {
          "output_type": "execute_result",
          "data": {
            "text/plain": [
              "[1,\n",
              " 245,\n",
              " 273,\n",
              " 207,\n",
              " 156,\n",
              " 53,\n",
              " 74,\n",
              " 160,\n",
              " 26,\n",
              " 14,\n",
              " 46,\n",
              " 296,\n",
              " 26,\n",
              " 39,\n",
              " 74,\n",
              " 2979,\n",
              " 3554,\n",
              " 14,\n",
              " 46,\n",
              " 4689,\n",
              " 4329,\n",
              " 86,\n",
              " 61,\n",
              " 3499,\n",
              " 4795,\n",
              " 14,\n",
              " 61,\n",
              " 451,\n",
              " 4329,\n",
              " 17,\n",
              " 12]"
            ]
          },
          "metadata": {},
          "execution_count": 6
        }
      ]
    },
    {
      "cell_type": "markdown",
      "metadata": {
        "id": "e_B4anNpNMZt"
      },
      "source": [
        "Here's how you can decode it back to words, in case you are curious:"
      ]
    },
    {
      "cell_type": "code",
      "metadata": {
        "id": "p7l45AkcNMZu",
        "colab": {
          "base_uri": "https://localhost:8080/"
        },
        "outputId": "ac922b1e-eeb6-4eb7-dc75-cbb688624d8d"
      },
      "source": [
        "word_index = reuters.get_word_index()\n",
        "reverse_word_index = dict([(value, key) for (key, value) in word_index.items()])\n",
        "# Note that our indices were offset by 3\n",
        "# because 0, 1 and 2 are reserved indices for \"padding\", \"start of sequence\", and \"unknown\".\n",
        "decoded_newswire = ' '.join([reverse_word_index.get(i - 3, '?') for i in train_data[0]])"
      ],
      "execution_count": 7,
      "outputs": [
        {
          "output_type": "stream",
          "name": "stdout",
          "text": [
            "Downloading data from https://storage.googleapis.com/tensorflow/tf-keras-datasets/reuters_word_index.json\n",
            "550378/550378 [==============================] - 0s 0us/step\n"
          ]
        }
      ]
    },
    {
      "cell_type": "code",
      "metadata": {
        "id": "B88ZqYmbNMZy",
        "colab": {
          "base_uri": "https://localhost:8080/",
          "height": 110
        },
        "outputId": "1889b0fd-64e7-45af-d8df-66ecc272991e"
      },
      "source": [
        "decoded_newswire"
      ],
      "execution_count": 8,
      "outputs": [
        {
          "output_type": "execute_result",
          "data": {
            "text/plain": [
              "'? ? ? said as a result of its december acquisition of space co it expects earnings per share in 1987 of 1 15 to 1 30 dlrs per share up from 70 cts in 1986 the company said pretax net should rise to nine to 10 mln dlrs from six mln dlrs in 1986 and rental operation revenues to 19 to 22 mln dlrs from 12 5 mln dlrs it said cash flow per share this year should be 2 50 to three dlrs reuter 3'"
            ],
            "application/vnd.google.colaboratory.intrinsic+json": {
              "type": "string"
            }
          },
          "metadata": {},
          "execution_count": 8
        }
      ]
    },
    {
      "cell_type": "markdown",
      "metadata": {
        "id": "k0n4f268NMZ6"
      },
      "source": [
        "The label associated with an example is an integer between 0 and 45: a topic index."
      ]
    },
    {
      "cell_type": "code",
      "metadata": {
        "id": "rG-MQPc5NMZ7",
        "colab": {
          "base_uri": "https://localhost:8080/"
        },
        "outputId": "b95aaf4d-8f36-4b9b-c791-73c5af696c02"
      },
      "source": [
        "train_labels[10]"
      ],
      "execution_count": 9,
      "outputs": [
        {
          "output_type": "execute_result",
          "data": {
            "text/plain": [
              "3"
            ]
          },
          "metadata": {},
          "execution_count": 9
        }
      ]
    },
    {
      "cell_type": "markdown",
      "metadata": {
        "id": "r7UgwzL0NMZ_"
      },
      "source": [
        "## Preparing the data\n",
        "\n",
        "We can vectorize the data with the exact same code as in our previous example:"
      ]
    },
    {
      "cell_type": "code",
      "metadata": {
        "id": "OZGiD9lzNMaA"
      },
      "source": [
        "import numpy as np\n",
        "\n",
        "def vectorize_sequences(sequences, dimension=10000):\n",
        "    results = np.zeros((len(sequences), dimension))\n",
        "    for i, sequence in enumerate(sequences):\n",
        "        results[i, sequence] = 1.\n",
        "    return results\n",
        "\n",
        "# Our vectorized training data\n",
        "x_train = vectorize_sequences(train_data)\n",
        "# Our vectorized test data\n",
        "x_test = vectorize_sequences(test_data)"
      ],
      "execution_count": 10,
      "outputs": []
    },
    {
      "cell_type": "markdown",
      "metadata": {
        "id": "72tasepBNMaG"
      },
      "source": [
        "\n",
        "To vectorize the labels, there are two possibilities: we could just cast the label list as an integer tensor, or we could use a \"one-hot\"\n",
        "encoding. One-hot encoding is a widely used format for categorical data, also called \"categorical encoding\".\n",
        "For a more detailed explanation of one-hot encoding, you can refer to Chapter 6, Section 1.\n",
        "In our case, one-hot encoding of our labels consists in embedding each label as an all-zero vector with a 1 in the place of the label index, e.g.:"
      ]
    },
    {
      "cell_type": "markdown",
      "source": [
        "레이블을 벡터화하려면 두 가지 CASE가 있습니다. 레이블 목록을 정수 텐서로 캐스팅하거나 \"원-핫\" 인코딩을 사용할 수 있습니다. 원-핫 인코딩은 \"범주형 인코딩\"이라고도 하는 범주형 데이터에 널리 사용되는 형식입니다."
      ],
      "metadata": {
        "id": "kk3vWAVjGlzl"
      }
    },
    {
      "cell_type": "code",
      "metadata": {
        "id": "8RSnGWFCNMaI"
      },
      "source": [
        "def to_one_hot(labels, dimension=46):\n",
        "    results = np.zeros((len(labels), dimension))\n",
        "    for i, label in enumerate(labels):\n",
        "        results[i, label] = 1.\n",
        "    return results\n",
        "\n",
        "# Our vectorized training labels\n",
        "one_hot_train_labels = to_one_hot(train_labels)\n",
        "# Our vectorized test labels\n",
        "one_hot_test_labels = to_one_hot(test_labels)"
      ],
      "execution_count": 11,
      "outputs": []
    },
    {
      "cell_type": "markdown",
      "metadata": {
        "id": "4ohJE0JGNMaL"
      },
      "source": [
        "Note that there is a built-in way to do this in Keras, which you have already seen in action in our MNIST example:"
      ]
    },
    {
      "cell_type": "code",
      "metadata": {
        "id": "AavwLM19NMaM"
      },
      "source": [
        "from keras.utils import to_categorical\n",
        "\n",
        "one_hot_train_labels = to_categorical(train_labels)\n",
        "one_hot_test_labels = to_categorical(test_labels)"
      ],
      "execution_count": 13,
      "outputs": []
    },
    {
      "cell_type": "markdown",
      "metadata": {
        "id": "kBeZb48HNMaQ"
      },
      "source": [
        "## Building our network\n",
        "\n",
        "\n",
        "This topic classification problem looks very similar to our previous movie review classification problem: in both cases, we are trying to\n",
        "classify short snippets of text. There is however a new constraint here: the number of output classes has gone from 2 to 46, i.e. the\n",
        "dimensionality of the output space is much larger.\n",
        "\n",
        "In a stack of `Dense` layers like what we were using, each layer can only access information present in the output of the previous layer.\n",
        "If one layer drops some information relevant to the classification problem, this information can never be recovered by later layers: each\n",
        "layer can potentially become an \"information bottleneck\". In our previous example, we were using 16-dimensional intermediate layers, but a\n",
        "16-dimensional space may be too limited to learn to separate 46 different classes: such small layers may act as information bottlenecks,\n",
        "permanently dropping relevant information.\n",
        "\n",
        "For this reason we will use larger layers. Let's go with 64 units:"
      ]
    },
    {
      "cell_type": "markdown",
      "source": [
        "이 주제 분류 문제는 이전 영화 리뷰 분류 문제와 매우 유사해 보입니다. 두 경우 모두 짧은 텍스트 조각을 분류하려고 합니다. 그러나 여기에는 새로운 제약이 있습니다. 출력 클래스의 수가 2에서 46으로 늘어났습니다. 즉, 출력 공간의 차원이 훨씬 더 커졌습니다.\n",
        "\n",
        "우리가 사용했던 것과 같은 레이어 스택에서 Dense각 레이어는 이전 레이어의 출력에 있는 정보에만 액세스할 수 있습니다. 한 레이어에서 분류 문제와 관련된 일부 정보를 삭제하면 이 정보는 이후 레이어에서 결코 복구할 수 없습니다. 각 레이어는 잠재적으로 \"정보 병목 현상\"이 될 수 있습니다. 이전 예에서는 16차원 중간 레이어를 사용했지만 16차원 공간은 46개의 서로 다른 클래스를 분리하는 방법을 학습하기에는 너무 제한적일 수 있습니다. 이러한 작은 레이어는 정보 병목 현상으로 작용하여 관련 정보를 영구적으로 삭제할 수 있습니다.\n"
      ],
      "metadata": {
        "id": "eQYrfGPoHMmb"
      }
    },
    {
      "cell_type": "code",
      "metadata": {
        "id": "jrbtWYcBNMaU"
      },
      "source": [
        "from keras import models\n",
        "from keras import layers\n",
        "\n",
        "model = models.Sequential()\n",
        "model.add(layers.Dense(64, activation='relu', input_shape=(10000,)))\n",
        "model.add(layers.Dense(64, activation='relu'))\n",
        "model.add(layers.Dense(46, activation='softmax'))"
      ],
      "execution_count": 14,
      "outputs": []
    },
    {
      "cell_type": "markdown",
      "metadata": {
        "id": "2zBKQ5GJNMaZ"
      },
      "source": [
        "\n",
        "There are two other things you should note about this architecture:\n",
        "\n",
        "* We are ending the network with a `Dense` layer of size 46. This means that for each input sample, our network will output a\n",
        "46-dimensional vector. Each entry in this vector (each dimension) will encode a different output class.\n",
        "* The last layer uses a `softmax` activation. You have already seen this pattern in the MNIST example. It means that the network will\n",
        "output a _probability distribution_ over the 46 different output classes, i.e. for every input sample, the network will produce a\n",
        "46-dimensional output vector where `output[i]` is the probability that the sample belongs to class `i`. The 46 scores will sum to 1.\n",
        "\n",
        "The best loss function to use in this case is `categorical_crossentropy`. It measures the distance between two probability distributions:\n",
        "in our case, between the probability distribution output by our network, and the true distribution of the labels. By minimizing the\n",
        "distance between these two distributions, we train our network to output something as close as possible to the true labels."
      ]
    },
    {
      "cell_type": "markdown",
      "source": [
        "이 아키텍처에 대해 주목해야 할 두 가지 다른 사항이 있습니다.\n",
        "\n",
        "우리는 크기가 46인 레이어로 네트워크를 종료합니다. Dense이는 각 입력 샘플에 대해 네트워크가 46차원 벡터를 출력한다는 것을 의미합니다. 이 벡터의 각 항목(각 차원)은 서로 다른 출력 클래스를 인코딩합니다.\n",
        "\n",
        "마지막 레이어는 softmax활성화를 사용합니다. MNIST 예제에서 이 패턴을 이미 본 적이 있습니다. 이는 네트워크가 46개의 서로 다른 출력 클래스에 대한 확률 분포를output[i] 출력한다는 것을 의미합니다. 즉, 모든 입력 샘플에 대해 네트워크는 샘플이 i 클래스에 속할 확률인 46차원 출력 벡터를 생성합니다. 46개 점수의 합은 1이 됩니다.\n",
        "\n",
        "이 경우에 사용하기 가장 좋은 손실 함수는 입니다 categorical_crossentropy. 이는 두 확률 분포 사이의 거리를 측정합니다. 이 경우에는 네트워크에서 출력된 확률 분포와 레이블의 실제 분포 사이를 측정합니다. 이 두 분포 사이의 거리를 최소화함으로써 우리는 실제 레이블에 가능한 한 가까운 것을 출력하도록 네트워크를 훈련시킵니다."
      ],
      "metadata": {
        "id": "mpJvz0lVHq_R"
      }
    },
    {
      "cell_type": "code",
      "metadata": {
        "id": "0f846YXnNMaa"
      },
      "source": [
        "model.compile(optimizer='rmsprop',\n",
        "              loss='categorical_crossentropy',\n",
        "              metrics=['accuracy'])"
      ],
      "execution_count": 15,
      "outputs": []
    },
    {
      "cell_type": "markdown",
      "metadata": {
        "id": "TiIbWLVwNMag"
      },
      "source": [
        "## Validating our approach\n",
        "\n",
        "Let's set apart 1,000 samples in our training data to use as a validation set:"
      ]
    },
    {
      "cell_type": "code",
      "metadata": {
        "id": "hWphW8bYNMai"
      },
      "source": [
        "x_val = x_train[:1000]\n",
        "partial_x_train = x_train[1000:]\n",
        "\n",
        "y_val = one_hot_train_labels[:1000]\n",
        "partial_y_train = one_hot_train_labels[1000:]"
      ],
      "execution_count": 16,
      "outputs": []
    },
    {
      "cell_type": "markdown",
      "metadata": {
        "id": "QHPLMIpXNMam"
      },
      "source": [
        "Now let's train our network for 20 epochs:"
      ]
    },
    {
      "cell_type": "code",
      "metadata": {
        "id": "1_-ILMj9NMao",
        "colab": {
          "base_uri": "https://localhost:8080/"
        },
        "outputId": "ebebf0b2-fa3d-4ce2-8b19-3eb2e288caf4"
      },
      "source": [
        "history = model.fit(partial_x_train,\n",
        "                    partial_y_train,\n",
        "                    epochs=20,\n",
        "                    batch_size=512,\n",
        "                    validation_data=(x_val, y_val))"
      ],
      "execution_count": 17,
      "outputs": [
        {
          "output_type": "stream",
          "name": "stdout",
          "text": [
            "Epoch 1/20\n",
            "16/16 [==============================] - 2s 74ms/step - loss: 2.7668 - accuracy: 0.4634 - val_loss: 1.8858 - val_accuracy: 0.5960\n",
            "Epoch 2/20\n",
            "16/16 [==============================] - 1s 51ms/step - loss: 1.5557 - accuracy: 0.6760 - val_loss: 1.3881 - val_accuracy: 0.6840\n",
            "Epoch 3/20\n",
            "16/16 [==============================] - 1s 87ms/step - loss: 1.1853 - accuracy: 0.7446 - val_loss: 1.1977 - val_accuracy: 0.7360\n",
            "Epoch 4/20\n",
            "16/16 [==============================] - 1s 79ms/step - loss: 0.9690 - accuracy: 0.7908 - val_loss: 1.0821 - val_accuracy: 0.7690\n",
            "Epoch 5/20\n",
            "16/16 [==============================] - 1s 61ms/step - loss: 0.7984 - accuracy: 0.8255 - val_loss: 1.0127 - val_accuracy: 0.7920\n",
            "Epoch 6/20\n",
            "16/16 [==============================] - 1s 49ms/step - loss: 0.6713 - accuracy: 0.8518 - val_loss: 0.9451 - val_accuracy: 0.8040\n",
            "Epoch 7/20\n",
            "16/16 [==============================] - 1s 75ms/step - loss: 0.5612 - accuracy: 0.8829 - val_loss: 0.9085 - val_accuracy: 0.8150\n",
            "Epoch 8/20\n",
            "16/16 [==============================] - 1s 81ms/step - loss: 0.4727 - accuracy: 0.9013 - val_loss: 0.8964 - val_accuracy: 0.8120\n",
            "Epoch 9/20\n",
            "16/16 [==============================] - 1s 66ms/step - loss: 0.4010 - accuracy: 0.9159 - val_loss: 0.8734 - val_accuracy: 0.8220\n",
            "Epoch 10/20\n",
            "16/16 [==============================] - 1s 74ms/step - loss: 0.3382 - accuracy: 0.9278 - val_loss: 0.8840 - val_accuracy: 0.8170\n",
            "Epoch 11/20\n",
            "16/16 [==============================] - 1s 78ms/step - loss: 0.2972 - accuracy: 0.9349 - val_loss: 0.9303 - val_accuracy: 0.8100\n",
            "Epoch 12/20\n",
            "16/16 [==============================] - 1s 86ms/step - loss: 0.2605 - accuracy: 0.9425 - val_loss: 0.8859 - val_accuracy: 0.8150\n",
            "Epoch 13/20\n",
            "16/16 [==============================] - 1s 69ms/step - loss: 0.2297 - accuracy: 0.9474 - val_loss: 0.8762 - val_accuracy: 0.8210\n",
            "Epoch 14/20\n",
            "16/16 [==============================] - 2s 100ms/step - loss: 0.2064 - accuracy: 0.9491 - val_loss: 0.9288 - val_accuracy: 0.8180\n",
            "Epoch 15/20\n",
            "16/16 [==============================] - 1s 92ms/step - loss: 0.1952 - accuracy: 0.9489 - val_loss: 0.9135 - val_accuracy: 0.8160\n",
            "Epoch 16/20\n",
            "16/16 [==============================] - 1s 79ms/step - loss: 0.1746 - accuracy: 0.9525 - val_loss: 0.9201 - val_accuracy: 0.8170\n",
            "Epoch 17/20\n",
            "16/16 [==============================] - 1s 63ms/step - loss: 0.1595 - accuracy: 0.9523 - val_loss: 0.9365 - val_accuracy: 0.8150\n",
            "Epoch 18/20\n",
            "16/16 [==============================] - 1s 51ms/step - loss: 0.1517 - accuracy: 0.9553 - val_loss: 0.9593 - val_accuracy: 0.8090\n",
            "Epoch 19/20\n",
            "16/16 [==============================] - 1s 48ms/step - loss: 0.1464 - accuracy: 0.9559 - val_loss: 0.9434 - val_accuracy: 0.8160\n",
            "Epoch 20/20\n",
            "16/16 [==============================] - 1s 48ms/step - loss: 0.1402 - accuracy: 0.9541 - val_loss: 0.9491 - val_accuracy: 0.8080\n"
          ]
        }
      ]
    },
    {
      "cell_type": "markdown",
      "metadata": {
        "id": "Ay20jikBNMau"
      },
      "source": [
        "Let's display its loss and accuracy curves:"
      ]
    },
    {
      "cell_type": "code",
      "metadata": {
        "id": "KKl0KCM6NMav",
        "colab": {
          "base_uri": "https://localhost:8080/",
          "height": 472
        },
        "outputId": "d430109a-0be5-4916-d4c9-0d1f2a48d33b"
      },
      "source": [
        "import matplotlib.pyplot as plt\n",
        "\n",
        "loss = history.history['loss']\n",
        "val_loss = history.history['val_loss']\n",
        "\n",
        "epochs = range(1, len(loss) + 1)\n",
        "\n",
        "plt.plot(epochs, loss, 'bo', label='Training loss')\n",
        "plt.plot(epochs, val_loss, 'b', label='Validation loss')\n",
        "plt.title('Training and validation loss')\n",
        "plt.xlabel('Epochs')\n",
        "plt.ylabel('Loss')\n",
        "plt.legend()\n",
        "\n",
        "plt.show()"
      ],
      "execution_count": 18,
      "outputs": [
        {
          "output_type": "display_data",
          "data": {
            "text/plain": [
              "<Figure size 640x480 with 1 Axes>"
            ],
            "image/png": "[encoded data removed]"
          },
          "metadata": {}
        }
      ]
    },
    {
      "cell_type": "code",
      "metadata": {
        "id": "WjfGg2OeNMa0",
        "colab": {
          "base_uri": "https://localhost:8080/",
          "height": 472
        },
        "outputId": "f9a063f5-9749-4d9f-8944-44d5491f355e"
      },
      "source": [
        "plt.clf()   # clear figure\n",
        "\n",
        "acc = history.history['accuracy']\n",
        "val_acc = history.history['val_accuracy']\n",
        "\n",
        "plt.plot(epochs, acc, 'bo', label='Training acc')\n",
        "plt.plot(epochs, val_acc, 'b', label='Validation acc')\n",
        "plt.title('Training and validation accuracy')\n",
        "plt.xlabel('Epochs')\n",
        "plt.ylabel('Loss')\n",
        "plt.legend()\n",
        "\n",
        "plt.show()"
      ],
      "execution_count": 23,
      "outputs": [
        {
          "output_type": "display_data",
          "data": {
            "text/plain": [
              "<Figure size 640x480 with 1 Axes>"
            ],
            "image/png": "[encoded data removed]"
          },
          "metadata": {}
        }
      ]
    },
    {
      "cell_type": "markdown",
      "metadata": {
        "id": "qVlJPg2INMa9"
      },
      "source": [
        "It seems that the network starts overfitting after 8 epochs. Let's train a new network from scratch for 8 epochs, then let's evaluate it on\n",
        "the test set:"
      ]
    },
    {
      "cell_type": "code",
      "metadata": {
        "id": "69Tra_TYNMbA",
        "colab": {
          "base_uri": "https://localhost:8080/"
        },
        "outputId": "699159bb-904a-4b10-e23f-ca1c29505c45"
      },
      "source": [
        "model = models.Sequential()\n",
        "model.add(layers.Dense(64, activation='relu', input_shape=(10000,)))\n",
        "model.add(layers.Dense(64, activation='relu'))\n",
        "model.add(layers.Dense(46, activation='softmax'))\n",
        "\n",
        "model.compile(optimizer='rmsprop',\n",
        "              loss='categorical_crossentropy',\n",
        "              metrics=['accuracy'])\n",
        "\n",
        "model.fit(partial_x_train,\n",
        "          partial_y_train,\n",
        "          epochs=8,\n",
        "          batch_size=512,\n",
        "          validation_data=(x_val, y_val))\n",
        "results = model.evaluate(x_test, one_hot_test_labels)"
      ],
      "execution_count": 24,
      "outputs": [
        {
          "output_type": "stream",
          "name": "stdout",
          "text": [
            "Epoch 1/8\n",
            "16/16 [==============================] - 2s 69ms/step - loss: 2.6808 - accuracy: 0.5103 - val_loss: 1.8454 - val_accuracy: 0.6210\n",
            "Epoch 2/8\n",
            "16/16 [==============================] - 1s 52ms/step - loss: 1.5517 - accuracy: 0.6832 - val_loss: 1.3926 - val_accuracy: 0.7050\n",
            "Epoch 3/8\n",
            "16/16 [==============================] - 1s 48ms/step - loss: 1.1889 - accuracy: 0.7446 - val_loss: 1.2000 - val_accuracy: 0.7450\n",
            "Epoch 4/8\n",
            "16/16 [==============================] - 1s 68ms/step - loss: 0.9757 - accuracy: 0.7888 - val_loss: 1.0985 - val_accuracy: 0.7640\n",
            "Epoch 5/8\n",
            "16/16 [==============================] - 1s 88ms/step - loss: 0.8180 - accuracy: 0.8205 - val_loss: 1.0316 - val_accuracy: 0.7750\n",
            "Epoch 6/8\n",
            "16/16 [==============================] - 1s 73ms/step - loss: 0.6874 - accuracy: 0.8480 - val_loss: 0.9620 - val_accuracy: 0.8000\n",
            "Epoch 7/8\n",
            "16/16 [==============================] - 1s 49ms/step - loss: 0.5794 - accuracy: 0.8751 - val_loss: 0.9234 - val_accuracy: 0.8050\n",
            "Epoch 8/8\n",
            "16/16 [==============================] - 1s 50ms/step - loss: 0.4906 - accuracy: 0.8971 - val_loss: 0.9083 - val_accuracy: 0.8030\n",
            "71/71 [==============================] - 0s 4ms/step - loss: 0.9751 - accuracy: 0.7796\n"
          ]
        }
      ]
    },
    {
      "cell_type": "code",
      "metadata": {
        "id": "sDxEDgbANMbD",
        "colab": {
          "base_uri": "https://localhost:8080/"
        },
        "outputId": "831d1014-ef03-4328-afab-1125979a76f8"
      },
      "source": [
        "results"
      ],
      "execution_count": 25,
      "outputs": [
        {
          "output_type": "execute_result",
          "data": {
            "text/plain": [
              "[0.975148618221283, 0.7796081900596619]"
            ]
          },
          "metadata": {},
          "execution_count": 25
        }
      ]
    },
    {
      "cell_type": "markdown",
      "metadata": {
        "id": "QhyqZrNfNMbK"
      },
      "source": [
        "\n",
        "Our approach reaches an accuracy of ~78%. With a balanced binary classification problem, the accuracy reached by a purely random classifier\n",
        "would be 50%, but in our case it is closer to 19%, so our results seem pretty good, at least when compared to a random baseline:"
      ]
    },
    {
      "cell_type": "markdown",
      "source": [
        "우리의 접근 방식은 ~78%의 정확도에 도달했습니다. 균형 잡힌 이진 분류 문제의 경우 순수 무작위 분류기가 도달한 정확도는 50%이지만 우리의 경우에는 19%에 가까우므로 적어도 무작위 기준과 비교할 때 결과가 꽤 좋아 보입니다."
      ],
      "metadata": {
        "id": "gPnf9NZ5J_i7"
      }
    },
    {
      "cell_type": "code",
      "metadata": {
        "id": "_GmKwQLTNMbL",
        "colab": {
          "base_uri": "https://localhost:8080/"
        },
        "outputId": "602d5d78-74a2-4bda-bc2b-9febf8056e64"
      },
      "source": [
        "import copy\n",
        "\n",
        "test_labels_copy = copy.copy(test_labels)\n",
        "np.random.shuffle(test_labels_copy)\n",
        "float(np.sum(np.array(test_labels) == np.array(test_labels_copy))) / len(test_labels)"
      ],
      "execution_count": 26,
      "outputs": [
        {
          "output_type": "execute_result",
          "data": {
            "text/plain": [
              "0.18388245770258238"
            ]
          },
          "metadata": {},
          "execution_count": 26
        }
      ]
    },
    {
      "cell_type": "markdown",
      "metadata": {
        "id": "t0WsxIs7NMbQ"
      },
      "source": [
        "## Generating predictions on new data\n",
        "\n",
        "We can verify that the `predict` method of our model instance returns a probability distribution over all 46 topics. Let's generate topic\n",
        "predictions for all of the test data:"
      ]
    },
    {
      "cell_type": "code",
      "metadata": {
        "id": "LBnei01qNMbR",
        "colab": {
          "base_uri": "https://localhost:8080/"
        },
        "outputId": "236ec8e4-45e8-45de-bcd5-cedcd0f99cce"
      },
      "source": [
        "predictions = model.predict(x_test)"
      ],
      "execution_count": 27,
      "outputs": [
        {
          "output_type": "stream",
          "name": "stdout",
          "text": [
            "71/71 [==============================] - 0s 4ms/step\n"
          ]
        }
      ]
    },
    {
      "cell_type": "markdown",
      "metadata": {
        "id": "Dc7WkLE9NMbX"
      },
      "source": [
        "Each entry in `predictions` is a vector of length 46:"
      ]
    },
    {
      "cell_type": "code",
      "metadata": {
        "id": "jz9B02z9NMbY",
        "colab": {
          "base_uri": "https://localhost:8080/"
        },
        "outputId": "f3dec1c1-b9a7-4aa4-a52b-17380004a9d1"
      },
      "source": [
        "predictions[0].shape"
      ],
      "execution_count": 28,
      "outputs": [
        {
          "output_type": "execute_result",
          "data": {
            "text/plain": [
              "(46,)"
            ]
          },
          "metadata": {},
          "execution_count": 28
        }
      ]
    },
    {
      "cell_type": "markdown",
      "metadata": {
        "id": "zvKJcVNXNMbd"
      },
      "source": [
        "The coefficients in this vector sum to 1:"
      ]
    },
    {
      "cell_type": "code",
      "metadata": {
        "id": "zMEFvN7ONMbe",
        "colab": {
          "base_uri": "https://localhost:8080/"
        },
        "outputId": "5eb90a6e-9612-4886-e3e8-3d66623ebf37"
      },
      "source": [
        "np.sum(predictions[0])"
      ],
      "execution_count": 29,
      "outputs": [
        {
          "output_type": "execute_result",
          "data": {
            "text/plain": [
              "1.0"
            ]
          },
          "metadata": {},
          "execution_count": 29
        }
      ]
    },
    {
      "cell_type": "markdown",
      "metadata": {
        "id": "NVk6VVq1NMbm"
      },
      "source": [
        "The largest entry is the predicted class, i.e. the class with the highest probability:"
      ]
    },
    {
      "cell_type": "code",
      "metadata": {
        "id": "g4AXlKZFNMbn",
        "colab": {
          "base_uri": "https://localhost:8080/"
        },
        "outputId": "028dce92-4735-4276-ccfc-f5b92188ccfa"
      },
      "source": [
        "np.argmax(predictions[0])"
      ],
      "execution_count": 30,
      "outputs": [
        {
          "output_type": "execute_result",
          "data": {
            "text/plain": [
              "3"
            ]
          },
          "metadata": {},
          "execution_count": 30
        }
      ]
    },
    {
      "cell_type": "markdown",
      "metadata": {
        "id": "ILpxgWIONMbt"
      },
      "source": [
        "## A different way to handle the labels and the loss\n",
        "\n",
        "We mentioned earlier that another way to encode the labels would be to cast them as an integer tensor, like such:"
      ]
    },
    {
      "cell_type": "code",
      "metadata": {
        "id": "rvT18PRnNMbw"
      },
      "source": [
        "y_train = np.array(train_labels)\n",
        "y_test = np.array(test_labels)"
      ],
      "execution_count": 31,
      "outputs": []
    },
    {
      "cell_type": "markdown",
      "metadata": {
        "id": "EshDQZu4NMb0"
      },
      "source": [
        "\n",
        "The only thing it would change is the choice of the loss function. Our previous loss, `categorical_crossentropy`, expects the labels to\n",
        "follow a categorical encoding. With integer labels, we should use `sparse_categorical_crossentropy`: 정수인코딩"
      ]
    },
    {
      "cell_type": "code",
      "metadata": {
        "id": "Zm0dmoEANMb1"
      },
      "source": [
        "model.compile(optimizer='rmsprop', loss='sparse_categorical_crossentropy', metrics=['acc'])"
      ],
      "execution_count": 32,
      "outputs": []
    },
    {
      "cell_type": "markdown",
      "metadata": {
        "id": "h6Q77-evNMb4"
      },
      "source": [
        "This new loss function is still mathematically the same as `categorical_crossentropy`; it just has a different interface."
      ]
    },
    {
      "cell_type": "markdown",
      "metadata": {
        "id": "XfmbsvpJNMb5"
      },
      "source": [
        "## On the importance of having sufficiently large intermediate layers\n",
        "\n",
        "\n",
        "We mentioned earlier that since our final outputs were 46-dimensional, we should avoid intermediate layers with much less than 46 hidden\n",
        "units. Now let's try to see what happens when we introduce an information bottleneck by having intermediate layers significantly less than\n",
        "46-dimensional, e.g. 4-dimensional."
      ]
    },
    {
      "cell_type": "markdown",
      "source": [
        "앞서 우리는 최종 출력이 46차원이었기 때문에 은닉 유닛이 46개보다 훨씬 적은 중간 레이어를 피해야 한다고 언급했습니다.\n",
        "\n",
        "이제 46차원보다 훨씬 작은 중간 레이어(예: 4차원)를 사용하여 정보 병목 현상을 도입할 때 어떤 일이 발생하는지 살펴보겠습니다."
      ],
      "metadata": {
        "id": "AGbFeRHwLFe7"
      }
    },
    {
      "cell_type": "code",
      "metadata": {
        "id": "6mkwWf5PNMb6",
        "colab": {
          "base_uri": "https://localhost:8080/"
        },
        "outputId": "7af8b543-0e62-4f4d-b276-6fea29b0fbb8"
      },
      "source": [
        "model = models.Sequential()\n",
        "model.add(layers.Dense(64, activation='relu', input_shape=(10000,)))\n",
        "model.add(layers.Dense(4, activation='relu'))\n",
        "model.add(layers.Dense(46, activation='softmax'))\n",
        "\n",
        "model.compile(optimizer='rmsprop',\n",
        "              loss='categorical_crossentropy',\n",
        "              metrics=['accuracy'])\n",
        "model.fit(partial_x_train,\n",
        "          partial_y_train,\n",
        "          epochs=20,\n",
        "          batch_size=128,\n",
        "          validation_data=(x_val, y_val))"
      ],
      "execution_count": 33,
      "outputs": [
        {
          "output_type": "stream",
          "name": "stdout",
          "text": [
            "Epoch 1/20\n",
            "63/63 [==============================] - 3s 25ms/step - loss: 2.7830 - accuracy: 0.4037 - val_loss: 2.0265 - val_accuracy: 0.5700\n",
            "Epoch 2/20\n",
            "63/63 [==============================] - 1s 17ms/step - loss: 1.7677 - accuracy: 0.5728 - val_loss: 1.6327 - val_accuracy: 0.5770\n",
            "Epoch 3/20\n",
            "63/63 [==============================] - 1s 17ms/step - loss: 1.4930 - accuracy: 0.5950 - val_loss: 1.5034 - val_accuracy: 0.6090\n",
            "Epoch 4/20\n",
            "63/63 [==============================] - 1s 17ms/step - loss: 1.3433 - accuracy: 0.6299 - val_loss: 1.4399 - val_accuracy: 0.6250\n",
            "Epoch 5/20\n",
            "63/63 [==============================] - 1s 16ms/step - loss: 1.2370 - accuracy: 0.6585 - val_loss: 1.4063 - val_accuracy: 0.6480\n",
            "Epoch 6/20\n",
            "63/63 [==============================] - 1s 17ms/step - loss: 1.1576 - accuracy: 0.6939 - val_loss: 1.3892 - val_accuracy: 0.6620\n",
            "Epoch 7/20\n",
            "63/63 [==============================] - 1s 17ms/step - loss: 1.0921 - accuracy: 0.7093 - val_loss: 1.3823 - val_accuracy: 0.6660\n",
            "Epoch 8/20\n",
            "63/63 [==============================] - 1s 17ms/step - loss: 1.0347 - accuracy: 0.7181 - val_loss: 1.3919 - val_accuracy: 0.6710\n",
            "Epoch 9/20\n",
            "63/63 [==============================] - 1s 16ms/step - loss: 0.9835 - accuracy: 0.7221 - val_loss: 1.3863 - val_accuracy: 0.6750\n",
            "Epoch 10/20\n",
            "63/63 [==============================] - 1s 22ms/step - loss: 0.9366 - accuracy: 0.7281 - val_loss: 1.4061 - val_accuracy: 0.6690\n",
            "Epoch 11/20\n",
            "63/63 [==============================] - 2s 27ms/step - loss: 0.8849 - accuracy: 0.7388 - val_loss: 1.4058 - val_accuracy: 0.6740\n",
            "Epoch 12/20\n",
            "63/63 [==============================] - 1s 20ms/step - loss: 0.8218 - accuracy: 0.7707 - val_loss: 1.3530 - val_accuracy: 0.7040\n",
            "Epoch 13/20\n",
            "63/63 [==============================] - 1s 18ms/step - loss: 0.7629 - accuracy: 0.7959 - val_loss: 1.3471 - val_accuracy: 0.7110\n",
            "Epoch 14/20\n",
            "63/63 [==============================] - 1s 17ms/step - loss: 0.7151 - accuracy: 0.8062 - val_loss: 1.3534 - val_accuracy: 0.7120\n",
            "Epoch 15/20\n",
            "63/63 [==============================] - 1s 17ms/step - loss: 0.6687 - accuracy: 0.8147 - val_loss: 1.3652 - val_accuracy: 0.7180\n",
            "Epoch 16/20\n",
            "63/63 [==============================] - 1s 18ms/step - loss: 0.6298 - accuracy: 0.8239 - val_loss: 1.3792 - val_accuracy: 0.7230\n",
            "Epoch 17/20\n",
            "63/63 [==============================] - 1s 17ms/step - loss: 0.5980 - accuracy: 0.8295 - val_loss: 1.4084 - val_accuracy: 0.7220\n",
            "Epoch 18/20\n",
            "63/63 [==============================] - 1s 17ms/step - loss: 0.5698 - accuracy: 0.8409 - val_loss: 1.4371 - val_accuracy: 0.7250\n",
            "Epoch 19/20\n",
            "63/63 [==============================] - 1s 17ms/step - loss: 0.5411 - accuracy: 0.8450 - val_loss: 1.4449 - val_accuracy: 0.7230\n",
            "Epoch 20/20\n",
            "63/63 [==============================] - 1s 17ms/step - loss: 0.5199 - accuracy: 0.8499 - val_loss: 1.4692 - val_accuracy: 0.7230\n"
          ]
        },
        {
          "output_type": "execute_result",
          "data": {
            "text/plain": [
              "<keras.src.callbacks.History at 0x7a051db94400>"
            ]
          },
          "metadata": {},
          "execution_count": 33
        }
      ]
    },
    {
      "cell_type": "markdown",
      "metadata": {
        "id": "ocY9CtaoNMcA"
      },
      "source": [
        "\n",
        "Our network now seems to peak at ~71% test accuracy, a 8% absolute drop. This drop is mostly due to the fact that we are now trying to\n",
        "compress a lot of information (enough information to recover the separation hyperplanes of 46 classes) into an intermediate space that is\n",
        "too low-dimensional. The network is able to cram _most_ of the necessary information into these 8-dimensional representations, but not all\n",
        "of it."
      ]
    },
    {
      "cell_type": "markdown",
      "source": [
        "우리 네트워크는 이제 최대 71%의 테스트 정확도로 최고점에 도달한 것으로 보이며 이는 8%의 절대 하락률입니다. 이러한 감소는 주로 우리가 많은 정보(46개 클래스의 분리 초평면을 복구하기에 충분한 정보)를 너무 낮은 차원의 중간 공간으로 압축하려고 시도하고 있다는 사실에 기인합니다. 네트워크는 필요한 정보의 대부분을 이러한 8차원 표현에 담을 수 있지만 전부는 아닙니다."
      ],
      "metadata": {
        "id": "Jyql6XuiLdZC"
      }
    },
    {
      "cell_type": "markdown",
      "metadata": {
        "id": "cgZq0NbkNMcB"
      },
      "source": [
        "## Further experiments (PROJECTS)\n",
        "\n",
        "* Try using larger or smaller layers: 32 units, 128 units...\n",
        "* We were using two hidden layers. Now try to use a single hidden layer, or three hidden layers."
      ]
    },
    {
      "cell_type": "markdown",
      "metadata": {
        "id": "KUFdFQ2eNMcC"
      },
      "source": [
        "## Wrapping up\n",
        "\n",
        "\n",
        "Here's what you should take away from this example:\n",
        "\n",
        "* If you are trying to classify data points between N classes, your network should end with a `Dense` layer of size N.\n",
        "* In a single-label, multi-class classification problem, your network should end with a `softmax` activation, so that it will output a\n",
        "probability distribution over the N output classes.\n",
        "* _Categorical crossentropy_ is almost always the loss function you should use for such problems. It minimizes the distance between the\n",
        "probability distributions output by the network, and the true distribution of the targets.\n",
        "* There are two ways to handle labels in multi-class classification:\n",
        "    ** Encoding the labels via \"categorical encoding\" (also known as \"one-hot encoding\") and using `categorical_crossentropy` as your loss\n",
        "function.\n",
        "    ** Encoding the labels as integers and using the `sparse_categorical_crossentropy` loss function.\n",
        "* If you need to classify data into a large number of categories, then you should avoid creating information bottlenecks in your network by having\n",
        "intermediate layers that are too small."
      ]
    },
    {
      "cell_type": "markdown",
      "source": [
        "1. N개의 클래스 간에 데이터 포인트를 분류하려는 경우 네트워크는 Dense크기가 N인 레이어 로 끝나야 합니다.\n",
        "2. 단일 레이블, 다중 클래스 분류 문제에서 네트워크는 softmax N개의 출력 클래스에 대한 확률 분포를 출력하도록 활성화로 끝나야 합니다.\n",
        "3. 범주형 교차엔트로피는 거의 항상 이러한 문제에 사용해야 하는 손실 함수입니다. 이는 네트워크에서 출력되는 확률 분포와 대상의 실제 분포 사이의 거리를 최소화합니다.\n",
        "4. 다중 클래스 분류에서 레이블을 처리하는 방법에는 두 가지가 있습니다. ** \"범주형 인코딩\"(\"원-핫 인코딩\"이라고도 함)을 통해 레이블을 인코딩하고 categorical_crossentropy손실 함수로 사용합니다. ** 레이블을 정수로 인코딩하고 sparse_categorical_crossentropy손실 함수를 사용합니다.\n",
        "5. 데이터를 많은 범주로 분류해야 하는 경우 중간 계층을 너무 작게 하여 네트워크에 정보 병목 현상이 발생하지 않도록 해야 합니다."
      ],
      "metadata": {
        "id": "oLzobXElL5Cj"
      }
    }
  ]
}