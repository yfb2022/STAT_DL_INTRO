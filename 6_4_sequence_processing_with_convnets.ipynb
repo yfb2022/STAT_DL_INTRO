{
  "cells": [
    {
      "cell_type": "markdown",
      "metadata": {
        "id": "view-in-github",
        "colab_type": "text"
      },
      "source": [
        "<a href=\"https://colab.research.google.com/github/yfb2022/STAT_DL_INTRO/blob/main/6_4_sequence_processing_with_convnets.ipynb\" target=\"_parent\"><img src=\"https://colab.research.google.com/assets/colab-badge.svg\" alt=\"Open In Colab\"/></a>"
      ]
    },
    {
      "cell_type": "code",
      "execution_count": 1,
      "metadata": {
        "colab": {
          "base_uri": "https://localhost:8080/",
          "height": 35
        },
        "id": "Vb8D4KMhaNOI",
        "outputId": "d207a68c-c4a2-4d13-a5ba-6ce260300fb0"
      },
      "outputs": [
        {
          "output_type": "execute_result",
          "data": {
            "text/plain": [
              "'2.15.0'"
            ],
            "application/vnd.google.colaboratory.intrinsic+json": {
              "type": "string"
            }
          },
          "metadata": {},
          "execution_count": 1
        }
      ],
      "source": [
        "import keras\n",
        "keras.__version__"
      ]
    },
    {
      "cell_type": "markdown",
      "metadata": {
        "id": "2hwAqTcCaNOX"
      },
      "source": [
        "# Sequence processing with convnets\n",
        "\n",
        "## Implementing a 1D convnet\n",
        "\n",
        "layer_conv_1d() 통해 Keras에서 1D 컨브넷을 사용\n",
        "\n",
        "layer_conv_2d() 모양이 있는 3D 텐서를 입력으로 사용 : (samples, time, features) and 비슷한 모양의 3D 텐서를 반환. 컨볼루션 창은 입력 텐서의 두 번째 축인 시간 축의 1D 창\n",
        "\n",
        "간단한 2계층 1D 컨브넷을 구축하고 이를 이미 익숙한 IMDB 감정 분류 작업에 적용해 보겠습니다. 참고로 이는 데이터를 획득하고 전처리하는 코드입니다.\n"
      ]
    },
    {
      "cell_type": "code",
      "execution_count": 2,
      "metadata": {
        "colab": {
          "base_uri": "https://localhost:8080/"
        },
        "id": "vfUEI4o9aNOe",
        "outputId": "d3ac18d9-8224-40f1-b401-ec334e133fa2"
      },
      "outputs": [
        {
          "output_type": "stream",
          "name": "stdout",
          "text": [
            "Loading data...\n",
            "Downloading data from https://storage.googleapis.com/tensorflow/tf-keras-datasets/imdb.npz\n",
            "17464789/17464789 [==============================] - 0s 0us/step\n",
            "25000 train sequences\n",
            "25000 test sequences\n",
            "Pad sequences (samples x time)\n",
            "x_train shape: (25000, 500)\n",
            "x_test shape: (25000, 500)\n"
          ]
        }
      ],
      "source": [
        "from keras.datasets import imdb\n",
        "from keras.preprocessing import sequence\n",
        "\n",
        "max_features = 10000  # number of words to consider as features\n",
        "max_len = 500  # cut texts after this number of words (among top max_features most common words)\n",
        "\n",
        "print('Loading data...')\n",
        "(x_train, y_train), (x_test, y_test) = imdb.load_data(num_words=max_features)\n",
        "print(len(x_train), 'train sequences')\n",
        "print(len(x_test), 'test sequences')\n",
        "\n",
        "print('Pad sequences (samples x time)')\n",
        "x_train = sequence.pad_sequences(x_train, maxlen=max_len)\n",
        "x_test = sequence.pad_sequences(x_test, maxlen=max_len)\n",
        "print('x_train shape:', x_train.shape)\n",
        "print('x_test shape:', x_test.shape)"
      ]
    },
    {
      "cell_type": "markdown",
      "metadata": {
        "id": "pHMxgm6taNPz"
      },
      "source": [
        "\n",
        "1D 컨브넷은 5장에서 사용한 2D 컨브넷과 동일한 방식으로 구성됩니다. 이는 3D 출력을 2D 출력으로 바꾸는 글로벌 풀링 레이어 또는 Flattn로 끝나는 layer_conv_1d()  layer_max_pooling_1d() 스택으로 구성됩니다 분류 또는 회귀를 위해 모델에 하나 이상의 밀집 레이어를 추가합니다.\n",
        "\n",
        "그러나 한 가지 차이점은 1D 컨볼루션 창을 사용하면 더 큰 컨볼루션 창을 사용할 수 있다는 것입니다. 2D 컨볼루션 레이어의 경우 3 × 3 컨볼루션 창에는 3 * 3 = 9개의 특징 벡터가 포함됩니다. 그러나 1D 컨볼루션 레이어의 경우 크기 3의 컨볼루션 창에는 3개의 특징 벡터만 포함됩니다. 따라서 크기 7 또는 9의 1D 컨볼루션 창을 쉽게 감당할 수 있습니다.\n",
        "\n",
        "이것은 IMDB 데이터 세트에 대한 1D 컨브넷의 예입니다."
      ]
    },
    {
      "cell_type": "code",
      "execution_count": 3,
      "metadata": {
        "colab": {
          "base_uri": "https://localhost:8080/"
        },
        "id": "JC-gnIwdaNP3",
        "outputId": "2cc5dd03-31dc-434c-e1c2-6d831201eb6c"
      },
      "outputs": [
        {
          "output_type": "stream",
          "name": "stdout",
          "text": [
            "Model: \"sequential\"\n",
            "_________________________________________________________________\n",
            " Layer (type)                Output Shape              Param #   \n",
            "=================================================================\n",
            " embedding (Embedding)       (None, 500, 128)          1280000   \n",
            "                                                                 \n",
            " conv1d (Conv1D)             (None, 494, 32)           28704     \n",
            "                                                                 \n",
            " max_pooling1d (MaxPooling1  (None, 98, 32)            0         \n",
            " D)                                                              \n",
            "                                                                 \n",
            " conv1d_1 (Conv1D)           (None, 92, 32)            7200      \n",
            "                                                                 \n",
            " global_max_pooling1d (Glob  (None, 32)                0         \n",
            " alMaxPooling1D)                                                 \n",
            "                                                                 \n",
            " dense (Dense)               (None, 1)                 33        \n",
            "                                                                 \n",
            "=================================================================\n",
            "Total params: 1315937 (5.02 MB)\n",
            "Trainable params: 1315937 (5.02 MB)\n",
            "Non-trainable params: 0 (0.00 Byte)\n",
            "_________________________________________________________________\n"
          ]
        },
        {
          "output_type": "stream",
          "name": "stderr",
          "text": [
            "WARNING:absl:`lr` is deprecated in Keras optimizer, please use `learning_rate` or use the legacy optimizer, e.g.,tf.keras.optimizers.legacy.RMSprop.\n"
          ]
        },
        {
          "output_type": "stream",
          "name": "stdout",
          "text": [
            "Epoch 1/10\n",
            "157/157 [==============================] - 77s 483ms/step - loss: 0.5904 - acc: 0.6788 - val_loss: 0.5848 - val_acc: 0.7938\n",
            "Epoch 2/10\n",
            "157/157 [==============================] - 66s 419ms/step - loss: 0.3950 - acc: 0.8651 - val_loss: 0.4041 - val_acc: 0.8700\n",
            "Epoch 3/10\n",
            "157/157 [==============================] - 69s 439ms/step - loss: 0.3068 - acc: 0.9086 - val_loss: 1.1914 - val_acc: 0.7498\n",
            "Epoch 4/10\n",
            "157/157 [==============================] - 70s 448ms/step - loss: 0.2407 - acc: 0.9315 - val_loss: 0.6886 - val_acc: 0.8580\n",
            "Epoch 5/10\n",
            "157/157 [==============================] - 68s 431ms/step - loss: 0.1944 - acc: 0.9553 - val_loss: 0.5590 - val_acc: 0.8752\n",
            "Epoch 6/10\n",
            "157/157 [==============================] - 65s 416ms/step - loss: 0.1451 - acc: 0.9727 - val_loss: 0.6998 - val_acc: 0.8772\n",
            "Epoch 7/10\n",
            "157/157 [==============================] - 67s 427ms/step - loss: 0.1160 - acc: 0.9826 - val_loss: 0.9037 - val_acc: 0.8638\n",
            "Epoch 8/10\n",
            "157/157 [==============================] - 63s 403ms/step - loss: 0.0916 - acc: 0.9893 - val_loss: 0.9660 - val_acc: 0.8744\n",
            "Epoch 9/10\n",
            "157/157 [==============================] - 65s 415ms/step - loss: 0.0825 - acc: 0.9919 - val_loss: 0.9150 - val_acc: 0.8770\n",
            "Epoch 10/10\n",
            "157/157 [==============================] - 70s 442ms/step - loss: 0.0817 - acc: 0.9919 - val_loss: 1.1870 - val_acc: 0.8580\n"
          ]
        }
      ],
      "source": [
        "from keras.models import Sequential\n",
        "from keras import layers\n",
        "from keras.optimizers import RMSprop\n",
        "\n",
        "model = Sequential()\n",
        "model.add(layers.Embedding(max_features, 128, input_length=max_len))\n",
        "model.add(layers.Conv1D(32, 7, activation='relu'))\n",
        "model.add(layers.MaxPooling1D(5))\n",
        "model.add(layers.Conv1D(32, 7, activation='relu'))\n",
        "model.add(layers.GlobalMaxPooling1D())\n",
        "model.add(layers.Dense(1))\n",
        "\n",
        "model.summary()\n",
        "\n",
        "model.compile(optimizer=RMSprop(lr=1e-4),\n",
        "              loss='binary_crossentropy',\n",
        "              metrics=['acc'])\n",
        "history = model.fit(x_train, y_train,\n",
        "                    epochs=10,\n",
        "                    batch_size=128,\n",
        "                    validation_split=0.2)"
      ]
    },
    {
      "cell_type": "markdown",
      "metadata": {
        "id": "ZEcbUSwAaNP6"
      },
      "source": [
        "훈련 및 검증 결과는 다음과 같습니다. 검증 정확도는 이전 두 섹션에서 사용한 LSTM보다 다소 낮지만 CPU와 GPU 모두에서 런타임이 더 빠릅니다(비록 정확한 속도 향상은 정확한 구성에 따라 크게 달라질 수 있음). 그 시점에서 우리는 이 모델을 적절한 에포크 수(8) 동안 재교육하고 테스트 세트에서 실행할 수 있습니다. 이는 1D 컨브넷이 단어 수준 감정 분류 작업에서 순환 네트워크에 대한 빠르고 저렴한 대안을 제공할 수 있다는 설득력 있는 시연입니다."
      ]
    },
    {
      "cell_type": "code",
      "execution_count": 4,
      "metadata": {
        "colab": {
          "base_uri": "https://localhost:8080/",
          "height": 887
        },
        "id": "LPFQECCpaNP8",
        "outputId": "7914363a-6375-452a-cd51-6d25c3383d90"
      },
      "outputs": [
        {
          "output_type": "display_data",
          "data": {
            "text/plain": [
              "<Figure size 640x480 with 1 Axes>"
            ],
            "image/png": "[encoded data removed]"
          },
          "metadata": {}
        },
        {
          "output_type": "display_data",
          "data": {
            "text/plain": [
              "<Figure size 640x480 with 1 Axes>"
            ],
            "image/png": "[encoded data removed]"
          },
          "metadata": {}
        }
      ],
      "source": [
        "import matplotlib.pyplot as plt\n",
        "\n",
        "acc = history.history['acc']\n",
        "val_acc = history.history['val_acc']\n",
        "loss = history.history['loss']\n",
        "val_loss = history.history['val_loss']\n",
        "\n",
        "epochs = range(len(acc))\n",
        "\n",
        "plt.plot(epochs, acc, 'bo', label='Training acc')\n",
        "plt.plot(epochs, val_acc, 'b', label='Validation acc')\n",
        "plt.title('Training and validation accuracy')\n",
        "plt.legend()\n",
        "\n",
        "plt.figure()\n",
        "\n",
        "plt.plot(epochs, loss, 'bo', label='Training loss')\n",
        "plt.plot(epochs, val_loss, 'b', label='Validation loss')\n",
        "plt.title('Training and validation loss')\n",
        "plt.legend()\n",
        "\n",
        "plt.show()"
      ]
    },
    {
      "cell_type": "markdown",
      "metadata": {
        "id": "TpQaKjgIaNP9"
      },
      "source": [
        "## Combining CNNs and RNNs to process long sequences\n",
        "\n",
        "1D 컨볼루션은 입력 패치를 독립적으로 처리하기 때문에 RNN과 달리 시간 단계의 순서(로컬 스케일, 컨볼루션 창의 크기)에 민감하지 않습니다. 물론 장기적인 패턴을 인식할 수 있으려면 많은 컨볼루션 레이어와 풀링 레이어를 쌓아 원래 입력의 긴 덩어리를 \"볼\" 수 있는 상위 레이어를 만들 수 있습니다. 하지만 이는 여전히 순서 민감성 유도하기에는 상당히 약한 방법입니다. 이러한 약점을 입증하는 한 가지 방법은 이전 섹션의 온도 예측 문제에 대해 1D 컨브넷을 시도하는 것입니다. 여기서 순서 민감도는 좋은 예측을 생성하는 데 중요했습니다."
      ]
    },
    {
      "cell_type": "code",
      "source": [
        "from google.colab import drive\n",
        "drive.mount('/content/drive')"
      ],
      "metadata": {
        "colab": {
          "base_uri": "https://localhost:8080/"
        },
        "id": "cC8XMx3zdl50",
        "outputId": "d4352b9f-c379-4206-c576-7691b38de0a4"
      },
      "execution_count": 5,
      "outputs": [
        {
          "output_type": "stream",
          "name": "stdout",
          "text": [
            "Mounted at /content/drive\n"
          ]
        }
      ]
    },
    {
      "cell_type": "code",
      "source": [
        "!unzip -o /content/drive/MyDrive/mpi_roof.zip"
      ],
      "metadata": {
        "colab": {
          "base_uri": "https://localhost:8080/"
        },
        "id": "YOpc5D-mdlmZ",
        "outputId": "e2e11274-b405-4ca4-a5bf-3a05acc388af"
      },
      "execution_count": 7,
      "outputs": [
        {
          "output_type": "stream",
          "name": "stdout",
          "text": [
            "Archive:  /content/drive/MyDrive/mpi_roof.zip\n",
            "  inflating: mpi_roof.csv            \n"
          ]
        }
      ]
    },
    {
      "cell_type": "code",
      "execution_count": 14,
      "metadata": {
        "collapsed": true,
        "id": "ZPFJbUAVaNQB"
      },
      "outputs": [],
      "source": [
        "# We reuse the following variables defined in the last section:\n",
        "# float_data, train_gen, val_gen, val_steps\n",
        "\n",
        "import os\n",
        "import numpy as np\n",
        "\n",
        "data_dir = '/content/'\n",
        "fname = os.path.join(data_dir, 'mpi_roof.csv')\n",
        "\n",
        "f = open(fname, encoding='latin-1')\n",
        "data = f.read()\n",
        "f.close()\n",
        "\n",
        "lines = data.split('\\n')\n",
        "header = lines[0].split(',')\n",
        "lines = lines[1:]\n",
        "## CP\n",
        "float_data = np.zeros((len(lines), len(header) - 1))\n",
        "# data <- data.matrix(data[,-1])\n",
        "for i, line in enumerate(lines[:-1]):\n",
        "    values = [float(x) for x in line.split(',')[1:]]\n",
        "    float_data[i, :] = values\n",
        "\n",
        "mean = float_data[:200000].mean(axis=0)\n",
        "float_data -= mean\n",
        "std = float_data[:200000].std(axis=0)\n",
        "float_data /= std\n",
        "# mean <- apply(train_data, 2, mean)\n",
        "# std <- apply(train_data, 2, sd)\n",
        "def generator(data, lookback, delay, min_index, max_index,\n",
        "              shuffle=False, batch_size=128, step=6):\n",
        "    if max_index is None:\n",
        "        max_index = len(data) - delay - 1\n",
        "    i = min_index + lookback\n",
        "    while 1:\n",
        "        if shuffle:\n",
        "            rows = np.random.randint(\n",
        "                min_index + lookback, max_index, size=batch_size)\n",
        "        else:\n",
        "            if i + batch_size >= max_index:\n",
        "                i = min_index + lookback\n",
        "            rows = np.arange(i, min(i + batch_size, max_index))\n",
        "            i += len(rows)\n",
        "\n",
        "        samples = np.zeros((len(rows),\n",
        "                           lookback // step,\n",
        "                           data.shape[-1]))\n",
        "        targets = np.zeros((len(rows),))\n",
        "        for j, row in enumerate(rows):\n",
        "            indices = range(rows[j] - lookback, rows[j], step)\n",
        "            samples[j] = data[indices]\n",
        "            targets[j] = data[rows[j] + delay][1]\n",
        "        yield samples, targets\n",
        "\n",
        "#    for (j in 1:length(rows)) {\n",
        "#       indices <- seq(rows[[j]] - lookback, rows[[j]],\n",
        "#                      length.out = dim(samples)[[2]])\n",
        "#       samples[j,,] <- data[indices,]\n",
        "#       targets[[j]] <- data[rows[[j]] + delay,2]\n",
        "#     }\n",
        "\n",
        "#     list(samples, targets)\n",
        "#   }\n",
        "# }\n",
        "\n",
        "lookback = 1440\n",
        "step = 6\n",
        "delay = 144\n",
        "batch_size = 128\n",
        "\n",
        "train_gen = generator(float_data,\n",
        "                      lookback=lookback,\n",
        "                      delay=delay,\n",
        "                      min_index=0,\n",
        "                      max_index=10000,\n",
        "                      shuffle=True,\n",
        "                      step=step,\n",
        "                      batch_size=batch_size)\n",
        "val_gen = generator(float_data,\n",
        "                    lookback=lookback,\n",
        "                    delay=delay,\n",
        "                    min_index=10001,\n",
        "                    max_index=15000,\n",
        "                    step=step,\n",
        "                    batch_size=batch_size)\n",
        "test_gen = generator(float_data,\n",
        "                     lookback=lookback,\n",
        "                     delay=delay,\n",
        "                     min_index=15001,\n",
        "                     max_index=None,\n",
        "                     step=step,\n",
        "                     batch_size=batch_size)\n",
        "\n",
        "# This is how many steps to draw from `val_gen`\n",
        "# in order to see the whole validation set:\n",
        "val_steps = (15000 - 10001 - lookback) // batch_size\n",
        "\n",
        "# This is how many steps to draw from `test_gen`\n",
        "# in order to see the whole test set:\n",
        "test_steps = (len(float_data) - 15001 - lookback) // batch_size"
      ]
    },
    {
      "cell_type": "code",
      "source": [
        "len(float_data)"
      ],
      "metadata": {
        "colab": {
          "base_uri": "https://localhost:8080/"
        },
        "id": "UhD5c7BLhdqA",
        "outputId": "d1ed9f1e-4e0f-4318-f625-ae3bfdece8dc"
      },
      "execution_count": 12,
      "outputs": [
        {
          "output_type": "execute_result",
          "data": {
            "text/plain": [
              "24125"
            ]
          },
          "metadata": {},
          "execution_count": 12
        }
      ]
    },
    {
      "cell_type": "code",
      "execution_count": 15,
      "metadata": {
        "colab": {
          "base_uri": "https://localhost:8080/"
        },
        "id": "HQu0QyG7aNQE",
        "outputId": "34978f8c-ecf1-4f5f-bed0-5b348337b6f4"
      },
      "outputs": [
        {
          "output_type": "stream",
          "name": "stdout",
          "text": [
            "Epoch 1/20\n"
          ]
        },
        {
          "output_type": "stream",
          "name": "stderr",
          "text": [
            "<ipython-input-15-1a1ca25d2ec3>:16: UserWarning: `Model.fit_generator` is deprecated and will be removed in a future version. Please use `Model.fit`, which supports generators.\n",
            "  history = model.fit_generator(train_gen,\n"
          ]
        },
        {
          "output_type": "stream",
          "name": "stdout",
          "text": [
            "500/500 [==============================] - 27s 52ms/step - loss: 0.2868 - val_loss: 1.3140\n",
            "Epoch 2/20\n",
            "500/500 [==============================] - 26s 52ms/step - loss: 0.2082 - val_loss: 1.3155\n",
            "Epoch 3/20\n",
            "500/500 [==============================] - 26s 52ms/step - loss: 0.1739 - val_loss: 0.9090\n",
            "Epoch 4/20\n",
            "500/500 [==============================] - 27s 54ms/step - loss: 0.1491 - val_loss: 0.7571\n",
            "Epoch 5/20\n",
            "500/500 [==============================] - 28s 57ms/step - loss: 0.1361 - val_loss: 0.8336\n",
            "Epoch 6/20\n",
            "500/500 [==============================] - 25s 50ms/step - loss: 0.1255 - val_loss: 0.7336\n",
            "Epoch 7/20\n",
            "500/500 [==============================] - 26s 52ms/step - loss: 0.1179 - val_loss: 0.6837\n",
            "Epoch 8/20\n",
            "500/500 [==============================] - 27s 54ms/step - loss: 0.1110 - val_loss: 0.6909\n",
            "Epoch 9/20\n",
            "500/500 [==============================] - 26s 51ms/step - loss: 0.1054 - val_loss: 0.7013\n",
            "Epoch 10/20\n",
            "500/500 [==============================] - 26s 52ms/step - loss: 0.1008 - val_loss: 0.7284\n",
            "Epoch 11/20\n",
            "500/500 [==============================] - 24s 48ms/step - loss: 0.0970 - val_loss: 0.7182\n",
            "Epoch 12/20\n",
            "500/500 [==============================] - 26s 53ms/step - loss: 0.0934 - val_loss: 0.7218\n",
            "Epoch 13/20\n",
            "500/500 [==============================] - 26s 52ms/step - loss: 0.0898 - val_loss: 0.6774\n",
            "Epoch 14/20\n",
            "500/500 [==============================] - 24s 48ms/step - loss: 0.0879 - val_loss: 0.7201\n",
            "Epoch 15/20\n",
            "500/500 [==============================] - 26s 52ms/step - loss: 0.0861 - val_loss: 0.6524\n",
            "Epoch 16/20\n",
            "500/500 [==============================] - 28s 57ms/step - loss: 0.0835 - val_loss: 0.6834\n",
            "Epoch 17/20\n",
            "500/500 [==============================] - 24s 47ms/step - loss: 0.0816 - val_loss: 0.6574\n",
            "Epoch 18/20\n",
            "500/500 [==============================] - 26s 52ms/step - loss: 0.0800 - val_loss: 0.6431\n",
            "Epoch 19/20\n",
            "500/500 [==============================] - 25s 50ms/step - loss: 0.0790 - val_loss: 0.7359\n",
            "Epoch 20/20\n",
            "500/500 [==============================] - 25s 49ms/step - loss: 0.0768 - val_loss: 0.7317\n"
          ]
        }
      ],
      "source": [
        "from keras.models import Sequential\n",
        "from keras import layers\n",
        "from keras.optimizers import RMSprop\n",
        "\n",
        "model = Sequential()\n",
        "model.add(layers.Conv1D(32, 5, activation='relu',\n",
        "                        input_shape=(None, float_data.shape[-1])))\n",
        "model.add(layers.MaxPooling1D(3))\n",
        "model.add(layers.Conv1D(32, 5, activation='relu'))\n",
        "model.add(layers.MaxPooling1D(3))\n",
        "model.add(layers.Conv1D(32, 5, activation='relu'))\n",
        "model.add(layers.GlobalMaxPooling1D())\n",
        "model.add(layers.Dense(1))\n",
        "\n",
        "model.compile(optimizer=RMSprop(), loss='mae')\n",
        "history = model.fit_generator(train_gen,\n",
        "                              steps_per_epoch=500,\n",
        "                              epochs=20,\n",
        "                              validation_data=val_gen,\n",
        "                              validation_steps=val_steps)"
      ]
    },
    {
      "cell_type": "markdown",
      "metadata": {
        "id": "Y1yvpLlHaNQO"
      },
      "source": [
        "Here are our training and validation Mean Absolute Errors:"
      ]
    },
    {
      "cell_type": "code",
      "execution_count": 16,
      "metadata": {
        "colab": {
          "base_uri": "https://localhost:8080/",
          "height": 452
        },
        "id": "RnQosLTVaNQW",
        "outputId": "357214c3-68ab-44f8-b634-4ae37df7aa9c"
      },
      "outputs": [
        {
          "output_type": "display_data",
          "data": {
            "text/plain": [
              "<Figure size 640x480 with 1 Axes>"
            ],
            "image/png": "[encoded data removed]"
          },
          "metadata": {}
        }
      ],
      "source": [
        "import matplotlib.pyplot as plt\n",
        "\n",
        "loss = history.history['loss']\n",
        "val_loss = history.history['val_loss']\n",
        "\n",
        "epochs = range(len(loss))\n",
        "\n",
        "plt.figure()\n",
        "\n",
        "plt.plot(epochs, loss, 'bo', label='Training loss')\n",
        "plt.plot(epochs, val_loss, 'b', label='Validation loss')\n",
        "plt.title('Training and validation loss')\n",
        "plt.legend()\n",
        "\n",
        "plt.show()"
      ]
    },
    {
      "cell_type": "markdown",
      "metadata": {
        "id": "KwR9k7UUaNQZ"
      },
      "source": [
        "검증 MAE는 0.40초로 유지됩니다. 작은 컨브넷을 사용하면 상식적인 기준선도 이길 수 없습니다. 다시 말하지만, 이는 컨브넷이 입력 시계열의 어느 곳에서나 패턴을 찾고 자신이 보는 패턴의 시간적 위치(시작 방향, 끝 방향 등)에 대한 지식이 없기 때문입니다.\n",
        "\n",
        "이 특정 예측 문제의 경우 최신 데이터 포인트는 이전 데이터 포인트와 다르게 해석되어야 하기 때문에 컨브넷은 의미 있는 결과를 생성하지 못합니다. 컨브넷의 이러한 제한은 IMDB 데이터에서는 문제가 되지 않습니다. 왜냐하면 긍정적이거나 부정적인 감정과 관련된 키워드 패턴은 입력 문장에서 발견되는 위치와 관계없이 유익하기 때문입니다.\n",
        "\n",
        "컨브넷의 속도와 가벼움을 RNN의 순서 민감성과 결합하는 한 가지 전략은 RNN 이전의 전처리 단계로 1D 컨브넷을 사용하는 것입니다(그림 6.30 참조). 이는 수천 단계의 시퀀스와 같이 너무 길어 RNN으로 현실적으로 처리할 수 없는 시퀀스를 처리할 때 특히 유용합니다. 컨브넷은 긴 입력 시퀀스를 더 높은 수준의 기능으로 구성된 훨씬 짧은(다운샘플링된) 시퀀스로 변환합니다. 이렇게 추출된 특징의 시퀀스는 네트워크의 RNN 부분에 대한 입력이 됩니다.\n",
        "\n",
        "이 기술은 연구 논문이나 실제 응용 분야에서 자주 볼 수 없습니다. 아마도 잘 알려져 있지 않기 때문일 것입니다. 그것은 효과적이며 더 일반적이어야합니다. 온도 예측 데이터 세트에서 이를 시도해 보겠습니다. 이 전략을 사용하면 훨씬 더 긴 시퀀스를 조작할 수 있으므로 더 오래 전의 데이터를 보거나(데이터 생성기의 매개변수를 늘려 lookback) 고해상도 시계열을 볼 수 있습니다( step생성기의 매개변수를 줄여서). 여기에서는 임의적으로 절반 크기의 를 사용하여 step시계열의 길이가 두 배로 늘어나며 날씨 데이터는 30분당 1포인트의 속도로 샘플링됩니다. 이 예에서는 generator앞서 정의한 함수를 재사용합니다."
      ]
    },
    {
      "cell_type": "markdown",
      "metadata": {
        "id": "qYEv5hKYaNQa"
      },
      "source": [
        "\n",
        "이 기술은 연구 논문이나 실제 응용 분야에서 자주 볼 수 없습니다. 아마도 잘 알려져 있지 않기 때문일 것입니다. 그것은 효과적이며 더 일반적이어야합니다. 온도 예측 데이터 세트에서 이를 시도해 보겠습니다. 이 전략을 사용하면 훨씬 더 긴 시퀀스를 조작할 수 있으므로 더 오래 전의 데이터를 보거나(데이터 생성기의 매개변수를 늘려 lookback) 고해상도 시계열을 볼 수 있습니다( step생성기의 매개변수를 줄여서). 여기에서는 임의적으로 절반 크기의 를 사용하여 step시계열의 길이가 두 배로 늘어나며 날씨 데이터는 30분당 1포인트의 속도로 샘플링됩니다. 이 예에서는 generator앞서 정의한 함수를 재사용합니다.\n",
        "\n"
      ]
    },
    {
      "cell_type": "code",
      "execution_count": 17,
      "metadata": {
        "collapsed": true,
        "id": "U4lBDEKdaNQb"
      },
      "outputs": [],
      "source": [
        "# This was previously set to 6 (one point per hour).\n",
        "# Now 3 (one point per 30 min).\n",
        "step = 3\n",
        "lookback = 720  # Unchanged\n",
        "delay = 144 # Unchanged\n",
        "\n",
        "train_gen = generator(float_data,\n",
        "                      lookback=lookback,\n",
        "                      delay=delay,\n",
        "                      min_index=0,\n",
        "                      max_index=10000,\n",
        "                      shuffle=True,\n",
        "                      step=step,\n",
        "                      batch_size=batch_size)\n",
        "val_gen = generator(float_data,\n",
        "                    lookback=lookback,\n",
        "                    delay=delay,\n",
        "                    min_index=10001,\n",
        "                    max_index=15000,\n",
        "                    step=step,\n",
        "                    batch_size=batch_size)\n",
        "test_gen = generator(float_data,\n",
        "                     lookback=lookback,\n",
        "                     delay=delay,\n",
        "                     min_index=15001,\n",
        "                     max_index=None,\n",
        "                     step=step,\n",
        "                     batch_size=batch_size)\n",
        "\n",
        "# This is how many steps to draw from `val_gen`\n",
        "# in order to see the whole validation set:\n",
        "val_steps = (15000 - 10001 - lookback) // batch_size\n",
        "\n",
        "# This is how many steps to draw from `test_gen`\n",
        "# in order to see the whole test set:\n",
        "test_steps = (len(float_data) - 15001 - lookback) // batch_size"
      ]
    },
    {
      "cell_type": "markdown",
      "metadata": {
        "id": "cc0RSTYNaNQd"
      },
      "source": [
        "This is our model, starting with two `Conv1D` layers and following-up with a `GRU` layer:"
      ]
    },
    {
      "cell_type": "code",
      "execution_count": null,
      "metadata": {
        "colab": {
          "base_uri": "https://localhost:8080/"
        },
        "id": "mXhtzMhbaNQd",
        "outputId": "fe506fad-a1bb-49ce-d9c2-5f351433e9ed"
      },
      "outputs": [
        {
          "output_type": "stream",
          "name": "stdout",
          "text": [
            "Model: \"sequential_3\"\n",
            "_________________________________________________________________\n",
            " Layer (type)                Output Shape              Param #   \n",
            "=================================================================\n",
            " conv1d_8 (Conv1D)           (None, None, 32)          3392      \n",
            "                                                                 \n",
            " max_pooling1d_5 (MaxPoolin  (None, None, 32)          0         \n",
            " g1D)                                                            \n",
            "                                                                 \n",
            " conv1d_9 (Conv1D)           (None, None, 32)          5152      \n",
            "                                                                 \n",
            " gru (GRU)                   (None, 32)                6336      \n",
            "                                                                 \n",
            " dense_3 (Dense)             (None, 1)                 33        \n",
            "                                                                 \n",
            "=================================================================\n",
            "Total params: 14913 (58.25 KB)\n",
            "Trainable params: 14913 (58.25 KB)\n",
            "Non-trainable params: 0 (0.00 Byte)\n",
            "_________________________________________________________________\n",
            "Epoch 1/20\n"
          ]
        },
        {
          "output_type": "stream",
          "name": "stderr",
          "text": [
            "<ipython-input-18-b3d2efc2f7d8>:12: UserWarning: `Model.fit_generator` is deprecated and will be removed in a future version. Please use `Model.fit`, which supports generators.\n",
            "  history = model.fit_generator(train_gen,\n"
          ]
        },
        {
          "output_type": "stream",
          "name": "stdout",
          "text": [
            "500/500 [==============================] - 86s 162ms/step - loss: 0.2680 - val_loss: 0.7759\n",
            "Epoch 2/20\n",
            "500/500 [==============================] - 79s 157ms/step - loss: 0.1590 - val_loss: 0.8070\n",
            "Epoch 3/20\n",
            " 81/500 [===>..........................] - ETA: 59s - loss: 0.1325"
          ]
        }
      ],
      "source": [
        "model = Sequential()\n",
        "model.add(layers.Conv1D(32, 5, activation='relu',\n",
        "                        input_shape=(None, float_data.shape[-1])))\n",
        "model.add(layers.MaxPooling1D(3))\n",
        "model.add(layers.Conv1D(32, 5, activation='relu'))\n",
        "model.add(layers.GRU(32, dropout=0.1, recurrent_dropout=0.5))\n",
        "model.add(layers.Dense(1))\n",
        "\n",
        "model.summary()\n",
        "\n",
        "model.compile(optimizer=RMSprop(), loss='mae')\n",
        "history = model.fit_generator(train_gen,\n",
        "                              steps_per_epoch=500,\n",
        "                              epochs=20,\n",
        "                              validation_data=val_gen,\n",
        "                              validation_steps=val_steps)"
      ]
    },
    {
      "cell_type": "code",
      "execution_count": null,
      "metadata": {
        "id": "i0E4eB8oaNQg"
      },
      "outputs": [],
      "source": [
        "loss = history.history['loss']\n",
        "val_loss = history.history['val_loss']\n",
        "\n",
        "epochs = range(len(loss))\n",
        "\n",
        "plt.figure()\n",
        "\n",
        "plt.plot(epochs, loss, 'bo', label='Training loss')\n",
        "plt.plot(epochs, val_loss, 'b', label='Validation loss')\n",
        "plt.title('Training and validation loss')\n",
        "plt.legend()\n",
        "\n",
        "plt.show()"
      ]
    },
    {
      "cell_type": "markdown",
      "metadata": {
        "id": "lavxlLmhaNQk"
      },
      "source": [
        "유효성 검사 손실로 판단하면 이 설정은 정규화된 GRU만 사용하는 것만큼 좋지는 않지만 훨씬 빠릅니다. 두 배 더 많은 데이터를 조사하고 있는데, 이 경우에는 큰 도움이 되지 않는 것처럼 보이지만 다른 데이터 세트에는 중요할 수 있습니다."
      ]
    },
    {
      "cell_type": "markdown",
      "metadata": {
        "id": "bHbTzaSuaNQm"
      },
      "source": [
        "## Wrapping up\n",
        "\n",
        "2D 컨브넷이 2D 공간의 시각적 패턴을 처리하는 데 효과적인 것처럼, 1D 컨브넷도 시간 패턴을 처리하는 데 효과적입니다. 이는 일부 문제, 특히 자연어 처리 작업에 대해 RNN에 대한 더 빠른 대안을 제공합니다.\n",
        "\n",
        "일반적으로 1D 컨브넷은 컴퓨터 비전 세계의 2D 컨브넷과 매우 유사하게 구조화됩니다. 이는 layer_conv_1d()및 layer_max_pooling_1d()스택으로 consst 글로벌 풀링 작업 또는 평면화 작업으로 끝납니다.\n",
        "\n",
        "RNN은 매우 긴 시퀀스를 처리하는 데 매우 비용이 많이 들지만 1D 컨브넷은 저렴하기 때문에 RNN 전 전처리 단계로 1D 컨브넷을 사용하여 시퀀스를 단축하고 RNN이 처리할 유용한 표현을 추출하는 것이 좋습니다."
      ]
    }
  ],
  "metadata": {
    "kernelspec": {
      "display_name": "Python 3",
      "language": "python",
      "name": "python3"
    },
    "language_info": {
      "codemirror_mode": {
        "name": "ipython",
        "version": 3
      },
      "file_extension": ".py",
      "mimetype": "text/x-python",
      "name": "python",
      "nbconvert_exporter": "python",
      "pygments_lexer": "ipython3",
      "version": "3.5.2"
    },
    "colab": {
      "provenance": [],
      "include_colab_link": true
    }
  },
  "nbformat": 4,
  "nbformat_minor": 0
}